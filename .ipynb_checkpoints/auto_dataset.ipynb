{
 "cells": [
  {
   "cell_type": "markdown",
   "id": "9dde2b75",
   "metadata": {},
   "source": [
    "# LINEAR REGRESSION- AUTO DATASET"
   ]
  },
  {
   "cell_type": "code",
   "execution_count": 2,
   "id": "8c675436",
   "metadata": {},
   "outputs": [],
   "source": [
    "import numpy as np\n",
    "import pandas as pd\n",
    "\n",
    "import matplotlib.pyplot as plt\n",
    "import seaborn as sns\n",
    "\n",
    "from statsmodels.stats.outliers_influence import variance_inflation_factor\n",
    "\n",
    "from sklearn.model_selection import train_test_split\n",
    "from sklearn.linear_model import LinearRegression\n",
    "\n",
    "from sklearn.metrics import mean_squared_error,mean_absolute_error,r2_score\n",
    "\n",
    "from scipy.stats import skew,zscore\n",
    "\n",
    "import warnings\n",
    "warnings.filterwarnings(\"ignore\")"
   ]
  },
  {
   "cell_type": "markdown",
   "id": "05d9b421",
   "metadata": {},
   "source": [
    "## PROBLEM STATEMENT :-"
   ]
  },
  {
   "cell_type": "raw",
   "id": "ef6321d8",
   "metadata": {},
   "source": [
    " The GOAL is to build a linear regression model that can accurately predict the price of a car."
   ]
  },
  {
   "cell_type": "markdown",
   "id": "d5306ffe",
   "metadata": {},
   "source": [
    "## DATA GATHERING :-"
   ]
  },
  {
   "cell_type": "code",
   "execution_count": 3,
   "id": "9655af87",
   "metadata": {},
   "outputs": [
    {
     "data": {
      "text/html": [
       "<div>\n",
       "<style scoped>\n",
       "    .dataframe tbody tr th:only-of-type {\n",
       "        vertical-align: middle;\n",
       "    }\n",
       "\n",
       "    .dataframe tbody tr th {\n",
       "        vertical-align: top;\n",
       "    }\n",
       "\n",
       "    .dataframe thead th {\n",
       "        text-align: right;\n",
       "    }\n",
       "</style>\n",
       "<table border=\"1\" class=\"dataframe\">\n",
       "  <thead>\n",
       "    <tr style=\"text-align: right;\">\n",
       "      <th></th>\n",
       "      <th>symboling</th>\n",
       "      <th>normalized-losses</th>\n",
       "      <th>make</th>\n",
       "      <th>fuel-type</th>\n",
       "      <th>aspiration</th>\n",
       "      <th>num-of-doors</th>\n",
       "      <th>body-style</th>\n",
       "      <th>drive-wheels</th>\n",
       "      <th>engine-location</th>\n",
       "      <th>wheel-base</th>\n",
       "      <th>...</th>\n",
       "      <th>engine-size</th>\n",
       "      <th>fuel-system</th>\n",
       "      <th>bore</th>\n",
       "      <th>stroke</th>\n",
       "      <th>compression-ratio</th>\n",
       "      <th>horsepower</th>\n",
       "      <th>peak-rpm</th>\n",
       "      <th>city-mpg</th>\n",
       "      <th>highway-mpg</th>\n",
       "      <th>price</th>\n",
       "    </tr>\n",
       "  </thead>\n",
       "  <tbody>\n",
       "    <tr>\n",
       "      <th>0</th>\n",
       "      <td>3</td>\n",
       "      <td>?</td>\n",
       "      <td>alfa-romero</td>\n",
       "      <td>gas</td>\n",
       "      <td>std</td>\n",
       "      <td>two</td>\n",
       "      <td>convertible</td>\n",
       "      <td>rwd</td>\n",
       "      <td>front</td>\n",
       "      <td>88.6</td>\n",
       "      <td>...</td>\n",
       "      <td>130</td>\n",
       "      <td>mpfi</td>\n",
       "      <td>3.47</td>\n",
       "      <td>2.68</td>\n",
       "      <td>9.0</td>\n",
       "      <td>111</td>\n",
       "      <td>5000</td>\n",
       "      <td>21</td>\n",
       "      <td>27</td>\n",
       "      <td>13495</td>\n",
       "    </tr>\n",
       "    <tr>\n",
       "      <th>1</th>\n",
       "      <td>3</td>\n",
       "      <td>?</td>\n",
       "      <td>alfa-romero</td>\n",
       "      <td>gas</td>\n",
       "      <td>std</td>\n",
       "      <td>two</td>\n",
       "      <td>convertible</td>\n",
       "      <td>rwd</td>\n",
       "      <td>front</td>\n",
       "      <td>88.6</td>\n",
       "      <td>...</td>\n",
       "      <td>130</td>\n",
       "      <td>mpfi</td>\n",
       "      <td>3.47</td>\n",
       "      <td>2.68</td>\n",
       "      <td>9.0</td>\n",
       "      <td>111</td>\n",
       "      <td>5000</td>\n",
       "      <td>21</td>\n",
       "      <td>27</td>\n",
       "      <td>16500</td>\n",
       "    </tr>\n",
       "    <tr>\n",
       "      <th>2</th>\n",
       "      <td>1</td>\n",
       "      <td>?</td>\n",
       "      <td>alfa-romero</td>\n",
       "      <td>gas</td>\n",
       "      <td>std</td>\n",
       "      <td>two</td>\n",
       "      <td>hatchback</td>\n",
       "      <td>rwd</td>\n",
       "      <td>front</td>\n",
       "      <td>94.5</td>\n",
       "      <td>...</td>\n",
       "      <td>152</td>\n",
       "      <td>mpfi</td>\n",
       "      <td>2.68</td>\n",
       "      <td>3.47</td>\n",
       "      <td>9.0</td>\n",
       "      <td>154</td>\n",
       "      <td>5000</td>\n",
       "      <td>19</td>\n",
       "      <td>26</td>\n",
       "      <td>16500</td>\n",
       "    </tr>\n",
       "    <tr>\n",
       "      <th>3</th>\n",
       "      <td>2</td>\n",
       "      <td>164</td>\n",
       "      <td>audi</td>\n",
       "      <td>gas</td>\n",
       "      <td>std</td>\n",
       "      <td>four</td>\n",
       "      <td>sedan</td>\n",
       "      <td>fwd</td>\n",
       "      <td>front</td>\n",
       "      <td>99.8</td>\n",
       "      <td>...</td>\n",
       "      <td>109</td>\n",
       "      <td>mpfi</td>\n",
       "      <td>3.19</td>\n",
       "      <td>3.4</td>\n",
       "      <td>10.0</td>\n",
       "      <td>102</td>\n",
       "      <td>5500</td>\n",
       "      <td>24</td>\n",
       "      <td>30</td>\n",
       "      <td>13950</td>\n",
       "    </tr>\n",
       "    <tr>\n",
       "      <th>4</th>\n",
       "      <td>2</td>\n",
       "      <td>164</td>\n",
       "      <td>audi</td>\n",
       "      <td>gas</td>\n",
       "      <td>std</td>\n",
       "      <td>four</td>\n",
       "      <td>sedan</td>\n",
       "      <td>4wd</td>\n",
       "      <td>front</td>\n",
       "      <td>99.4</td>\n",
       "      <td>...</td>\n",
       "      <td>136</td>\n",
       "      <td>mpfi</td>\n",
       "      <td>3.19</td>\n",
       "      <td>3.4</td>\n",
       "      <td>8.0</td>\n",
       "      <td>115</td>\n",
       "      <td>5500</td>\n",
       "      <td>18</td>\n",
       "      <td>22</td>\n",
       "      <td>17450</td>\n",
       "    </tr>\n",
       "    <tr>\n",
       "      <th>...</th>\n",
       "      <td>...</td>\n",
       "      <td>...</td>\n",
       "      <td>...</td>\n",
       "      <td>...</td>\n",
       "      <td>...</td>\n",
       "      <td>...</td>\n",
       "      <td>...</td>\n",
       "      <td>...</td>\n",
       "      <td>...</td>\n",
       "      <td>...</td>\n",
       "      <td>...</td>\n",
       "      <td>...</td>\n",
       "      <td>...</td>\n",
       "      <td>...</td>\n",
       "      <td>...</td>\n",
       "      <td>...</td>\n",
       "      <td>...</td>\n",
       "      <td>...</td>\n",
       "      <td>...</td>\n",
       "      <td>...</td>\n",
       "      <td>...</td>\n",
       "    </tr>\n",
       "    <tr>\n",
       "      <th>200</th>\n",
       "      <td>-1</td>\n",
       "      <td>95</td>\n",
       "      <td>volvo</td>\n",
       "      <td>gas</td>\n",
       "      <td>std</td>\n",
       "      <td>four</td>\n",
       "      <td>sedan</td>\n",
       "      <td>rwd</td>\n",
       "      <td>front</td>\n",
       "      <td>109.1</td>\n",
       "      <td>...</td>\n",
       "      <td>141</td>\n",
       "      <td>mpfi</td>\n",
       "      <td>3.78</td>\n",
       "      <td>3.15</td>\n",
       "      <td>9.5</td>\n",
       "      <td>114</td>\n",
       "      <td>5400</td>\n",
       "      <td>23</td>\n",
       "      <td>28</td>\n",
       "      <td>16845</td>\n",
       "    </tr>\n",
       "    <tr>\n",
       "      <th>201</th>\n",
       "      <td>-1</td>\n",
       "      <td>95</td>\n",
       "      <td>volvo</td>\n",
       "      <td>gas</td>\n",
       "      <td>turbo</td>\n",
       "      <td>four</td>\n",
       "      <td>sedan</td>\n",
       "      <td>rwd</td>\n",
       "      <td>front</td>\n",
       "      <td>109.1</td>\n",
       "      <td>...</td>\n",
       "      <td>141</td>\n",
       "      <td>mpfi</td>\n",
       "      <td>3.78</td>\n",
       "      <td>3.15</td>\n",
       "      <td>8.7</td>\n",
       "      <td>160</td>\n",
       "      <td>5300</td>\n",
       "      <td>19</td>\n",
       "      <td>25</td>\n",
       "      <td>19045</td>\n",
       "    </tr>\n",
       "    <tr>\n",
       "      <th>202</th>\n",
       "      <td>-1</td>\n",
       "      <td>95</td>\n",
       "      <td>volvo</td>\n",
       "      <td>gas</td>\n",
       "      <td>std</td>\n",
       "      <td>four</td>\n",
       "      <td>sedan</td>\n",
       "      <td>rwd</td>\n",
       "      <td>front</td>\n",
       "      <td>109.1</td>\n",
       "      <td>...</td>\n",
       "      <td>173</td>\n",
       "      <td>mpfi</td>\n",
       "      <td>3.58</td>\n",
       "      <td>2.87</td>\n",
       "      <td>8.8</td>\n",
       "      <td>134</td>\n",
       "      <td>5500</td>\n",
       "      <td>18</td>\n",
       "      <td>23</td>\n",
       "      <td>21485</td>\n",
       "    </tr>\n",
       "    <tr>\n",
       "      <th>203</th>\n",
       "      <td>-1</td>\n",
       "      <td>95</td>\n",
       "      <td>volvo</td>\n",
       "      <td>diesel</td>\n",
       "      <td>turbo</td>\n",
       "      <td>four</td>\n",
       "      <td>sedan</td>\n",
       "      <td>rwd</td>\n",
       "      <td>front</td>\n",
       "      <td>109.1</td>\n",
       "      <td>...</td>\n",
       "      <td>145</td>\n",
       "      <td>idi</td>\n",
       "      <td>3.01</td>\n",
       "      <td>3.4</td>\n",
       "      <td>23.0</td>\n",
       "      <td>106</td>\n",
       "      <td>4800</td>\n",
       "      <td>26</td>\n",
       "      <td>27</td>\n",
       "      <td>22470</td>\n",
       "    </tr>\n",
       "    <tr>\n",
       "      <th>204</th>\n",
       "      <td>-1</td>\n",
       "      <td>95</td>\n",
       "      <td>volvo</td>\n",
       "      <td>gas</td>\n",
       "      <td>turbo</td>\n",
       "      <td>four</td>\n",
       "      <td>sedan</td>\n",
       "      <td>rwd</td>\n",
       "      <td>front</td>\n",
       "      <td>109.1</td>\n",
       "      <td>...</td>\n",
       "      <td>141</td>\n",
       "      <td>mpfi</td>\n",
       "      <td>3.78</td>\n",
       "      <td>3.15</td>\n",
       "      <td>9.5</td>\n",
       "      <td>114</td>\n",
       "      <td>5400</td>\n",
       "      <td>19</td>\n",
       "      <td>25</td>\n",
       "      <td>22625</td>\n",
       "    </tr>\n",
       "  </tbody>\n",
       "</table>\n",
       "<p>205 rows × 26 columns</p>\n",
       "</div>"
      ],
      "text/plain": [
       "     symboling normalized-losses         make fuel-type aspiration  \\\n",
       "0            3                 ?  alfa-romero       gas        std   \n",
       "1            3                 ?  alfa-romero       gas        std   \n",
       "2            1                 ?  alfa-romero       gas        std   \n",
       "3            2               164         audi       gas        std   \n",
       "4            2               164         audi       gas        std   \n",
       "..         ...               ...          ...       ...        ...   \n",
       "200         -1                95        volvo       gas        std   \n",
       "201         -1                95        volvo       gas      turbo   \n",
       "202         -1                95        volvo       gas        std   \n",
       "203         -1                95        volvo    diesel      turbo   \n",
       "204         -1                95        volvo       gas      turbo   \n",
       "\n",
       "    num-of-doors   body-style drive-wheels engine-location  wheel-base  ...  \\\n",
       "0            two  convertible          rwd           front        88.6  ...   \n",
       "1            two  convertible          rwd           front        88.6  ...   \n",
       "2            two    hatchback          rwd           front        94.5  ...   \n",
       "3           four        sedan          fwd           front        99.8  ...   \n",
       "4           four        sedan          4wd           front        99.4  ...   \n",
       "..           ...          ...          ...             ...         ...  ...   \n",
       "200         four        sedan          rwd           front       109.1  ...   \n",
       "201         four        sedan          rwd           front       109.1  ...   \n",
       "202         four        sedan          rwd           front       109.1  ...   \n",
       "203         four        sedan          rwd           front       109.1  ...   \n",
       "204         four        sedan          rwd           front       109.1  ...   \n",
       "\n",
       "     engine-size  fuel-system  bore  stroke compression-ratio horsepower  \\\n",
       "0            130         mpfi  3.47    2.68               9.0        111   \n",
       "1            130         mpfi  3.47    2.68               9.0        111   \n",
       "2            152         mpfi  2.68    3.47               9.0        154   \n",
       "3            109         mpfi  3.19     3.4              10.0        102   \n",
       "4            136         mpfi  3.19     3.4               8.0        115   \n",
       "..           ...          ...   ...     ...               ...        ...   \n",
       "200          141         mpfi  3.78    3.15               9.5        114   \n",
       "201          141         mpfi  3.78    3.15               8.7        160   \n",
       "202          173         mpfi  3.58    2.87               8.8        134   \n",
       "203          145          idi  3.01     3.4              23.0        106   \n",
       "204          141         mpfi  3.78    3.15               9.5        114   \n",
       "\n",
       "     peak-rpm city-mpg highway-mpg  price  \n",
       "0        5000       21          27  13495  \n",
       "1        5000       21          27  16500  \n",
       "2        5000       19          26  16500  \n",
       "3        5500       24          30  13950  \n",
       "4        5500       18          22  17450  \n",
       "..        ...      ...         ...    ...  \n",
       "200      5400       23          28  16845  \n",
       "201      5300       19          25  19045  \n",
       "202      5500       18          23  21485  \n",
       "203      4800       26          27  22470  \n",
       "204      5400       19          25  22625  \n",
       "\n",
       "[205 rows x 26 columns]"
      ]
     },
     "execution_count": 3,
     "metadata": {},
     "output_type": "execute_result"
    }
   ],
   "source": [
    "df = pd.read_csv(\"autos_dataset.csv\")\n",
    "df"
   ]
  },
  {
   "cell_type": "code",
   "execution_count": 4,
   "id": "efc810d5",
   "metadata": {},
   "outputs": [],
   "source": [
    "# 205 rows × 26 columns"
   ]
  },
  {
   "cell_type": "markdown",
   "id": "ee81df98",
   "metadata": {},
   "source": [
    "## EXPLORATORY DATA ANALYSIS AND FEATURE ENGINEERING :-"
   ]
  },
  {
   "cell_type": "markdown",
   "id": "2d51e2dd",
   "metadata": {},
   "source": [
    "### EXPLORATORY DATA ANALYSIS"
   ]
  },
  {
   "cell_type": "code",
   "execution_count": 5,
   "id": "f29002c9",
   "metadata": {},
   "outputs": [
    {
     "name": "stdout",
     "output_type": "stream",
     "text": [
      "<class 'pandas.core.frame.DataFrame'>\n",
      "RangeIndex: 205 entries, 0 to 204\n",
      "Data columns (total 26 columns):\n",
      " #   Column             Non-Null Count  Dtype  \n",
      "---  ------             --------------  -----  \n",
      " 0   symboling          205 non-null    int64  \n",
      " 1   normalized-losses  205 non-null    object \n",
      " 2   make               205 non-null    object \n",
      " 3   fuel-type          205 non-null    object \n",
      " 4   aspiration         205 non-null    object \n",
      " 5   num-of-doors       205 non-null    object \n",
      " 6   body-style         205 non-null    object \n",
      " 7   drive-wheels       205 non-null    object \n",
      " 8   engine-location    205 non-null    object \n",
      " 9   wheel-base         205 non-null    float64\n",
      " 10  length             205 non-null    float64\n",
      " 11  width              205 non-null    float64\n",
      " 12  height             205 non-null    float64\n",
      " 13  curb-weight        205 non-null    int64  \n",
      " 14  engine-type        205 non-null    object \n",
      " 15  num-of-cylinders   205 non-null    object \n",
      " 16  engine-size        205 non-null    int64  \n",
      " 17  fuel-system        205 non-null    object \n",
      " 18  bore               205 non-null    object \n",
      " 19  stroke             205 non-null    object \n",
      " 20  compression-ratio  205 non-null    float64\n",
      " 21  horsepower         205 non-null    object \n",
      " 22  peak-rpm           205 non-null    object \n",
      " 23  city-mpg           205 non-null    int64  \n",
      " 24  highway-mpg        205 non-null    int64  \n",
      " 25  price              205 non-null    object \n",
      "dtypes: float64(5), int64(5), object(16)\n",
      "memory usage: 41.8+ KB\n"
     ]
    }
   ],
   "source": [
    "df.info()"
   ]
  },
  {
   "cell_type": "code",
   "execution_count": 6,
   "id": "e9556a82",
   "metadata": {},
   "outputs": [
    {
     "data": {
      "text/plain": [
       "Index(['symboling', 'normalized-losses', 'make', 'fuel-type', 'aspiration',\n",
       "       'num-of-doors', 'body-style', 'drive-wheels', 'engine-location',\n",
       "       'wheel-base', 'length', 'width', 'height', 'curb-weight', 'engine-type',\n",
       "       'num-of-cylinders', 'engine-size', 'fuel-system', 'bore', 'stroke',\n",
       "       'compression-ratio', 'horsepower', 'peak-rpm', 'city-mpg',\n",
       "       'highway-mpg', 'price'],\n",
       "      dtype='object')"
      ]
     },
     "execution_count": 6,
     "metadata": {},
     "output_type": "execute_result"
    }
   ],
   "source": [
    "df.columns"
   ]
  },
  {
   "cell_type": "code",
   "execution_count": 7,
   "id": "6b9577e7",
   "metadata": {},
   "outputs": [
    {
     "data": {
      "text/plain": [
       "symboling            0\n",
       "normalized-losses    0\n",
       "make                 0\n",
       "fuel-type            0\n",
       "aspiration           0\n",
       "num-of-doors         0\n",
       "body-style           0\n",
       "drive-wheels         0\n",
       "engine-location      0\n",
       "wheel-base           0\n",
       "length               0\n",
       "width                0\n",
       "height               0\n",
       "curb-weight          0\n",
       "engine-type          0\n",
       "num-of-cylinders     0\n",
       "engine-size          0\n",
       "fuel-system          0\n",
       "bore                 0\n",
       "stroke               0\n",
       "compression-ratio    0\n",
       "horsepower           0\n",
       "peak-rpm             0\n",
       "city-mpg             0\n",
       "highway-mpg          0\n",
       "price                0\n",
       "dtype: int64"
      ]
     },
     "execution_count": 7,
     "metadata": {},
     "output_type": "execute_result"
    }
   ],
   "source": [
    "df.isna().sum()"
   ]
  },
  {
   "cell_type": "code",
   "execution_count": 8,
   "id": "e743579d",
   "metadata": {},
   "outputs": [
    {
     "name": "stdout",
     "output_type": "stream",
     "text": [
      "<class 'pandas.core.frame.DataFrame'>\n",
      "RangeIndex: 205 entries, 0 to 204\n",
      "Data columns (total 16 columns):\n",
      " #   Column             Non-Null Count  Dtype \n",
      "---  ------             --------------  ----- \n",
      " 0   normalized-losses  205 non-null    object\n",
      " 1   make               205 non-null    object\n",
      " 2   fuel-type          205 non-null    object\n",
      " 3   aspiration         205 non-null    object\n",
      " 4   num-of-doors       205 non-null    object\n",
      " 5   body-style         205 non-null    object\n",
      " 6   drive-wheels       205 non-null    object\n",
      " 7   engine-location    205 non-null    object\n",
      " 8   engine-type        205 non-null    object\n",
      " 9   num-of-cylinders   205 non-null    object\n",
      " 10  fuel-system        205 non-null    object\n",
      " 11  bore               205 non-null    object\n",
      " 12  stroke             205 non-null    object\n",
      " 13  horsepower         205 non-null    object\n",
      " 14  peak-rpm           205 non-null    object\n",
      " 15  price              205 non-null    object\n",
      "dtypes: object(16)\n",
      "memory usage: 25.8+ KB\n"
     ]
    }
   ],
   "source": [
    "df.select_dtypes(include=['object']).info()   # need to convert all features in numerical type"
   ]
  },
  {
   "cell_type": "code",
   "execution_count": 9,
   "id": "f888a250",
   "metadata": {},
   "outputs": [
    {
     "data": {
      "text/plain": [
       "<AxesSubplot:>"
      ]
     },
     "execution_count": 9,
     "metadata": {},
     "output_type": "execute_result"
    },
    {
     "data": {
      "image/png": "[encoded data removed]",
      "text/plain": [
       "<Figure size 1500x500 with 1 Axes>"
      ]
     },
     "metadata": {},
     "output_type": "display_data"
    }
   ],
   "source": [
    "plt.figure(figsize=(15,5))\n",
    "df.boxplot()"
   ]
  },
  {
   "cell_type": "markdown",
   "id": "efdca3d5",
   "metadata": {},
   "source": [
    "### 1. Symboling"
   ]
  },
  {
   "cell_type": "markdown",
   "id": "302b5fec",
   "metadata": {},
   "source": [
    "####  EDA"
   ]
  },
  {
   "cell_type": "code",
   "execution_count": 10,
   "id": "ddf99bd0",
   "metadata": {},
   "outputs": [
    {
     "data": {
      "text/plain": [
       "0      3\n",
       "1      3\n",
       "2      1\n",
       "3      2\n",
       "4      2\n",
       "      ..\n",
       "200   -1\n",
       "201   -1\n",
       "202   -1\n",
       "203   -1\n",
       "204   -1\n",
       "Name: symboling, Length: 205, dtype: int64"
      ]
     },
     "execution_count": 10,
     "metadata": {},
     "output_type": "execute_result"
    }
   ],
   "source": [
    "df['symboling']"
   ]
  },
  {
   "cell_type": "code",
   "execution_count": 11,
   "id": "caffe165",
   "metadata": {},
   "outputs": [
    {
     "data": {
      "text/plain": [
       "array([ 3,  1,  2,  0, -1, -2], dtype=int64)"
      ]
     },
     "execution_count": 11,
     "metadata": {},
     "output_type": "execute_result"
    }
   ],
   "source": [
    "df['symboling'].unique()   # no missing values and datatpe is also int"
   ]
  },
  {
   "cell_type": "code",
   "execution_count": 12,
   "id": "0816a26a",
   "metadata": {},
   "outputs": [
    {
     "data": {
      "text/plain": [
       " 0    67\n",
       " 1    54\n",
       " 2    32\n",
       " 3    27\n",
       "-1    22\n",
       "-2     3\n",
       "Name: symboling, dtype: int64"
      ]
     },
     "execution_count": 12,
     "metadata": {},
     "output_type": "execute_result"
    }
   ],
   "source": [
    "df['symboling'].value_counts()"
   ]
  },
  {
   "cell_type": "code",
   "execution_count": 13,
   "id": "5f77e485",
   "metadata": {},
   "outputs": [
    {
     "data": {
      "text/plain": [
       "<AxesSubplot:xlabel='symboling'>"
      ]
     },
     "execution_count": 13,
     "metadata": {},
     "output_type": "execute_result"
    },
    {
     "data": {
      "image/png": "[encoded data removed]",
      "text/plain": [
       "<Figure size 500x200 with 1 Axes>"
      ]
     },
     "metadata": {},
     "output_type": "display_data"
    }
   ],
   "source": [
    "plt.figure(figsize=(5,2))\n",
    "sns.boxplot(x = df['symboling'])    # No outlires are present"
   ]
  },
  {
   "cell_type": "markdown",
   "id": "ad421221",
   "metadata": {},
   "source": [
    "#### FEATURE ENGINEERING"
   ]
  },
  {
   "cell_type": "code",
   "execution_count": 14,
   "id": "ce4e9d51",
   "metadata": {},
   "outputs": [],
   "source": [
    "# As no NAN valuse and no outilires-->no need to preproceed data"
   ]
  },
  {
   "cell_type": "code",
   "execution_count": 15,
   "id": "7df79f1a",
   "metadata": {},
   "outputs": [
    {
     "name": "stdout",
     "output_type": "stream",
     "text": [
      "<class 'pandas.core.frame.DataFrame'>\n",
      "RangeIndex: 205 entries, 0 to 204\n",
      "Data columns (total 26 columns):\n",
      " #   Column             Non-Null Count  Dtype  \n",
      "---  ------             --------------  -----  \n",
      " 0   symboling          205 non-null    int64  \n",
      " 1   normalized-losses  205 non-null    object \n",
      " 2   make               205 non-null    object \n",
      " 3   fuel-type          205 non-null    object \n",
      " 4   aspiration         205 non-null    object \n",
      " 5   num-of-doors       205 non-null    object \n",
      " 6   body-style         205 non-null    object \n",
      " 7   drive-wheels       205 non-null    object \n",
      " 8   engine-location    205 non-null    object \n",
      " 9   wheel-base         205 non-null    float64\n",
      " 10  length             205 non-null    float64\n",
      " 11  width              205 non-null    float64\n",
      " 12  height             205 non-null    float64\n",
      " 13  curb-weight        205 non-null    int64  \n",
      " 14  engine-type        205 non-null    object \n",
      " 15  num-of-cylinders   205 non-null    object \n",
      " 16  engine-size        205 non-null    int64  \n",
      " 17  fuel-system        205 non-null    object \n",
      " 18  bore               205 non-null    object \n",
      " 19  stroke             205 non-null    object \n",
      " 20  compression-ratio  205 non-null    float64\n",
      " 21  horsepower         205 non-null    object \n",
      " 22  peak-rpm           205 non-null    object \n",
      " 23  city-mpg           205 non-null    int64  \n",
      " 24  highway-mpg        205 non-null    int64  \n",
      " 25  price              205 non-null    object \n",
      "dtypes: float64(5), int64(5), object(16)\n",
      "memory usage: 41.8+ KB\n"
     ]
    }
   ],
   "source": [
    "df.info()"
   ]
  },
  {
   "cell_type": "markdown",
   "id": "f90d1bf9",
   "metadata": {},
   "source": [
    "###  2. normalized-losses :- "
   ]
  },
  {
   "cell_type": "code",
   "execution_count": 16,
   "id": "c5fc9b0e",
   "metadata": {},
   "outputs": [
    {
     "data": {
      "text/plain": [
       "0        ?\n",
       "1        ?\n",
       "2        ?\n",
       "3      164\n",
       "4      164\n",
       "      ... \n",
       "200     95\n",
       "201     95\n",
       "202     95\n",
       "203     95\n",
       "204     95\n",
       "Name: normalized-losses, Length: 205, dtype: object"
      ]
     },
     "execution_count": 16,
     "metadata": {},
     "output_type": "execute_result"
    }
   ],
   "source": [
    "df['normalized-losses'] # '?' should be in whole dataset"
   ]
  },
  {
   "cell_type": "code",
   "execution_count": 17,
   "id": "a58dc71b",
   "metadata": {},
   "outputs": [
    {
     "data": {
      "text/plain": [
       "array(['?', '164', '158', '192', '188', '121', '98', '81', '118', '148',\n",
       "       '110', '145', '137', '101', '78', '106', '85', '107', '104', '113',\n",
       "       '150', '129', '115', '93', '142', '161', '153', '125', '128',\n",
       "       '122', '103', '168', '108', '194', '231', '119', '154', '74',\n",
       "       '186', '83', '102', '89', '87', '77', '91', '134', '65', '197',\n",
       "       '90', '94', '256', '95'], dtype=object)"
      ]
     },
     "execution_count": 17,
     "metadata": {},
     "output_type": "execute_result"
    }
   ],
   "source": [
    "df['normalized-losses'].unique()"
   ]
  },
  {
   "cell_type": "code",
   "execution_count": 18,
   "id": "55549f79",
   "metadata": {},
   "outputs": [
    {
     "data": {
      "text/plain": [
       "?      41\n",
       "161    11\n",
       "91      8\n",
       "150     7\n",
       "134     6\n",
       "128     6\n",
       "104     6\n",
       "85      5\n",
       "94      5\n",
       "65      5\n",
       "102     5\n",
       "74      5\n",
       "168     5\n",
       "103     5\n",
       "95      5\n",
       "106     4\n",
       "93      4\n",
       "118     4\n",
       "148     4\n",
       "122     4\n",
       "83      3\n",
       "125     3\n",
       "154     3\n",
       "115     3\n",
       "137     3\n",
       "101     3\n",
       "119     2\n",
       "87      2\n",
       "89      2\n",
       "192     2\n",
       "197     2\n",
       "158     2\n",
       "81      2\n",
       "188     2\n",
       "194     2\n",
       "153     2\n",
       "129     2\n",
       "108     2\n",
       "110     2\n",
       "164     2\n",
       "145     2\n",
       "113     2\n",
       "256     1\n",
       "107     1\n",
       "90      1\n",
       "231     1\n",
       "142     1\n",
       "121     1\n",
       "78      1\n",
       "98      1\n",
       "186     1\n",
       "77      1\n",
       "Name: normalized-losses, dtype: int64"
      ]
     },
     "execution_count": 18,
     "metadata": {},
     "output_type": "execute_result"
    }
   ],
   "source": [
    "df['normalized-losses'].value_counts()"
   ]
  },
  {
   "cell_type": "code",
   "execution_count": 19,
   "id": "e2dc8f5b",
   "metadata": {},
   "outputs": [],
   "source": [
    "df.replace({\"?\":np.nan},inplace=True) # \"?\" replace with NAN valuse in whole dataset"
   ]
  },
  {
   "cell_type": "code",
   "execution_count": 20,
   "id": "b62e025f",
   "metadata": {},
   "outputs": [
    {
     "data": {
      "text/plain": [
       "symboling             0\n",
       "normalized-losses    41\n",
       "make                  0\n",
       "fuel-type             0\n",
       "aspiration            0\n",
       "num-of-doors          2\n",
       "body-style            0\n",
       "drive-wheels          0\n",
       "engine-location       0\n",
       "wheel-base            0\n",
       "length                0\n",
       "width                 0\n",
       "height                0\n",
       "curb-weight           0\n",
       "engine-type           0\n",
       "num-of-cylinders      0\n",
       "engine-size           0\n",
       "fuel-system           0\n",
       "bore                  4\n",
       "stroke                4\n",
       "compression-ratio     0\n",
       "horsepower            2\n",
       "peak-rpm              2\n",
       "city-mpg              0\n",
       "highway-mpg           0\n",
       "price                 4\n",
       "dtype: int64"
      ]
     },
     "execution_count": 20,
     "metadata": {},
     "output_type": "execute_result"
    }
   ],
   "source": [
    "df.isna().sum()"
   ]
  },
  {
   "cell_type": "code",
   "execution_count": 21,
   "id": "de24113b",
   "metadata": {},
   "outputs": [
    {
     "name": "stdout",
     "output_type": "stream",
     "text": [
      "<class 'pandas.core.frame.DataFrame'>\n",
      "RangeIndex: 205 entries, 0 to 204\n",
      "Data columns (total 26 columns):\n",
      " #   Column             Non-Null Count  Dtype  \n",
      "---  ------             --------------  -----  \n",
      " 0   symboling          205 non-null    int64  \n",
      " 1   normalized-losses  164 non-null    object \n",
      " 2   make               205 non-null    object \n",
      " 3   fuel-type          205 non-null    object \n",
      " 4   aspiration         205 non-null    object \n",
      " 5   num-of-doors       203 non-null    object \n",
      " 6   body-style         205 non-null    object \n",
      " 7   drive-wheels       205 non-null    object \n",
      " 8   engine-location    205 non-null    object \n",
      " 9   wheel-base         205 non-null    float64\n",
      " 10  length             205 non-null    float64\n",
      " 11  width              205 non-null    float64\n",
      " 12  height             205 non-null    float64\n",
      " 13  curb-weight        205 non-null    int64  \n",
      " 14  engine-type        205 non-null    object \n",
      " 15  num-of-cylinders   205 non-null    object \n",
      " 16  engine-size        205 non-null    int64  \n",
      " 17  fuel-system        205 non-null    object \n",
      " 18  bore               201 non-null    object \n",
      " 19  stroke             201 non-null    object \n",
      " 20  compression-ratio  205 non-null    float64\n",
      " 21  horsepower         203 non-null    object \n",
      " 22  peak-rpm           203 non-null    object \n",
      " 23  city-mpg           205 non-null    int64  \n",
      " 24  highway-mpg        205 non-null    int64  \n",
      " 25  price              201 non-null    object \n",
      "dtypes: float64(5), int64(5), object(16)\n",
      "memory usage: 41.8+ KB\n"
     ]
    }
   ],
   "source": [
    "df.info()"
   ]
  },
  {
   "cell_type": "code",
   "execution_count": 22,
   "id": "3e4199f7",
   "metadata": {},
   "outputs": [
    {
     "data": {
      "text/plain": [
       "array([nan, '164', '158', '192', '188', '121', '98', '81', '118', '148',\n",
       "       '110', '145', '137', '101', '78', '106', '85', '107', '104', '113',\n",
       "       '150', '129', '115', '93', '142', '161', '153', '125', '128',\n",
       "       '122', '103', '168', '108', '194', '231', '119', '154', '74',\n",
       "       '186', '83', '102', '89', '87', '77', '91', '134', '65', '197',\n",
       "       '90', '94', '256', '95'], dtype=object)"
      ]
     },
     "execution_count": 22,
     "metadata": {},
     "output_type": "execute_result"
    }
   ],
   "source": [
    "df['normalized-losses'].unique() # Datatpe is still object. After replace it with NAN value it should have been float."
   ]
  },
  {
   "cell_type": "code",
   "execution_count": 23,
   "id": "a04a5f85",
   "metadata": {},
   "outputs": [],
   "source": [
    "df['normalized-losses'] = df['normalized-losses'].astype(float)   # Change it into float"
   ]
  },
  {
   "cell_type": "code",
   "execution_count": 24,
   "id": "c40d1c38",
   "metadata": {},
   "outputs": [
    {
     "data": {
      "text/plain": [
       "dtype('float64')"
      ]
     },
     "execution_count": 24,
     "metadata": {},
     "output_type": "execute_result"
    }
   ],
   "source": [
    "df['normalized-losses'].dtype"
   ]
  },
  {
   "cell_type": "code",
   "execution_count": 25,
   "id": "c4e28c32",
   "metadata": {},
   "outputs": [
    {
     "data": {
      "text/plain": [
       "122.0"
      ]
     },
     "execution_count": 25,
     "metadata": {},
     "output_type": "execute_result"
    }
   ],
   "source": [
    "df['normalized-losses'].mean()"
   ]
  },
  {
   "cell_type": "code",
   "execution_count": 26,
   "id": "c0aaec88",
   "metadata": {},
   "outputs": [
    {
     "data": {
      "text/plain": [
       "115.0"
      ]
     },
     "execution_count": 26,
     "metadata": {},
     "output_type": "execute_result"
    }
   ],
   "source": [
    "df['normalized-losses'].median()"
   ]
  },
  {
   "cell_type": "code",
   "execution_count": 27,
   "id": "be55899f",
   "metadata": {},
   "outputs": [],
   "source": [
    "# Feature engineering"
   ]
  },
  {
   "cell_type": "code",
   "execution_count": 28,
   "id": "84e2abf7",
   "metadata": {},
   "outputs": [],
   "source": [
    "df['normalized-losses'].fillna(df['normalized-losses'].median(),inplace=True)  # Replace NAN valuse with median"
   ]
  },
  {
   "cell_type": "code",
   "execution_count": 29,
   "id": "9a1d2bca",
   "metadata": {},
   "outputs": [
    {
     "data": {
      "text/plain": [
       "array([115., 164., 158., 192., 188., 121.,  98.,  81., 118., 148., 110.,\n",
       "       145., 137., 101.,  78., 106.,  85., 107., 104., 113., 150., 129.,\n",
       "        93., 142., 161., 153., 125., 128., 122., 103., 168., 108., 194.,\n",
       "       231., 119., 154.,  74., 186.,  83., 102.,  89.,  87.,  77.,  91.,\n",
       "       134.,  65., 197.,  90.,  94., 256.,  95.])"
      ]
     },
     "execution_count": 29,
     "metadata": {},
     "output_type": "execute_result"
    }
   ],
   "source": [
    "df['normalized-losses'].unique()"
   ]
  },
  {
   "cell_type": "code",
   "execution_count": 30,
   "id": "ddc9d8ab",
   "metadata": {},
   "outputs": [
    {
     "data": {
      "text/plain": [
       "0      115\n",
       "1      115\n",
       "2      115\n",
       "3      164\n",
       "4      164\n",
       "      ... \n",
       "200     95\n",
       "201     95\n",
       "202     95\n",
       "203     95\n",
       "204     95\n",
       "Name: normalized-losses, Length: 205, dtype: int32"
      ]
     },
     "execution_count": 30,
     "metadata": {},
     "output_type": "execute_result"
    }
   ],
   "source": [
    "df['normalized-losses'] = df['normalized-losses'].astype(int)\n",
    "df['normalized-losses']"
   ]
  },
  {
   "cell_type": "code",
   "execution_count": 31,
   "id": "df9ad1cf",
   "metadata": {},
   "outputs": [],
   "source": [
    "# Outlier Check"
   ]
  },
  {
   "cell_type": "code",
   "execution_count": 32,
   "id": "945ea231",
   "metadata": {},
   "outputs": [
    {
     "data": {
      "text/plain": [
       "<AxesSubplot:xlabel='normalized-losses'>"
      ]
     },
     "execution_count": 32,
     "metadata": {},
     "output_type": "execute_result"
    },
    {
     "data": {
      "image/png": "[encoded data removed]",
      "text/plain": [
       "<Figure size 500x200 with 1 Axes>"
      ]
     },
     "metadata": {},
     "output_type": "display_data"
    }
   ],
   "source": [
    "plt.figure(figsize=(5,2))\n",
    "sns.boxplot(x = df['normalized-losses']) # Outliers detected"
   ]
  },
  {
   "cell_type": "code",
   "execution_count": 33,
   "id": "7e37d5a1",
   "metadata": {},
   "outputs": [
    {
     "name": "stdout",
     "output_type": "stream",
     "text": [
      "upper_tail : 191.0\n",
      "lower_tail : 47.0\n"
     ]
    }
   ],
   "source": [
    "q1 = df['normalized-losses'].quantile(0.25)\n",
    "q2 = df['normalized-losses'].quantile(0.50)\n",
    "q3 = df['normalized-losses'].quantile(0.75)\n",
    "# median = df['normalized-losses'].median()\n",
    "\n",
    "iqr = q3 - q1\n",
    "\n",
    "upper_tail = q3 + 1.5 * iqr\n",
    "lower_tail = q1 - 1.5 * iqr\n",
    "\n",
    "# print(\"Q1 :\", q1)\n",
    "# print(\"Q2 :\", q2)\n",
    "# print(\"Q3 :\", q3)\n",
    "# print(\"Median :\",median)\n",
    "\n",
    "print(\"upper_tail :\", upper_tail)\n",
    "print(\"lower_tail :\", lower_tail)"
   ]
  },
  {
   "cell_type": "code",
   "execution_count": 34,
   "id": "7ecccbf8",
   "metadata": {},
   "outputs": [
    {
     "data": {
      "text/html": [
       "<div>\n",
       "<style scoped>\n",
       "    .dataframe tbody tr th:only-of-type {\n",
       "        vertical-align: middle;\n",
       "    }\n",
       "\n",
       "    .dataframe tbody tr th {\n",
       "        vertical-align: top;\n",
       "    }\n",
       "\n",
       "    .dataframe thead th {\n",
       "        text-align: right;\n",
       "    }\n",
       "</style>\n",
       "<table border=\"1\" class=\"dataframe\">\n",
       "  <thead>\n",
       "    <tr style=\"text-align: right;\">\n",
       "      <th></th>\n",
       "      <th>normalized-losses</th>\n",
       "    </tr>\n",
       "  </thead>\n",
       "  <tbody>\n",
       "    <tr>\n",
       "      <th>10</th>\n",
       "      <td>192</td>\n",
       "    </tr>\n",
       "    <tr>\n",
       "      <th>11</th>\n",
       "      <td>192</td>\n",
       "    </tr>\n",
       "    <tr>\n",
       "      <th>104</th>\n",
       "      <td>194</td>\n",
       "    </tr>\n",
       "    <tr>\n",
       "      <th>105</th>\n",
       "      <td>194</td>\n",
       "    </tr>\n",
       "    <tr>\n",
       "      <th>106</th>\n",
       "      <td>231</td>\n",
       "    </tr>\n",
       "    <tr>\n",
       "      <th>178</th>\n",
       "      <td>197</td>\n",
       "    </tr>\n",
       "    <tr>\n",
       "      <th>179</th>\n",
       "      <td>197</td>\n",
       "    </tr>\n",
       "    <tr>\n",
       "      <th>190</th>\n",
       "      <td>256</td>\n",
       "    </tr>\n",
       "  </tbody>\n",
       "</table>\n",
       "</div>"
      ],
      "text/plain": [
       "     normalized-losses\n",
       "10                 192\n",
       "11                 192\n",
       "104                194\n",
       "105                194\n",
       "106                231\n",
       "178                197\n",
       "179                197\n",
       "190                256"
      ]
     },
     "execution_count": 34,
     "metadata": {},
     "output_type": "execute_result"
    }
   ],
   "source": [
    "df[['normalized-losses']].loc[df['normalized-losses'] > upper_tail]"
   ]
  },
  {
   "cell_type": "code",
   "execution_count": 35,
   "id": "78bbfe6e",
   "metadata": {},
   "outputs": [
    {
     "data": {
      "text/html": [
       "<div>\n",
       "<style scoped>\n",
       "    .dataframe tbody tr th:only-of-type {\n",
       "        vertical-align: middle;\n",
       "    }\n",
       "\n",
       "    .dataframe tbody tr th {\n",
       "        vertical-align: top;\n",
       "    }\n",
       "\n",
       "    .dataframe thead th {\n",
       "        text-align: right;\n",
       "    }\n",
       "</style>\n",
       "<table border=\"1\" class=\"dataframe\">\n",
       "  <thead>\n",
       "    <tr style=\"text-align: right;\">\n",
       "      <th></th>\n",
       "      <th>normalized-losses</th>\n",
       "    </tr>\n",
       "  </thead>\n",
       "  <tbody>\n",
       "  </tbody>\n",
       "</table>\n",
       "</div>"
      ],
      "text/plain": [
       "Empty DataFrame\n",
       "Columns: [normalized-losses]\n",
       "Index: []"
      ]
     },
     "execution_count": 35,
     "metadata": {},
     "output_type": "execute_result"
    }
   ],
   "source": [
    "df[['normalized-losses']].loc[df['normalized-losses'] < lower_tail]"
   ]
  },
  {
   "cell_type": "code",
   "execution_count": 36,
   "id": "850d06bb",
   "metadata": {},
   "outputs": [],
   "source": [
    "# need to handle the outliers which comes in Feature Engg"
   ]
  },
  {
   "cell_type": "code",
   "execution_count": 37,
   "id": "aa189574",
   "metadata": {},
   "outputs": [
    {
     "data": {
      "text/plain": [
       "115.0"
      ]
     },
     "execution_count": 37,
     "metadata": {},
     "output_type": "execute_result"
    }
   ],
   "source": [
    "median_choice = df['normalized-losses'].loc[(df['normalized-losses'] <= upper_tail)].median()\n",
    "median_choice"
   ]
  },
  {
   "cell_type": "code",
   "execution_count": 38,
   "id": "60bbe0d4",
   "metadata": {},
   "outputs": [
    {
     "data": {
      "text/plain": [
       "117.10659898477158"
      ]
     },
     "execution_count": 38,
     "metadata": {},
     "output_type": "execute_result"
    }
   ],
   "source": [
    "# 2nd choice\n",
    "mean_choice = df['normalized-losses'].loc[(df['normalized-losses'] <= upper_tail)].mean()\n",
    "mean_choice "
   ]
  },
  {
   "cell_type": "code",
   "execution_count": 39,
   "id": "1cc957aa",
   "metadata": {},
   "outputs": [
    {
     "data": {
      "text/plain": [
       "191.0"
      ]
     },
     "execution_count": 39,
     "metadata": {},
     "output_type": "execute_result"
    }
   ],
   "source": [
    "# 3rd choice\n",
    "upper_tail"
   ]
  },
  {
   "cell_type": "code",
   "execution_count": 40,
   "id": "392a251c",
   "metadata": {},
   "outputs": [],
   "source": [
    "# choose median\n",
    "df.loc[(df['normalized-losses'] > upper_tail), 'normalized-losses']=median_choice   # Outlirs replace with median"
   ]
  },
  {
   "cell_type": "code",
   "execution_count": 41,
   "id": "8c17e571",
   "metadata": {},
   "outputs": [
    {
     "data": {
      "text/plain": [
       "Series([], Name: normalized-losses, dtype: int32)"
      ]
     },
     "execution_count": 41,
     "metadata": {},
     "output_type": "execute_result"
    }
   ],
   "source": [
    "df.loc[(df['normalized-losses'] > upper_tail), 'normalized-losses'] # check"
   ]
  },
  {
   "cell_type": "code",
   "execution_count": 42,
   "id": "b3fd1ab9",
   "metadata": {},
   "outputs": [
    {
     "data": {
      "text/plain": [
       "<AxesSubplot:xlabel='normalized-losses'>"
      ]
     },
     "execution_count": 42,
     "metadata": {},
     "output_type": "execute_result"
    },
    {
     "data": {
      "image/png": "[encoded data removed]",
      "text/plain": [
       "<Figure size 500x200 with 1 Axes>"
      ]
     },
     "metadata": {},
     "output_type": "display_data"
    }
   ],
   "source": [
    "plt.figure(figsize=(5,2))\n",
    "check = sns.boxplot(x = df['normalized-losses'])   # after replascing outlires it again appear \n",
    "check "
   ]
  },
  {
   "cell_type": "code",
   "execution_count": 43,
   "id": "74a9ced0",
   "metadata": {},
   "outputs": [
    {
     "name": "stdout",
     "output_type": "stream",
     "text": [
      "upper_tail : 171.0\n",
      "lower_tail : 59.0\n"
     ]
    }
   ],
   "source": [
    "q1 = df['normalized-losses'].quantile(0.25)\n",
    "q2 = df['normalized-losses'].quantile(0.50)\n",
    "q3 = df['normalized-losses'].quantile(0.75)\n",
    "\n",
    "iqr = q3 - q1\n",
    "\n",
    "upper_tail = q3 + 1.5 * iqr\n",
    "lower_tail = q1 - 1.5 * iqr\n",
    "\n",
    "\n",
    "print(\"upper_tail :\", upper_tail)\n",
    "print(\"lower_tail :\", lower_tail)"
   ]
  },
  {
   "cell_type": "code",
   "execution_count": 44,
   "id": "53ce4424",
   "metadata": {},
   "outputs": [
    {
     "data": {
      "text/html": [
       "<div>\n",
       "<style scoped>\n",
       "    .dataframe tbody tr th:only-of-type {\n",
       "        vertical-align: middle;\n",
       "    }\n",
       "\n",
       "    .dataframe tbody tr th {\n",
       "        vertical-align: top;\n",
       "    }\n",
       "\n",
       "    .dataframe thead th {\n",
       "        text-align: right;\n",
       "    }\n",
       "</style>\n",
       "<table border=\"1\" class=\"dataframe\">\n",
       "  <thead>\n",
       "    <tr style=\"text-align: right;\">\n",
       "      <th></th>\n",
       "      <th>normalized-losses</th>\n",
       "    </tr>\n",
       "  </thead>\n",
       "  <tbody>\n",
       "    <tr>\n",
       "      <th>12</th>\n",
       "      <td>188</td>\n",
       "    </tr>\n",
       "    <tr>\n",
       "      <th>13</th>\n",
       "      <td>188</td>\n",
       "    </tr>\n",
       "    <tr>\n",
       "      <th>125</th>\n",
       "      <td>186</td>\n",
       "    </tr>\n",
       "  </tbody>\n",
       "</table>\n",
       "</div>"
      ],
      "text/plain": [
       "     normalized-losses\n",
       "12                 188\n",
       "13                 188\n",
       "125                186"
      ]
     },
     "execution_count": 44,
     "metadata": {},
     "output_type": "execute_result"
    }
   ],
   "source": [
    "df[['normalized-losses']].loc[df['normalized-losses'] > upper_tail]"
   ]
  },
  {
   "cell_type": "code",
   "execution_count": 45,
   "id": "f73ff7be",
   "metadata": {},
   "outputs": [],
   "source": [
    "# again outlires replace with upper_tail\n",
    "\n",
    "df.loc[(df['normalized-losses'] > upper_tail), 'normalized-losses'] = upper_tail "
   ]
  },
  {
   "cell_type": "code",
   "execution_count": 46,
   "id": "ab0e5293",
   "metadata": {},
   "outputs": [
    {
     "data": {
      "text/plain": [
       "<AxesSubplot:xlabel='normalized-losses'>"
      ]
     },
     "execution_count": 46,
     "metadata": {},
     "output_type": "execute_result"
    },
    {
     "data": {
      "image/png": "[encoded data removed]",
      "text/plain": [
       "<Figure size 500x200 with 1 Axes>"
      ]
     },
     "metadata": {},
     "output_type": "display_data"
    }
   ],
   "source": [
    "plt.figure(figsize=(5,2))\n",
    "check1 = sns.boxplot(x = df['normalized-losses'])  # no no outlires\n",
    "check1"
   ]
  },
  {
   "cell_type": "markdown",
   "id": "1478bb8b",
   "metadata": {},
   "source": [
    "# 3.make"
   ]
  },
  {
   "cell_type": "code",
   "execution_count": 47,
   "id": "5ce0205e",
   "metadata": {},
   "outputs": [
    {
     "data": {
      "text/plain": [
       "array(['alfa-romero', 'audi', 'bmw', 'chevrolet', 'dodge', 'honda',\n",
       "       'isuzu', 'jaguar', 'mazda', 'mercedes-benz', 'mercury',\n",
       "       'mitsubishi', 'nissan', 'peugot', 'plymouth', 'porsche', 'renault',\n",
       "       'saab', 'subaru', 'toyota', 'volkswagen', 'volvo'], dtype=object)"
      ]
     },
     "execution_count": 47,
     "metadata": {},
     "output_type": "execute_result"
    }
   ],
   "source": [
    "df['make'].unique()"
   ]
  },
  {
   "cell_type": "code",
   "execution_count": 48,
   "id": "600567e6",
   "metadata": {},
   "outputs": [
    {
     "data": {
      "text/plain": [
       "22"
      ]
     },
     "execution_count": 48,
     "metadata": {},
     "output_type": "execute_result"
    }
   ],
   "source": [
    "# 22 unique valuses are present,cant drop this feature because makers \n",
    "# of the cars is directily related to price of the cars\n",
    "df['make'].nunique()  # so encoding needed"
   ]
  },
  {
   "cell_type": "code",
   "execution_count": 49,
   "id": "e3320703",
   "metadata": {},
   "outputs": [
    {
     "data": {
      "text/plain": [
       "toyota           32\n",
       "nissan           18\n",
       "mazda            17\n",
       "mitsubishi       13\n",
       "honda            13\n",
       "volkswagen       12\n",
       "subaru           12\n",
       "peugot           11\n",
       "volvo            11\n",
       "dodge             9\n",
       "mercedes-benz     8\n",
       "bmw               8\n",
       "audi              7\n",
       "plymouth          7\n",
       "saab              6\n",
       "porsche           5\n",
       "isuzu             4\n",
       "jaguar            3\n",
       "chevrolet         3\n",
       "alfa-romero       3\n",
       "renault           2\n",
       "mercury           1\n",
       "Name: make, dtype: int64"
      ]
     },
     "execution_count": 49,
     "metadata": {},
     "output_type": "execute_result"
    }
   ],
   "source": [
    "df['make'].value_counts()"
   ]
  },
  {
   "cell_type": "code",
   "execution_count": 50,
   "id": "c3147462",
   "metadata": {},
   "outputs": [],
   "source": [
    "# pd.get_dummies(df['make']).head(2) # 22-1 columns get added"
   ]
  },
  {
   "cell_type": "code",
   "execution_count": 51,
   "id": "3352530e",
   "metadata": {},
   "outputs": [],
   "source": [
    "# 26 columns afetr dummi 47 columns\n",
    "\n",
    "df = pd.get_dummies(df, columns=['make'])\n",
    "# df\n"
   ]
  },
  {
   "cell_type": "markdown",
   "id": "c14a28b2",
   "metadata": {},
   "source": [
    "### 4. fuel-type :-"
   ]
  },
  {
   "cell_type": "code",
   "execution_count": 52,
   "id": "8cdf0f00",
   "metadata": {},
   "outputs": [
    {
     "data": {
      "text/plain": [
       "0         gas\n",
       "1         gas\n",
       "2         gas\n",
       "3         gas\n",
       "4         gas\n",
       "        ...  \n",
       "200       gas\n",
       "201       gas\n",
       "202       gas\n",
       "203    diesel\n",
       "204       gas\n",
       "Name: fuel-type, Length: 205, dtype: object"
      ]
     },
     "execution_count": 52,
     "metadata": {},
     "output_type": "execute_result"
    }
   ],
   "source": [
    "df['fuel-type'] "
   ]
  },
  {
   "cell_type": "code",
   "execution_count": 53,
   "id": "1270fa12",
   "metadata": {},
   "outputs": [
    {
     "data": {
      "text/plain": [
       "array(['gas', 'diesel'], dtype=object)"
      ]
     },
     "execution_count": 53,
     "metadata": {},
     "output_type": "execute_result"
    }
   ],
   "source": [
    "df['fuel-type'].unique()  # No missing valuse present"
   ]
  },
  {
   "cell_type": "code",
   "execution_count": 54,
   "id": "0e23b0c3",
   "metadata": {},
   "outputs": [],
   "source": [
    "df[\"fuel-type\"].replace({'gas': 0, 'diesel': 1},inplace=True)\n",
    "# df"
   ]
  },
  {
   "cell_type": "code",
   "execution_count": 55,
   "id": "84c22f7c",
   "metadata": {},
   "outputs": [],
   "source": [
    "# df.info()"
   ]
  },
  {
   "cell_type": "markdown",
   "id": "84665012",
   "metadata": {},
   "source": [
    "### 5.aspiration :- "
   ]
  },
  {
   "cell_type": "code",
   "execution_count": 56,
   "id": "1c81cdbf",
   "metadata": {},
   "outputs": [],
   "source": [
    "# Need encoading"
   ]
  },
  {
   "cell_type": "code",
   "execution_count": 57,
   "id": "87c911d0",
   "metadata": {},
   "outputs": [
    {
     "data": {
      "text/plain": [
       "array(['std', 'turbo'], dtype=object)"
      ]
     },
     "execution_count": 57,
     "metadata": {},
     "output_type": "execute_result"
    }
   ],
   "source": [
    "df['aspiration'].unique() # no NAN valuse present"
   ]
  },
  {
   "cell_type": "code",
   "execution_count": 58,
   "id": "53a7e8e3",
   "metadata": {},
   "outputs": [
    {
     "data": {
      "text/plain": [
       "{'std': 168, 'turbo': 37}"
      ]
     },
     "execution_count": 58,
     "metadata": {},
     "output_type": "execute_result"
    }
   ],
   "source": [
    "df['aspiration'].value_counts().to_dict()"
   ]
  },
  {
   "cell_type": "code",
   "execution_count": 59,
   "id": "4f416a89",
   "metadata": {},
   "outputs": [],
   "source": [
    "df['aspiration'].replace({'std': 0, 'turbo': 1}, inplace=True)\n",
    "# df"
   ]
  },
  {
   "cell_type": "code",
   "execution_count": 60,
   "id": "eb0b4984",
   "metadata": {},
   "outputs": [],
   "source": [
    "# df.info()"
   ]
  },
  {
   "cell_type": "markdown",
   "id": "25f7cf9a",
   "metadata": {},
   "source": [
    "### 6.num-of-doors :-"
   ]
  },
  {
   "cell_type": "code",
   "execution_count": 61,
   "id": "dd5aa2f5",
   "metadata": {},
   "outputs": [
    {
     "data": {
      "text/plain": [
       "array(['two', 'four', nan], dtype=object)"
      ]
     },
     "execution_count": 61,
     "metadata": {},
     "output_type": "execute_result"
    }
   ],
   "source": [
    "df['num-of-doors'].unique()   # NAN value present"
   ]
  },
  {
   "cell_type": "code",
   "execution_count": 62,
   "id": "7b1f2ca0",
   "metadata": {},
   "outputs": [
    {
     "data": {
      "text/plain": [
       "2"
      ]
     },
     "execution_count": 62,
     "metadata": {},
     "output_type": "execute_result"
    }
   ],
   "source": [
    "df['num-of-doors'].isna().sum()"
   ]
  },
  {
   "cell_type": "code",
   "execution_count": 63,
   "id": "578695d7",
   "metadata": {},
   "outputs": [
    {
     "data": {
      "text/plain": [
       "four    114\n",
       "two      89\n",
       "Name: num-of-doors, dtype: int64"
      ]
     },
     "execution_count": 63,
     "metadata": {},
     "output_type": "execute_result"
    }
   ],
   "source": [
    "df['num-of-doors'].value_counts()"
   ]
  },
  {
   "cell_type": "code",
   "execution_count": 64,
   "id": "1501cbf2",
   "metadata": {},
   "outputs": [
    {
     "data": {
      "text/plain": [
       "'four'"
      ]
     },
     "execution_count": 64,
     "metadata": {},
     "output_type": "execute_result"
    }
   ],
   "source": [
    "mode_doors = df['num-of-doors'].mode()[0]\n",
    "mode_doors"
   ]
  },
  {
   "cell_type": "code",
   "execution_count": 65,
   "id": "5ce0d382",
   "metadata": {},
   "outputs": [],
   "source": [
    "# Replace NAN values with mode\n",
    "df['num-of-doors'].fillna(mode_doors,inplace=True)  "
   ]
  },
  {
   "cell_type": "code",
   "execution_count": 66,
   "id": "b20a0bea",
   "metadata": {},
   "outputs": [
    {
     "data": {
      "text/plain": [
       "{'four': 116, 'two': 89}"
      ]
     },
     "execution_count": 66,
     "metadata": {},
     "output_type": "execute_result"
    }
   ],
   "source": [
    "df['num-of-doors'].value_counts().to_dict() # replace need dictionary"
   ]
  },
  {
   "cell_type": "code",
   "execution_count": 67,
   "id": "09b896a9",
   "metadata": {},
   "outputs": [],
   "source": [
    "# labelled Encoding\n",
    "df['num-of-doors'].replace({'four': 4, 'two':2},inplace=True)\n",
    "# df"
   ]
  },
  {
   "cell_type": "code",
   "execution_count": 68,
   "id": "b7119d64",
   "metadata": {},
   "outputs": [],
   "source": [
    "# df.info()"
   ]
  },
  {
   "cell_type": "markdown",
   "id": "1b3df540",
   "metadata": {},
   "source": [
    "## 7. body-style :-"
   ]
  },
  {
   "cell_type": "code",
   "execution_count": 69,
   "id": "7c2a9954",
   "metadata": {},
   "outputs": [
    {
     "data": {
      "text/plain": [
       "array(['convertible', 'hatchback', 'sedan', 'wagon', 'hardtop'],\n",
       "      dtype=object)"
      ]
     },
     "execution_count": 69,
     "metadata": {},
     "output_type": "execute_result"
    }
   ],
   "source": [
    "df['body-style'].unique()  # no NAN value"
   ]
  },
  {
   "cell_type": "code",
   "execution_count": 70,
   "id": "dd9a61f6",
   "metadata": {},
   "outputs": [
    {
     "data": {
      "text/plain": [
       "5"
      ]
     },
     "execution_count": 70,
     "metadata": {},
     "output_type": "execute_result"
    }
   ],
   "source": [
    "df['body-style'].nunique()"
   ]
  },
  {
   "cell_type": "code",
   "execution_count": 71,
   "id": "c9471e38",
   "metadata": {},
   "outputs": [],
   "source": [
    "# Encoding"
   ]
  },
  {
   "cell_type": "code",
   "execution_count": 72,
   "id": "10b922ed",
   "metadata": {},
   "outputs": [
    {
     "data": {
      "text/html": [
       "<div>\n",
       "<style scoped>\n",
       "    .dataframe tbody tr th:only-of-type {\n",
       "        vertical-align: middle;\n",
       "    }\n",
       "\n",
       "    .dataframe tbody tr th {\n",
       "        vertical-align: top;\n",
       "    }\n",
       "\n",
       "    .dataframe thead th {\n",
       "        text-align: right;\n",
       "    }\n",
       "</style>\n",
       "<table border=\"1\" class=\"dataframe\">\n",
       "  <thead>\n",
       "    <tr style=\"text-align: right;\">\n",
       "      <th></th>\n",
       "      <th>convertible</th>\n",
       "      <th>hardtop</th>\n",
       "      <th>hatchback</th>\n",
       "      <th>sedan</th>\n",
       "      <th>wagon</th>\n",
       "    </tr>\n",
       "  </thead>\n",
       "  <tbody>\n",
       "    <tr>\n",
       "      <th>0</th>\n",
       "      <td>1</td>\n",
       "      <td>0</td>\n",
       "      <td>0</td>\n",
       "      <td>0</td>\n",
       "      <td>0</td>\n",
       "    </tr>\n",
       "    <tr>\n",
       "      <th>1</th>\n",
       "      <td>1</td>\n",
       "      <td>0</td>\n",
       "      <td>0</td>\n",
       "      <td>0</td>\n",
       "      <td>0</td>\n",
       "    </tr>\n",
       "  </tbody>\n",
       "</table>\n",
       "</div>"
      ],
      "text/plain": [
       "   convertible  hardtop  hatchback  sedan  wagon\n",
       "0            1        0          0      0      0\n",
       "1            1        0          0      0      0"
      ]
     },
     "execution_count": 72,
     "metadata": {},
     "output_type": "execute_result"
    }
   ],
   "source": [
    "pd.get_dummies(df['body-style']).head(2)   # for sample"
   ]
  },
  {
   "cell_type": "code",
   "execution_count": 73,
   "id": "6632c67c",
   "metadata": {},
   "outputs": [],
   "source": [
    "df = pd.get_dummies(df,columns=['body-style'])  # 5-1 colums again gets added\n",
    "# df"
   ]
  },
  {
   "cell_type": "code",
   "execution_count": 74,
   "id": "efff6080",
   "metadata": {},
   "outputs": [],
   "source": [
    "# df.info()"
   ]
  },
  {
   "cell_type": "markdown",
   "id": "e27fd982",
   "metadata": {},
   "source": [
    "## 8.drive-wheels :-"
   ]
  },
  {
   "cell_type": "code",
   "execution_count": 75,
   "id": "c94c3369",
   "metadata": {},
   "outputs": [
    {
     "data": {
      "text/plain": [
       "array(['rwd', 'fwd', '4wd'], dtype=object)"
      ]
     },
     "execution_count": 75,
     "metadata": {},
     "output_type": "execute_result"
    }
   ],
   "source": [
    "df['drive-wheels'].unique() # no NAN value"
   ]
  },
  {
   "cell_type": "code",
   "execution_count": 76,
   "id": "37a0bff8",
   "metadata": {},
   "outputs": [
    {
     "data": {
      "text/plain": [
       "{'fwd': 120, 'rwd': 76, '4wd': 9}"
      ]
     },
     "execution_count": 76,
     "metadata": {},
     "output_type": "execute_result"
    }
   ],
   "source": [
    "df['drive-wheels'].value_counts().to_dict()  "
   ]
  },
  {
   "cell_type": "code",
   "execution_count": 77,
   "id": "95845fe1",
   "metadata": {},
   "outputs": [],
   "source": [
    "# Need encoding-->labelled en"
   ]
  },
  {
   "cell_type": "code",
   "execution_count": 78,
   "id": "008fcabb",
   "metadata": {},
   "outputs": [],
   "source": [
    "df['drive-wheels'].replace({'fwd': 0, 'rwd': 1, '4wd': 2},inplace=True)\n",
    "# df"
   ]
  },
  {
   "cell_type": "code",
   "execution_count": 79,
   "id": "1e74341d",
   "metadata": {},
   "outputs": [],
   "source": [
    "# df.info()"
   ]
  },
  {
   "cell_type": "markdown",
   "id": "45f45bb7",
   "metadata": {},
   "source": [
    "### 9.engine-location :-"
   ]
  },
  {
   "cell_type": "code",
   "execution_count": 80,
   "id": "4564e52c",
   "metadata": {},
   "outputs": [
    {
     "data": {
      "text/plain": [
       "array(['front', 'rear'], dtype=object)"
      ]
     },
     "execution_count": 80,
     "metadata": {},
     "output_type": "execute_result"
    }
   ],
   "source": [
    "df['engine-location'].unique() # no NAN value"
   ]
  },
  {
   "cell_type": "code",
   "execution_count": 81,
   "id": "30f9fd97",
   "metadata": {},
   "outputs": [
    {
     "data": {
      "text/plain": [
       "{'front': 202, 'rear': 3}"
      ]
     },
     "execution_count": 81,
     "metadata": {},
     "output_type": "execute_result"
    }
   ],
   "source": [
    "df['engine-location'].value_counts().to_dict()"
   ]
  },
  {
   "cell_type": "code",
   "execution_count": 82,
   "id": "16e3076d",
   "metadata": {},
   "outputs": [],
   "source": [
    "df['engine-location'].replace({'front': 0, 'rear': 1},inplace=True)\n",
    "# df"
   ]
  },
  {
   "cell_type": "code",
   "execution_count": 83,
   "id": "78f7892f",
   "metadata": {},
   "outputs": [],
   "source": [
    "# df.info()"
   ]
  },
  {
   "cell_type": "markdown",
   "id": "0e598972",
   "metadata": {},
   "source": [
    "## 10.engine-location:-"
   ]
  },
  {
   "cell_type": "code",
   "execution_count": 84,
   "id": "bca4b352",
   "metadata": {},
   "outputs": [
    {
     "data": {
      "text/plain": [
       "array([0, 1], dtype=int64)"
      ]
     },
     "execution_count": 84,
     "metadata": {},
     "output_type": "execute_result"
    }
   ],
   "source": [
    "df['engine-location'].unique()   # no NAN value and here clearly see there are no outlisers also"
   ]
  },
  {
   "cell_type": "markdown",
   "id": "13fef3a5",
   "metadata": {},
   "source": [
    "## 11.wheel-base:-"
   ]
  },
  {
   "cell_type": "code",
   "execution_count": 85,
   "id": "65797d74",
   "metadata": {},
   "outputs": [
    {
     "data": {
      "text/plain": [
       "array([ 88.6,  94.5,  99.8,  99.4, 105.8,  99.5, 101.2, 103.5, 110. ,\n",
       "        88.4,  93.7, 103.3,  95.9,  86.6,  96.5,  94.3,  96. , 113. ,\n",
       "       102. ,  93.1,  95.3,  98.8, 104.9, 106.7, 115.6,  96.6, 120.9,\n",
       "       112. , 102.7,  93. ,  96.3,  95.1,  97.2, 100.4,  91.3,  99.2,\n",
       "       107.9, 114.2, 108. ,  89.5,  98.4,  96.1,  99.1,  93.3,  97. ,\n",
       "        96.9,  95.7, 102.4, 102.9, 104.5,  97.3, 104.3, 109.1])"
      ]
     },
     "execution_count": 85,
     "metadata": {},
     "output_type": "execute_result"
    }
   ],
   "source": [
    "df['wheel-base'].unique()"
   ]
  },
  {
   "cell_type": "code",
   "execution_count": 86,
   "id": "9f950c01",
   "metadata": {},
   "outputs": [
    {
     "data": {
      "text/plain": [
       "53"
      ]
     },
     "execution_count": 86,
     "metadata": {},
     "output_type": "execute_result"
    }
   ],
   "source": [
    "df['wheel-base'].nunique()  # 53 unique values"
   ]
  },
  {
   "cell_type": "code",
   "execution_count": 87,
   "id": "a6c96c81",
   "metadata": {},
   "outputs": [
    {
     "data": {
      "text/plain": [
       "0"
      ]
     },
     "execution_count": 87,
     "metadata": {},
     "output_type": "execute_result"
    }
   ],
   "source": [
    "df['wheel-base'].isna().sum()  # no NAN value"
   ]
  },
  {
   "cell_type": "code",
   "execution_count": 88,
   "id": "2f49f981",
   "metadata": {},
   "outputs": [],
   "source": [
    "# outlires check"
   ]
  },
  {
   "cell_type": "code",
   "execution_count": 89,
   "id": "e9be6ed7",
   "metadata": {},
   "outputs": [
    {
     "data": {
      "text/plain": [
       "<AxesSubplot:xlabel='wheel-base'>"
      ]
     },
     "execution_count": 89,
     "metadata": {},
     "output_type": "execute_result"
    },
    {
     "data": {
      "image/png": "[encoded data removed]",
      "text/plain": [
       "<Figure size 500x200 with 1 Axes>"
      ]
     },
     "metadata": {},
     "output_type": "display_data"
    }
   ],
   "source": [
    "plt.figure(figsize=(5,2))\n",
    "sns.boxplot(x=df['wheel-base']) # outlires obsereved"
   ]
  },
  {
   "cell_type": "code",
   "execution_count": 90,
   "id": "7f5a3982",
   "metadata": {},
   "outputs": [],
   "source": [
    "# sns.kdeplot(df['wheel-base'])"
   ]
  },
  {
   "cell_type": "code",
   "execution_count": 91,
   "id": "6c3b934f",
   "metadata": {},
   "outputs": [],
   "source": [
    "# df.describe()"
   ]
  },
  {
   "cell_type": "code",
   "execution_count": 92,
   "id": "cf96c856",
   "metadata": {},
   "outputs": [
    {
     "name": "stdout",
     "output_type": "stream",
     "text": [
      "upper_tail : 114.25000000000001\n",
      "lower_tail : 82.64999999999999\n"
     ]
    }
   ],
   "source": [
    "q1 = df['wheel-base'].quantile(0.25)\n",
    "q2 = df['wheel-base'].quantile(0.50)\n",
    "q3 = df['wheel-base'].quantile(0.75)\n",
    "\n",
    "iqr = q3 - q1\n",
    "\n",
    "upper_tail = q3 + 1.5*iqr\n",
    "lower_tail = q1 - 1.5*iqr\n",
    "\n",
    "\n",
    "print(\"upper_tail :\", upper_tail)\n",
    "print(\"lower_tail :\", lower_tail)"
   ]
  },
  {
   "cell_type": "code",
   "execution_count": 93,
   "id": "c4385c46",
   "metadata": {},
   "outputs": [
    {
     "data": {
      "text/plain": [
       "70    115.6\n",
       "71    115.6\n",
       "73    120.9\n",
       "Name: wheel-base, dtype: float64"
      ]
     },
     "execution_count": 93,
     "metadata": {},
     "output_type": "execute_result"
    }
   ],
   "source": [
    "df['wheel-base'].loc[(df['wheel-base'] > upper_tail) | \n",
    "                     (df['wheel-base'] < lower_tail)]    # these are the outlires"
   ]
  },
  {
   "cell_type": "code",
   "execution_count": 94,
   "id": "7fa12c5b",
   "metadata": {},
   "outputs": [
    {
     "data": {
      "text/plain": [
       "0       88.6\n",
       "1       88.6\n",
       "2       94.5\n",
       "3       99.8\n",
       "4       99.4\n",
       "       ...  \n",
       "200    109.1\n",
       "201    109.1\n",
       "202    109.1\n",
       "203    109.1\n",
       "204    109.1\n",
       "Name: wheel-base, Length: 202, dtype: float64"
      ]
     },
     "execution_count": 94,
     "metadata": {},
     "output_type": "execute_result"
    }
   ],
   "source": [
    "df['wheel-base'].loc[(df['wheel-base'] <= upper_tail) & \n",
    "                    (df['wheel-base'] >= lower_tail)]      # values without outlires"
   ]
  },
  {
   "cell_type": "code",
   "execution_count": 95,
   "id": "e63d2716",
   "metadata": {},
   "outputs": [
    {
     "data": {
      "text/plain": [
       "98.48019801980207"
      ]
     },
     "execution_count": 95,
     "metadata": {},
     "output_type": "execute_result"
    }
   ],
   "source": [
    "# chech for mean\n",
    "df['wheel-base'].loc[(df['wheel-base'] <= upper_tail) & \n",
    "                    (df['wheel-base'] >= lower_tail)].mean()"
   ]
  },
  {
   "cell_type": "code",
   "execution_count": 96,
   "id": "c390c548",
   "metadata": {},
   "outputs": [
    {
     "data": {
      "text/plain": [
       "96.9"
      ]
     },
     "execution_count": 96,
     "metadata": {},
     "output_type": "execute_result"
    }
   ],
   "source": [
    "# chech for median\n",
    "df['wheel-base'].loc[(df['wheel-base'] <= upper_tail) & \n",
    "                    (df['wheel-base'] >= lower_tail)].median()"
   ]
  },
  {
   "cell_type": "code",
   "execution_count": 97,
   "id": "625d5e57",
   "metadata": {},
   "outputs": [],
   "source": [
    "# Feature Engineering madhe\n",
    "# outlires replace with mean"
   ]
  },
  {
   "cell_type": "code",
   "execution_count": 98,
   "id": "50f2dee0",
   "metadata": {},
   "outputs": [],
   "source": [
    "df.loc[(df['wheel-base'] > upper_tail) | \n",
    "                     (df['wheel-base'] < lower_tail),'wheel-base'] = 98.48019801980207 # replace it with mean"
   ]
  },
  {
   "cell_type": "code",
   "execution_count": 99,
   "id": "4424eec3",
   "metadata": {},
   "outputs": [
    {
     "data": {
      "text/plain": [
       "Series([], Name: wheel-base, dtype: float64)"
      ]
     },
     "execution_count": 99,
     "metadata": {},
     "output_type": "execute_result"
    }
   ],
   "source": [
    "df['wheel-base'].loc[(df['wheel-base'] > upper_tail) | \n",
    "                     (df['wheel-base'] < lower_tail)]    "
   ]
  },
  {
   "cell_type": "code",
   "execution_count": 100,
   "id": "cb64da4e",
   "metadata": {},
   "outputs": [
    {
     "data": {
      "text/plain": [
       "<AxesSubplot:xlabel='wheel-base'>"
      ]
     },
     "execution_count": 100,
     "metadata": {},
     "output_type": "execute_result"
    },
    {
     "data": {
      "image/png": "[encoded data removed]",
      "text/plain": [
       "<Figure size 500x200 with 1 Axes>"
      ]
     },
     "metadata": {},
     "output_type": "display_data"
    }
   ],
   "source": [
    "plt.figure(figsize=(5,2))\n",
    "sns.boxplot(x=df['wheel-base'])    #  again chech for outlires\n"
   ]
  },
  {
   "cell_type": "code",
   "execution_count": 101,
   "id": "0c83f265",
   "metadata": {},
   "outputs": [
    {
     "name": "stdout",
     "output_type": "stream",
     "text": [
      "upper_tail : 111.25\n",
      "lower_tail : 84.44999999999999\n"
     ]
    }
   ],
   "source": [
    "q1 = df['wheel-base'].quantile(0.25)\n",
    "q2 = df['wheel-base'].quantile(0.50)\n",
    "q3 = df['wheel-base'].quantile(0.75)\n",
    "\n",
    "iqr = q3 - q1\n",
    "\n",
    "upper_tail = q3 + 1.5*iqr\n",
    "lower_tail = q1 - 1.5*iqr\n",
    "\n",
    "\n",
    "print(\"upper_tail :\", upper_tail)\n",
    "print(\"lower_tail :\", lower_tail)"
   ]
  },
  {
   "cell_type": "code",
   "execution_count": 102,
   "id": "c4dadccf",
   "metadata": {},
   "outputs": [
    {
     "data": {
      "text/plain": [
       "47     113.0\n",
       "48     113.0\n",
       "74     112.0\n",
       "109    114.2\n",
       "110    114.2\n",
       "113    114.2\n",
       "114    114.2\n",
       "Name: wheel-base, dtype: float64"
      ]
     },
     "execution_count": 102,
     "metadata": {},
     "output_type": "execute_result"
    }
   ],
   "source": [
    "df['wheel-base'].loc[(df['wheel-base'] > upper_tail) | \n",
    "                     (df['wheel-base'] < lower_tail)] "
   ]
  },
  {
   "cell_type": "code",
   "execution_count": 103,
   "id": "98c6b2f3",
   "metadata": {},
   "outputs": [],
   "source": [
    "df.loc[(df['wheel-base'] > upper_tail) | \n",
    "                     (df['wheel-base'] < lower_tail),'wheel-base'] = upper_tail  # replace outlires wth uppertail"
   ]
  },
  {
   "cell_type": "code",
   "execution_count": 104,
   "id": "2f7e52ab",
   "metadata": {},
   "outputs": [
    {
     "data": {
      "text/plain": [
       "<AxesSubplot:xlabel='wheel-base'>"
      ]
     },
     "execution_count": 104,
     "metadata": {},
     "output_type": "execute_result"
    },
    {
     "data": {
      "image/png": "[encoded data removed]",
      "text/plain": [
       "<Figure size 500x200 with 1 Axes>"
      ]
     },
     "metadata": {},
     "output_type": "display_data"
    }
   ],
   "source": [
    "plt.figure(figsize=(5,2))\n",
    "sns.boxplot(x=df['wheel-base'])"
   ]
  },
  {
   "cell_type": "code",
   "execution_count": 105,
   "id": "92c6f0c7",
   "metadata": {},
   "outputs": [],
   "source": [
    "# df.info()"
   ]
  },
  {
   "cell_type": "markdown",
   "id": "c1437d9d",
   "metadata": {},
   "source": [
    "## 12. length:-"
   ]
  },
  {
   "cell_type": "code",
   "execution_count": 106,
   "id": "01514cc0",
   "metadata": {},
   "outputs": [
    {
     "data": {
      "text/plain": [
       "array([168.8, 171.2, 176.6, 177.3, 192.7, 178.2, 176.8, 189. , 193.8,\n",
       "       197. , 141.1, 155.9, 158.8, 157.3, 174.6, 173.2, 144.6, 150. ,\n",
       "       163.4, 157.1, 167.5, 175.4, 169.1, 170.7, 172.6, 199.6, 191.7,\n",
       "       159.1, 166.8, 169. , 177.8, 175. , 190.9, 187.5, 202.6, 180.3,\n",
       "       208.1, 199.2, 178.4, 173. , 172.4, 165.3, 170.2, 165.6, 162.4,\n",
       "       173.4, 181.7, 184.6, 178.5, 186.7, 198.9, 167.3, 168.9, 175.7,\n",
       "       181.5, 186.6, 156.9, 157.9, 172. , 173.5, 173.6, 158.7, 169.7,\n",
       "       166.3, 168.7, 176.2, 175.6, 183.5, 187.8, 171.7, 159.3, 165.7,\n",
       "       180.2, 183.1, 188.8])"
      ]
     },
     "execution_count": 106,
     "metadata": {},
     "output_type": "execute_result"
    }
   ],
   "source": [
    "df['length'].unique()"
   ]
  },
  {
   "cell_type": "code",
   "execution_count": 107,
   "id": "74607188",
   "metadata": {},
   "outputs": [
    {
     "data": {
      "text/plain": [
       "0"
      ]
     },
     "execution_count": 107,
     "metadata": {},
     "output_type": "execute_result"
    }
   ],
   "source": [
    "df['length'].isna().sum()  # no NAN valuse"
   ]
  },
  {
   "cell_type": "code",
   "execution_count": 108,
   "id": "cfce83bc",
   "metadata": {},
   "outputs": [
    {
     "data": {
      "text/plain": [
       "157.3    15\n",
       "188.8    11\n",
       "171.7     7\n",
       "186.7     7\n",
       "166.3     7\n",
       "         ..\n",
       "165.6     1\n",
       "187.5     1\n",
       "180.3     1\n",
       "208.1     1\n",
       "199.2     1\n",
       "Name: length, Length: 75, dtype: int64"
      ]
     },
     "execution_count": 108,
     "metadata": {},
     "output_type": "execute_result"
    }
   ],
   "source": [
    "df['length'].value_counts()"
   ]
  },
  {
   "cell_type": "code",
   "execution_count": 109,
   "id": "b72e0f22",
   "metadata": {},
   "outputs": [
    {
     "data": {
      "text/plain": [
       "<AxesSubplot:xlabel='length'>"
      ]
     },
     "execution_count": 109,
     "metadata": {},
     "output_type": "execute_result"
    },
    {
     "data": {
      "image/png": "[encoded data removed]",
      "text/plain": [
       "<Figure size 500x200 with 1 Axes>"
      ]
     },
     "metadata": {},
     "output_type": "display_data"
    }
   ],
   "source": [
    "# outlire check\n",
    "plt.figure(figsize=(5,2))\n",
    "sns.boxplot(x=df['length'])  "
   ]
  },
  {
   "cell_type": "code",
   "execution_count": null,
   "id": "7f12e170",
   "metadata": {},
   "outputs": [],
   "source": []
  },
  {
   "cell_type": "code",
   "execution_count": 110,
   "id": "0512278f",
   "metadata": {},
   "outputs": [
    {
     "name": "stdout",
     "output_type": "stream",
     "text": [
      "upper_tail : 208.29999999999995\n",
      "lower_tail : 141.10000000000002\n"
     ]
    }
   ],
   "source": [
    "q1 = df['length'].quantile(0.25)\n",
    "q2 = df['length'].quantile(0.50)\n",
    "q3 = df['length'].quantile(0.75)\n",
    "\n",
    "iqr = q3 - q1\n",
    "\n",
    "upper_tail = q3 + 1.5 * iqr\n",
    "lower_tail = q1 - 1.5 * iqr\n",
    "\n",
    "\n",
    "print(\"upper_tail :\", upper_tail)\n",
    "print(\"lower_tail :\", lower_tail)"
   ]
  },
  {
   "cell_type": "code",
   "execution_count": 111,
   "id": "0fb17e20",
   "metadata": {},
   "outputs": [
    {
     "data": {
      "text/plain": [
       "18    141.1\n",
       "Name: length, dtype: float64"
      ]
     },
     "execution_count": 111,
     "metadata": {},
     "output_type": "execute_result"
    }
   ],
   "source": [
    "df['length'].loc[(df['length'] > upper_tail) | \n",
    "                     (df['length'] < lower_tail)]"
   ]
  },
  {
   "cell_type": "code",
   "execution_count": 112,
   "id": "010c3e67",
   "metadata": {},
   "outputs": [
    {
     "data": {
      "text/plain": [
       "count    205.000000\n",
       "mean     174.049268\n",
       "std       12.337289\n",
       "min      141.100000\n",
       "25%      166.300000\n",
       "50%      173.200000\n",
       "75%      183.100000\n",
       "max      208.100000\n",
       "Name: length, dtype: float64"
      ]
     },
     "execution_count": 112,
     "metadata": {},
     "output_type": "execute_result"
    }
   ],
   "source": [
    "df['length'].describe()   # outlire same as min value ..."
   ]
  },
  {
   "cell_type": "code",
   "execution_count": 113,
   "id": "eca02b8d",
   "metadata": {},
   "outputs": [
    {
     "data": {
      "text/plain": [
       "144.6"
      ]
     },
     "execution_count": 113,
     "metadata": {},
     "output_type": "execute_result"
    }
   ],
   "source": [
    "df['length'].loc[(df['length'] <= upper_tail) & \n",
    "                    (df['length'] >= lower_tail)].min()"
   ]
  },
  {
   "cell_type": "code",
   "execution_count": 114,
   "id": "ba72dd64",
   "metadata": {},
   "outputs": [],
   "source": [
    "# df.info()"
   ]
  },
  {
   "cell_type": "markdown",
   "id": "8ec5193a",
   "metadata": {},
   "source": [
    "## 13.width:-"
   ]
  },
  {
   "cell_type": "code",
   "execution_count": 115,
   "id": "182f2916",
   "metadata": {},
   "outputs": [
    {
     "data": {
      "text/plain": [
       "array([64.1, 65.5, 66.2, 66.4, 66.3, 71.4, 67.9, 64.8, 66.9, 70.9, 60.3,\n",
       "       63.6, 63.8, 64.6, 63.9, 64. , 65.2, 62.5, 66. , 61.8, 69.6, 70.6,\n",
       "       64.2, 65.7, 66.5, 66.1, 70.3, 71.7, 70.5, 72. , 68. , 64.4, 65.4,\n",
       "       68.4, 68.3, 65. , 72.3, 66.6, 63.4, 65.6, 67.7, 67.2, 68.9, 68.8])"
      ]
     },
     "execution_count": 115,
     "metadata": {},
     "output_type": "execute_result"
    }
   ],
   "source": [
    "df['width'].unique()"
   ]
  },
  {
   "cell_type": "code",
   "execution_count": 116,
   "id": "56e66ac3",
   "metadata": {},
   "outputs": [
    {
     "data": {
      "text/plain": [
       "0"
      ]
     },
     "execution_count": 116,
     "metadata": {},
     "output_type": "execute_result"
    }
   ],
   "source": [
    "df['width'].isna().sum()"
   ]
  },
  {
   "cell_type": "code",
   "execution_count": 117,
   "id": "29976da1",
   "metadata": {},
   "outputs": [
    {
     "data": {
      "text/plain": [
       "<AxesSubplot:xlabel='width'>"
      ]
     },
     "execution_count": 117,
     "metadata": {},
     "output_type": "execute_result"
    },
    {
     "data": {
      "image/png": "[encoded data removed]",
      "text/plain": [
       "<Figure size 500x200 with 1 Axes>"
      ]
     },
     "metadata": {},
     "output_type": "display_data"
    }
   ],
   "source": [
    "# outlirs check\n",
    "plt.figure(figsize=(5,2))\n",
    "sns.boxplot(x=df['width'])"
   ]
  },
  {
   "cell_type": "code",
   "execution_count": 118,
   "id": "44162cbc",
   "metadata": {},
   "outputs": [],
   "source": [
    "# df[['width']].boxplot()"
   ]
  },
  {
   "cell_type": "code",
   "execution_count": 119,
   "id": "75caff71",
   "metadata": {},
   "outputs": [
    {
     "name": "stdout",
     "output_type": "stream",
     "text": [
      "upper_tail : 71.10000000000002\n",
      "lower_tail : 59.89999999999998\n"
     ]
    }
   ],
   "source": [
    "# outlires check\n",
    "q1 = df['width'].quantile(0.25)\n",
    "q2 = df['width'].quantile(0.50)\n",
    "q3 = df['width'].quantile(0.75)\n",
    "\n",
    "iqr = q3 - q1\n",
    "\n",
    "upper_tail = q3 + 1.5 * iqr\n",
    "lower_tail = q1 - 1.5 * iqr\n",
    "\n",
    "\n",
    "print(\"upper_tail :\", upper_tail)\n",
    "print(\"lower_tail :\", lower_tail)"
   ]
  },
  {
   "cell_type": "code",
   "execution_count": 120,
   "id": "2d876ca9",
   "metadata": {},
   "outputs": [
    {
     "data": {
      "text/plain": [
       "6      71.4\n",
       "7      71.4\n",
       "8      71.4\n",
       "70     71.7\n",
       "71     71.7\n",
       "73     71.7\n",
       "74     72.0\n",
       "129    72.3\n",
       "Name: width, dtype: float64"
      ]
     },
     "execution_count": 120,
     "metadata": {},
     "output_type": "execute_result"
    }
   ],
   "source": [
    "df['width'].loc[df['width'] > upper_tail]"
   ]
  },
  {
   "cell_type": "code",
   "execution_count": 121,
   "id": "e85e1165",
   "metadata": {},
   "outputs": [
    {
     "data": {
      "text/plain": [
       "count    205.000000\n",
       "mean      65.907805\n",
       "std        2.145204\n",
       "min       60.300000\n",
       "25%       64.100000\n",
       "50%       65.500000\n",
       "75%       66.900000\n",
       "max       72.300000\n",
       "Name: width, dtype: float64"
      ]
     },
     "execution_count": 121,
     "metadata": {},
     "output_type": "execute_result"
    }
   ],
   "source": [
    "df['width'].describe()"
   ]
  },
  {
   "cell_type": "code",
   "execution_count": 122,
   "id": "4c8f8872",
   "metadata": {},
   "outputs": [
    {
     "data": {
      "text/plain": [
       "65.4"
      ]
     },
     "execution_count": 122,
     "metadata": {},
     "output_type": "execute_result"
    }
   ],
   "source": [
    "df['width'].loc[df['width'] <= upper_tail].median()"
   ]
  },
  {
   "cell_type": "code",
   "execution_count": 123,
   "id": "14bf6e9c",
   "metadata": {},
   "outputs": [],
   "source": [
    "df.loc[df['width'] > upper_tail,'width'] = upper_tail # replace that with upper tail"
   ]
  },
  {
   "cell_type": "code",
   "execution_count": 124,
   "id": "c2dfb83c",
   "metadata": {},
   "outputs": [
    {
     "data": {
      "text/plain": [
       "Series([], Name: width, dtype: float64)"
      ]
     },
     "execution_count": 124,
     "metadata": {},
     "output_type": "execute_result"
    }
   ],
   "source": [
    "df.loc[df['width'] > upper_tail,'width']"
   ]
  },
  {
   "cell_type": "code",
   "execution_count": 125,
   "id": "c9b95c86",
   "metadata": {},
   "outputs": [
    {
     "data": {
      "text/plain": [
       "<AxesSubplot:xlabel='width'>"
      ]
     },
     "execution_count": 125,
     "metadata": {},
     "output_type": "execute_result"
    },
    {
     "data": {
      "image/png": "[encoded data removed]",
      "text/plain": [
       "<Figure size 500x200 with 1 Axes>"
      ]
     },
     "metadata": {},
     "output_type": "display_data"
    }
   ],
   "source": [
    "plt.figure(figsize=(5,2))\n",
    "sns.boxplot(x=df['width'])   # again chech for outlires"
   ]
  },
  {
   "cell_type": "code",
   "execution_count": 126,
   "id": "4d5d4ca9",
   "metadata": {},
   "outputs": [],
   "source": [
    "# df.info()"
   ]
  },
  {
   "cell_type": "markdown",
   "id": "e23435e6",
   "metadata": {},
   "source": [
    "### 14.height:-"
   ]
  },
  {
   "cell_type": "code",
   "execution_count": 127,
   "id": "e658f2eb",
   "metadata": {},
   "outputs": [
    {
     "data": {
      "text/plain": [
       "array([48.8, 52.4, 54.3, 53.1, 55.7, 55.9, 52. , 53.7, 56.3, 53.2, 50.8,\n",
       "       50.6, 59.8, 50.2, 52.6, 54.5, 58.3, 53.3, 54.1, 51. , 53.5, 51.4,\n",
       "       52.8, 47.8, 49.6, 55.5, 54.4, 56.5, 58.7, 54.9, 56.7, 55.4, 54.8,\n",
       "       49.4, 51.6, 54.7, 55.1, 56.1, 49.7, 56. , 50.5, 55.2, 52.5, 53. ,\n",
       "       59.1, 53.9, 55.6, 56.2, 57.5])"
      ]
     },
     "execution_count": 127,
     "metadata": {},
     "output_type": "execute_result"
    }
   ],
   "source": [
    "df['height'].unique()"
   ]
  },
  {
   "cell_type": "code",
   "execution_count": 128,
   "id": "7a790b44",
   "metadata": {},
   "outputs": [
    {
     "data": {
      "text/plain": [
       "0"
      ]
     },
     "execution_count": 128,
     "metadata": {},
     "output_type": "execute_result"
    }
   ],
   "source": [
    "df['height'].isna().sum()"
   ]
  },
  {
   "cell_type": "code",
   "execution_count": 129,
   "id": "2f17061b",
   "metadata": {},
   "outputs": [
    {
     "data": {
      "text/plain": [
       "<AxesSubplot:xlabel='height'>"
      ]
     },
     "execution_count": 129,
     "metadata": {},
     "output_type": "execute_result"
    },
    {
     "data": {
      "image/png": "[encoded data removed]",
      "text/plain": [
       "<Figure size 500x200 with 1 Axes>"
      ]
     },
     "metadata": {},
     "output_type": "display_data"
    }
   ],
   "source": [
    "# outlirs check\n",
    "plt.figure(figsize=(5,2))\n",
    "sns.boxplot(x=df['height'])   # no outlires"
   ]
  },
  {
   "cell_type": "markdown",
   "id": "828aedcf",
   "metadata": {},
   "source": [
    "## 15.curb-weight"
   ]
  },
  {
   "cell_type": "code",
   "execution_count": 130,
   "id": "30d9ff09",
   "metadata": {},
   "outputs": [
    {
     "data": {
      "text/plain": [
       "array([2548, 2823, 2337, 2824, 2507, 2844, 2954, 3086, 3053, 2395, 2710,\n",
       "       2765, 3055, 3230, 3380, 3505, 1488, 1874, 1909, 1876, 2128, 1967,\n",
       "       1989, 2191, 2535, 2811, 1713, 1819, 1837, 1940, 1956, 2010, 2024,\n",
       "       2236, 2289, 2304, 2372, 2465, 2293, 2734, 4066, 3950, 1890, 1900,\n",
       "       1905, 1945, 1950, 2380, 2385, 2500, 2410, 2443, 2425, 2670, 2700,\n",
       "       3515, 3750, 3495, 3770, 3740, 3685, 3900, 3715, 2910, 1918, 1944,\n",
       "       2004, 2145, 2370, 2328, 2833, 2921, 2926, 2365, 2405, 2403, 1889,\n",
       "       2017, 1938, 1951, 2028, 1971, 2037, 2008, 2324, 2302, 3095, 3296,\n",
       "       3060, 3071, 3139, 3020, 3197, 3430, 3075, 3252, 3285, 3485, 3130,\n",
       "       2818, 2778, 2756, 2800, 3366, 2579, 2460, 2658, 2695, 2707, 2758,\n",
       "       2808, 2847, 2050, 2120, 2240, 2190, 2340, 2510, 2290, 2455, 2420,\n",
       "       2650, 1985, 2040, 2015, 2280, 3110, 2081, 2109, 2275, 2094, 2122,\n",
       "       2140, 2169, 2204, 2265, 2300, 2540, 2536, 2551, 2679, 2714, 2975,\n",
       "       2326, 2480, 2414, 2458, 2976, 3016, 3131, 3151, 2261, 2209, 2264,\n",
       "       2212, 2319, 2254, 2221, 2661, 2563, 2912, 3034, 2935, 3042, 3045,\n",
       "       3157, 2952, 3049, 3012, 3217, 3062], dtype=int64)"
      ]
     },
     "execution_count": 130,
     "metadata": {},
     "output_type": "execute_result"
    }
   ],
   "source": [
    "df['curb-weight'].unique()"
   ]
  },
  {
   "cell_type": "code",
   "execution_count": 131,
   "id": "26b380e7",
   "metadata": {},
   "outputs": [
    {
     "data": {
      "text/plain": [
       "171"
      ]
     },
     "execution_count": 131,
     "metadata": {},
     "output_type": "execute_result"
    }
   ],
   "source": [
    "df['curb-weight'].nunique()  # feature selection madhe baghav lagel as 171 unique value ...Drop may be the choiced"
   ]
  },
  {
   "cell_type": "code",
   "execution_count": 132,
   "id": "75d15d8e",
   "metadata": {},
   "outputs": [
    {
     "data": {
      "text/plain": [
       "0"
      ]
     },
     "execution_count": 132,
     "metadata": {},
     "output_type": "execute_result"
    }
   ],
   "source": [
    "df['curb-weight'].isna().sum()"
   ]
  },
  {
   "cell_type": "code",
   "execution_count": 133,
   "id": "7cf60013",
   "metadata": {},
   "outputs": [
    {
     "data": {
      "text/plain": [
       "<AxesSubplot:xlabel='curb-weight'>"
      ]
     },
     "execution_count": 133,
     "metadata": {},
     "output_type": "execute_result"
    },
    {
     "data": {
      "image/png": "[encoded data removed]",
      "text/plain": [
       "<Figure size 500x200 with 1 Axes>"
      ]
     },
     "metadata": {},
     "output_type": "display_data"
    }
   ],
   "source": [
    "# outlires check\n",
    "plt.figure(figsize=(5,2))\n",
    "sns.boxplot(x=df['curb-weight'])   # no outlires"
   ]
  },
  {
   "cell_type": "markdown",
   "id": "8d1ea3c7",
   "metadata": {},
   "source": [
    "## 16.engine-type:-"
   ]
  },
  {
   "cell_type": "code",
   "execution_count": 134,
   "id": "a9442eaa",
   "metadata": {},
   "outputs": [
    {
     "data": {
      "text/plain": [
       "array(['dohc', 'ohcv', 'ohc', 'l', 'rotor', 'ohcf', 'dohcv'], dtype=object)"
      ]
     },
     "execution_count": 134,
     "metadata": {},
     "output_type": "execute_result"
    }
   ],
   "source": [
    "df['engine-type'].unique()  # no NAN value"
   ]
  },
  {
   "cell_type": "code",
   "execution_count": 135,
   "id": "869c633c",
   "metadata": {},
   "outputs": [
    {
     "data": {
      "text/plain": [
       "7"
      ]
     },
     "execution_count": 135,
     "metadata": {},
     "output_type": "execute_result"
    }
   ],
   "source": [
    "df['engine-type'].nunique()"
   ]
  },
  {
   "cell_type": "code",
   "execution_count": 136,
   "id": "f8ca2b02",
   "metadata": {},
   "outputs": [],
   "source": [
    "# Encoding"
   ]
  },
  {
   "cell_type": "code",
   "execution_count": 137,
   "id": "81c585d1",
   "metadata": {},
   "outputs": [],
   "source": [
    "df = pd.get_dummies(df, columns=['engine-type'])\n",
    "# df"
   ]
  },
  {
   "cell_type": "code",
   "execution_count": 138,
   "id": "3c4f03f4",
   "metadata": {},
   "outputs": [],
   "source": [
    "# df.info()"
   ]
  },
  {
   "cell_type": "markdown",
   "id": "4236eb31",
   "metadata": {},
   "source": [
    "##  17. num-of-cylinders "
   ]
  },
  {
   "cell_type": "code",
   "execution_count": 139,
   "id": "30b616b1",
   "metadata": {},
   "outputs": [
    {
     "data": {
      "text/plain": [
       "array(['four', 'six', 'five', 'three', 'twelve', 'two', 'eight'],\n",
       "      dtype=object)"
      ]
     },
     "execution_count": 139,
     "metadata": {},
     "output_type": "execute_result"
    }
   ],
   "source": [
    "df['num-of-cylinders'].unique()  # no NAN value"
   ]
  },
  {
   "cell_type": "code",
   "execution_count": 140,
   "id": "635384d1",
   "metadata": {},
   "outputs": [
    {
     "data": {
      "text/plain": [
       "{'four': 159,\n",
       " 'six': 24,\n",
       " 'five': 11,\n",
       " 'eight': 5,\n",
       " 'two': 4,\n",
       " 'three': 1,\n",
       " 'twelve': 1}"
      ]
     },
     "execution_count": 140,
     "metadata": {},
     "output_type": "execute_result"
    }
   ],
   "source": [
    "df['num-of-cylinders'].value_counts().to_dict()"
   ]
  },
  {
   "cell_type": "code",
   "execution_count": 141,
   "id": "72d7a428",
   "metadata": {},
   "outputs": [],
   "source": [
    "# Encoding"
   ]
  },
  {
   "cell_type": "code",
   "execution_count": 142,
   "id": "d0711856",
   "metadata": {},
   "outputs": [],
   "source": [
    "df['num-of-cylinders'].replace({'four': 4,\n",
    " 'six': 6,\n",
    " 'five': 5,\n",
    " 'eight': 8,\n",
    " 'two': 2,\n",
    " 'three': 3,\n",
    " 'twelve': 12},inplace=True)"
   ]
  },
  {
   "cell_type": "code",
   "execution_count": 143,
   "id": "eb8a04c4",
   "metadata": {},
   "outputs": [],
   "source": [
    "# df.info()"
   ]
  },
  {
   "cell_type": "markdown",
   "id": "96bfe7af",
   "metadata": {},
   "source": [
    "## 18.engine-size "
   ]
  },
  {
   "cell_type": "code",
   "execution_count": 144,
   "id": "1a0811cf",
   "metadata": {},
   "outputs": [
    {
     "data": {
      "text/plain": [
       "array([130, 152, 109, 136, 131, 108, 164, 209,  61,  90,  98, 122, 156,\n",
       "        92,  79, 110, 111, 119, 258, 326,  91,  70,  80, 140, 134, 183,\n",
       "       234, 308, 304,  97, 103, 120, 181, 151, 194, 203, 132, 121, 146,\n",
       "       171, 161, 141, 173, 145], dtype=int64)"
      ]
     },
     "execution_count": 144,
     "metadata": {},
     "output_type": "execute_result"
    }
   ],
   "source": [
    "df['engine-size'].unique()"
   ]
  },
  {
   "cell_type": "code",
   "execution_count": 145,
   "id": "22666760",
   "metadata": {},
   "outputs": [
    {
     "data": {
      "text/plain": [
       "44"
      ]
     },
     "execution_count": 145,
     "metadata": {},
     "output_type": "execute_result"
    }
   ],
   "source": [
    "df['engine-size'].nunique()"
   ]
  },
  {
   "cell_type": "code",
   "execution_count": 146,
   "id": "d3df1430",
   "metadata": {},
   "outputs": [
    {
     "data": {
      "text/plain": [
       "0"
      ]
     },
     "execution_count": 146,
     "metadata": {},
     "output_type": "execute_result"
    }
   ],
   "source": [
    "df['engine-size'].isna().sum()"
   ]
  },
  {
   "cell_type": "code",
   "execution_count": 147,
   "id": "3d23faf6",
   "metadata": {},
   "outputs": [
    {
     "data": {
      "text/plain": [
       "<AxesSubplot:xlabel='engine-size'>"
      ]
     },
     "execution_count": 147,
     "metadata": {},
     "output_type": "execute_result"
    },
    {
     "data": {
      "image/png": "[encoded data removed]",
      "text/plain": [
       "<Figure size 500x200 with 1 Axes>"
      ]
     },
     "metadata": {},
     "output_type": "display_data"
    }
   ],
   "source": [
    "# Outlires check\n",
    "plt.figure(figsize=(5,2))\n",
    "sns.boxplot(x=df['engine-size'])  # Present"
   ]
  },
  {
   "cell_type": "code",
   "execution_count": 148,
   "id": "31e217c9",
   "metadata": {},
   "outputs": [
    {
     "name": "stdout",
     "output_type": "stream",
     "text": [
      "upper_tail : 207.0\n",
      "lower_tail : 31.0\n"
     ]
    }
   ],
   "source": [
    "q1 = df['engine-size'].quantile(0.25)\n",
    "q2 = df['engine-size'].quantile(0.50)\n",
    "q3 = df['engine-size'].quantile(0.75)\n",
    "\n",
    "iqr = q3 - q1\n",
    "\n",
    "upper_tail = q3 + 1.5 * iqr\n",
    "lower_tail = q1 - 1.5 * iqr\n",
    "\n",
    "print(\"upper_tail :\", upper_tail)\n",
    "print(\"lower_tail :\", lower_tail)"
   ]
  },
  {
   "cell_type": "code",
   "execution_count": 149,
   "id": "297fcca5",
   "metadata": {},
   "outputs": [
    {
     "data": {
      "text/plain": [
       "count    205.000000\n",
       "mean     126.907317\n",
       "std       41.642693\n",
       "min       61.000000\n",
       "25%       97.000000\n",
       "50%      120.000000\n",
       "75%      141.000000\n",
       "max      326.000000\n",
       "Name: engine-size, dtype: float64"
      ]
     },
     "execution_count": 149,
     "metadata": {},
     "output_type": "execute_result"
    }
   ],
   "source": [
    "df['engine-size'].describe()"
   ]
  },
  {
   "cell_type": "code",
   "execution_count": 150,
   "id": "6b02ad99",
   "metadata": {},
   "outputs": [
    {
     "data": {
      "text/plain": [
       "15    209\n",
       "16    209\n",
       "17    209\n",
       "47    258\n",
       "48    258\n",
       "49    326\n",
       "71    234\n",
       "72    234\n",
       "73    308\n",
       "74    304\n",
       "Name: engine-size, dtype: int64"
      ]
     },
     "execution_count": 150,
     "metadata": {},
     "output_type": "execute_result"
    }
   ],
   "source": [
    "df['engine-size'].loc[df['engine-size'] > upper_tail]   # Outlires 10"
   ]
  },
  {
   "cell_type": "code",
   "execution_count": 151,
   "id": "84d0ed31",
   "metadata": {},
   "outputs": [
    {
     "data": {
      "text/plain": [
       "120.34358974358975"
      ]
     },
     "execution_count": 151,
     "metadata": {},
     "output_type": "execute_result"
    }
   ],
   "source": [
    "df['engine-size'].loc[df['engine-size'] <= upper_tail].mean()"
   ]
  },
  {
   "cell_type": "code",
   "execution_count": 152,
   "id": "579278a5",
   "metadata": {},
   "outputs": [
    {
     "data": {
      "text/plain": [
       "110.0"
      ]
     },
     "execution_count": 152,
     "metadata": {},
     "output_type": "execute_result"
    }
   ],
   "source": [
    "df['engine-size'].loc[df['engine-size'] <= upper_tail].median()"
   ]
  },
  {
   "cell_type": "code",
   "execution_count": 153,
   "id": "65777733",
   "metadata": {},
   "outputs": [
    {
     "data": {
      "text/plain": [
       "207.0"
      ]
     },
     "execution_count": 153,
     "metadata": {},
     "output_type": "execute_result"
    }
   ],
   "source": [
    "upper_tail   "
   ]
  },
  {
   "cell_type": "code",
   "execution_count": 154,
   "id": "eb9b569d",
   "metadata": {},
   "outputs": [
    {
     "data": {
      "text/plain": [
       "203"
      ]
     },
     "execution_count": 154,
     "metadata": {},
     "output_type": "execute_result"
    }
   ],
   "source": [
    "df['engine-size'].loc[df['engine-size'] <= upper_tail].max()"
   ]
  },
  {
   "cell_type": "code",
   "execution_count": 155,
   "id": "7b256860",
   "metadata": {},
   "outputs": [],
   "source": [
    "#  as engine size is important one so upper_tail would be better option"
   ]
  },
  {
   "cell_type": "code",
   "execution_count": 156,
   "id": "29745cbf",
   "metadata": {},
   "outputs": [],
   "source": [
    "df.loc[df['engine-size'] > upper_tail,'engine-size'] = upper_tail  "
   ]
  },
  {
   "cell_type": "code",
   "execution_count": 157,
   "id": "2fee3e8c",
   "metadata": {},
   "outputs": [
    {
     "data": {
      "text/plain": [
       "Series([], Name: engine-size, dtype: int64)"
      ]
     },
     "execution_count": 157,
     "metadata": {},
     "output_type": "execute_result"
    }
   ],
   "source": [
    "df.loc[df['engine-size'] > upper_tail,'engine-size']  # again check "
   ]
  },
  {
   "cell_type": "code",
   "execution_count": 158,
   "id": "5fffdb86",
   "metadata": {},
   "outputs": [
    {
     "data": {
      "text/plain": [
       "<AxesSubplot:xlabel='engine-size'>"
      ]
     },
     "execution_count": 158,
     "metadata": {},
     "output_type": "execute_result"
    },
    {
     "data": {
      "image/png": "[encoded data removed]",
      "text/plain": [
       "<Figure size 500x200 with 1 Axes>"
      ]
     },
     "metadata": {},
     "output_type": "display_data"
    }
   ],
   "source": [
    "plt.figure(figsize=(5,2))\n",
    "sns.boxplot(x=df['engine-size'])   #  again check "
   ]
  },
  {
   "cell_type": "code",
   "execution_count": 159,
   "id": "78ca61ac",
   "metadata": {},
   "outputs": [],
   "source": [
    "# df.info()"
   ]
  },
  {
   "cell_type": "markdown",
   "id": "3e874691",
   "metadata": {},
   "source": [
    "## 19.fuel-system"
   ]
  },
  {
   "cell_type": "code",
   "execution_count": 160,
   "id": "1d6b0e3d",
   "metadata": {},
   "outputs": [
    {
     "data": {
      "text/plain": [
       "array(['mpfi', '2bbl', 'mfi', '1bbl', 'spfi', '4bbl', 'idi', 'spdi'],\n",
       "      dtype=object)"
      ]
     },
     "execution_count": 160,
     "metadata": {},
     "output_type": "execute_result"
    }
   ],
   "source": [
    "df['fuel-system'].unique()   # no NAN value"
   ]
  },
  {
   "cell_type": "code",
   "execution_count": 161,
   "id": "6ddac0c0",
   "metadata": {},
   "outputs": [
    {
     "data": {
      "text/plain": [
       "mpfi    94\n",
       "2bbl    66\n",
       "idi     20\n",
       "1bbl    11\n",
       "spdi     9\n",
       "4bbl     3\n",
       "mfi      1\n",
       "spfi     1\n",
       "Name: fuel-system, dtype: int64"
      ]
     },
     "execution_count": 161,
     "metadata": {},
     "output_type": "execute_result"
    }
   ],
   "source": [
    "df['fuel-system'].value_counts()"
   ]
  },
  {
   "cell_type": "code",
   "execution_count": 162,
   "id": "183dde9e",
   "metadata": {},
   "outputs": [],
   "source": [
    "# Encoding "
   ]
  },
  {
   "cell_type": "code",
   "execution_count": 163,
   "id": "5df45cdc",
   "metadata": {},
   "outputs": [],
   "source": [
    "df = pd.get_dummies(df,columns=['fuel-system'])\n",
    "# df"
   ]
  },
  {
   "cell_type": "code",
   "execution_count": 164,
   "id": "55fff2c5",
   "metadata": {},
   "outputs": [],
   "source": [
    "# df.info()"
   ]
  },
  {
   "cell_type": "markdown",
   "id": "c47b1d88",
   "metadata": {},
   "source": [
    "## 19.bore "
   ]
  },
  {
   "cell_type": "code",
   "execution_count": 165,
   "id": "58f24260",
   "metadata": {},
   "outputs": [
    {
     "data": {
      "text/plain": [
       "array(['3.47', '2.68', '3.19', '3.13', '3.5', '3.31', '3.62', '2.91',\n",
       "       '3.03', '2.97', '3.34', '3.6', '2.92', '3.15', '3.43', '3.63',\n",
       "       '3.54', '3.08', nan, '3.39', '3.76', '3.58', '3.46', '3.8', '3.78',\n",
       "       '3.17', '3.35', '3.59', '2.99', '3.33', '3.7', '3.61', '3.94',\n",
       "       '3.74', '2.54', '3.05', '3.27', '3.24', '3.01'], dtype=object)"
      ]
     },
     "execution_count": 165,
     "metadata": {},
     "output_type": "execute_result"
    }
   ],
   "source": [
    "df['bore'].unique()"
   ]
  },
  {
   "cell_type": "code",
   "execution_count": 166,
   "id": "83fb23a5",
   "metadata": {},
   "outputs": [
    {
     "data": {
      "text/plain": [
       "38"
      ]
     },
     "execution_count": 166,
     "metadata": {},
     "output_type": "execute_result"
    }
   ],
   "source": [
    "df['bore'].nunique()"
   ]
  },
  {
   "cell_type": "code",
   "execution_count": 167,
   "id": "b442f99d",
   "metadata": {},
   "outputs": [
    {
     "data": {
      "text/plain": [
       "4"
      ]
     },
     "execution_count": 167,
     "metadata": {},
     "output_type": "execute_result"
    }
   ],
   "source": [
    "df['bore'].isna().sum()  # NAN value present"
   ]
  },
  {
   "cell_type": "code",
   "execution_count": 168,
   "id": "3f8fa38a",
   "metadata": {},
   "outputs": [
    {
     "data": {
      "text/plain": [
       "0      3.47\n",
       "1      3.47\n",
       "2      2.68\n",
       "3      3.19\n",
       "4      3.19\n",
       "       ... \n",
       "200    3.78\n",
       "201    3.78\n",
       "202    3.58\n",
       "203    3.01\n",
       "204    3.78\n",
       "Name: bore, Length: 205, dtype: float64"
      ]
     },
     "execution_count": 168,
     "metadata": {},
     "output_type": "execute_result"
    }
   ],
   "source": [
    "df['bore'] = df['bore'].astype(float)   # object to float\n",
    "df['bore']        "
   ]
  },
  {
   "cell_type": "code",
   "execution_count": 169,
   "id": "7986613b",
   "metadata": {},
   "outputs": [],
   "source": [
    "# Now NAN value replace choice"
   ]
  },
  {
   "cell_type": "code",
   "execution_count": 170,
   "id": "fe415d3d",
   "metadata": {},
   "outputs": [
    {
     "data": {
      "text/plain": [
       "3.3297512437810957"
      ]
     },
     "execution_count": 170,
     "metadata": {},
     "output_type": "execute_result"
    }
   ],
   "source": [
    "df['bore'].mean()"
   ]
  },
  {
   "cell_type": "code",
   "execution_count": 171,
   "id": "b52d0b78",
   "metadata": {},
   "outputs": [
    {
     "data": {
      "text/plain": [
       "3.31"
      ]
     },
     "execution_count": 171,
     "metadata": {},
     "output_type": "execute_result"
    }
   ],
   "source": [
    "df['bore'].median()"
   ]
  },
  {
   "cell_type": "code",
   "execution_count": 172,
   "id": "60c497da",
   "metadata": {},
   "outputs": [],
   "source": [
    "df['bore'].fillna(df['bore'].mean(),inplace=True)"
   ]
  },
  {
   "cell_type": "code",
   "execution_count": 173,
   "id": "d5904780",
   "metadata": {},
   "outputs": [
    {
     "data": {
      "text/plain": [
       "0"
      ]
     },
     "execution_count": 173,
     "metadata": {},
     "output_type": "execute_result"
    }
   ],
   "source": [
    "df['bore'].isna().sum() # NAN 0 now"
   ]
  },
  {
   "cell_type": "code",
   "execution_count": 174,
   "id": "7d90b233",
   "metadata": {},
   "outputs": [],
   "source": [
    "# check for outlirs"
   ]
  },
  {
   "cell_type": "code",
   "execution_count": 175,
   "id": "9e93ae7f",
   "metadata": {},
   "outputs": [
    {
     "data": {
      "text/plain": [
       "<AxesSubplot:xlabel='bore'>"
      ]
     },
     "execution_count": 175,
     "metadata": {},
     "output_type": "execute_result"
    },
    {
     "data": {
      "image/png": "[encoded data removed]",
      "text/plain": [
       "<Figure size 500x200 with 1 Axes>"
      ]
     },
     "metadata": {},
     "output_type": "display_data"
    }
   ],
   "source": [
    "plt.figure(figsize=(5,2))\n",
    "sns.boxplot(x=df['bore'])   # No outlires "
   ]
  },
  {
   "cell_type": "code",
   "execution_count": 176,
   "id": "eed442bb",
   "metadata": {},
   "outputs": [],
   "source": [
    "# df.info()"
   ]
  },
  {
   "cell_type": "markdown",
   "id": "caf3c9fe",
   "metadata": {},
   "source": [
    "## 20.stroke"
   ]
  },
  {
   "cell_type": "code",
   "execution_count": 177,
   "id": "9969aa6c",
   "metadata": {},
   "outputs": [
    {
     "data": {
      "text/plain": [
       "array(['2.68', '3.47', '3.4', '2.8', '3.19', '3.39', '3.03', '3.11',\n",
       "       '3.23', '3.46', '3.9', '3.41', '3.07', '3.58', '4.17', '2.76',\n",
       "       '3.15', nan, '3.16', '3.64', '3.1', '3.35', '3.12', '3.86', '3.29',\n",
       "       '3.27', '3.52', '2.19', '3.21', '2.9', '2.07', '2.36', '2.64',\n",
       "       '3.08', '3.5', '3.54', '2.87'], dtype=object)"
      ]
     },
     "execution_count": 177,
     "metadata": {},
     "output_type": "execute_result"
    }
   ],
   "source": [
    "df['stroke'].unique()"
   ]
  },
  {
   "cell_type": "code",
   "execution_count": 178,
   "id": "1cfc7c76",
   "metadata": {},
   "outputs": [
    {
     "data": {
      "text/plain": [
       "4"
      ]
     },
     "execution_count": 178,
     "metadata": {},
     "output_type": "execute_result"
    }
   ],
   "source": [
    "df['stroke'].isna().sum()  # NAN present"
   ]
  },
  {
   "cell_type": "code",
   "execution_count": 179,
   "id": "1011f33e",
   "metadata": {},
   "outputs": [
    {
     "data": {
      "text/plain": [
       "0      2.68\n",
       "1      2.68\n",
       "2      3.47\n",
       "3      3.40\n",
       "4      3.40\n",
       "       ... \n",
       "200    3.15\n",
       "201    3.15\n",
       "202    2.87\n",
       "203    3.40\n",
       "204    3.15\n",
       "Name: stroke, Length: 205, dtype: float64"
      ]
     },
     "execution_count": 179,
     "metadata": {},
     "output_type": "execute_result"
    }
   ],
   "source": [
    "df['stroke'] = df['stroke'].astype(float) # object to float\n",
    "df['stroke']"
   ]
  },
  {
   "cell_type": "code",
   "execution_count": 180,
   "id": "6e6f12ed",
   "metadata": {},
   "outputs": [
    {
     "data": {
      "text/plain": [
       "3.2554228855721337"
      ]
     },
     "execution_count": 180,
     "metadata": {},
     "output_type": "execute_result"
    }
   ],
   "source": [
    "df['stroke'].mean()"
   ]
  },
  {
   "cell_type": "code",
   "execution_count": 181,
   "id": "080f3808",
   "metadata": {},
   "outputs": [
    {
     "data": {
      "text/plain": [
       "3.29"
      ]
     },
     "execution_count": 181,
     "metadata": {},
     "output_type": "execute_result"
    }
   ],
   "source": [
    "df['stroke'].median()"
   ]
  },
  {
   "cell_type": "code",
   "execution_count": 182,
   "id": "3404a2c5",
   "metadata": {},
   "outputs": [],
   "source": [
    "df['stroke'].fillna(df['stroke'].mean(),inplace=True) # Feature engineering"
   ]
  },
  {
   "cell_type": "code",
   "execution_count": 183,
   "id": "d14b3463",
   "metadata": {},
   "outputs": [
    {
     "data": {
      "text/plain": [
       "<AxesSubplot:xlabel='stroke'>"
      ]
     },
     "execution_count": 183,
     "metadata": {},
     "output_type": "execute_result"
    },
    {
     "data": {
      "image/png": "[encoded data removed]",
      "text/plain": [
       "<Figure size 500x200 with 1 Axes>"
      ]
     },
     "metadata": {},
     "output_type": "display_data"
    }
   ],
   "source": [
    "# Check Outlirs\n",
    "plt.figure(figsize=(5,2))\n",
    "sns.boxplot(x=df['stroke'])   # outlires present"
   ]
  },
  {
   "cell_type": "code",
   "execution_count": 184,
   "id": "110cfb93",
   "metadata": {},
   "outputs": [
    {
     "name": "stdout",
     "output_type": "stream",
     "text": [
      "upper_tail : 3.8600000000000003\n",
      "lower_tail : 2.6599999999999993\n"
     ]
    }
   ],
   "source": [
    "q1 = df['stroke'].quantile(0.25)\n",
    "q2 = df['stroke'].quantile(0.50)\n",
    "q3 = df['stroke'].quantile(0.75)\n",
    "\n",
    "iqr = q3 - q1\n",
    "\n",
    "upper_tail = q3 + 1.5 * iqr\n",
    "lower_tail = q1 - 1.5 * iqr\n",
    "\n",
    "\n",
    "print(\"upper_tail :\", upper_tail)\n",
    "print(\"lower_tail :\", lower_tail)"
   ]
  },
  {
   "cell_type": "code",
   "execution_count": 185,
   "id": "ec006718",
   "metadata": {},
   "outputs": [
    {
     "data": {
      "text/plain": [
       "count    205.000000\n",
       "mean       3.255423\n",
       "std        0.313597\n",
       "min        2.070000\n",
       "25%        3.110000\n",
       "50%        3.290000\n",
       "75%        3.410000\n",
       "max        4.170000\n",
       "Name: stroke, dtype: float64"
      ]
     },
     "execution_count": 185,
     "metadata": {},
     "output_type": "execute_result"
    }
   ],
   "source": [
    "df['stroke'].describe()"
   ]
  },
  {
   "cell_type": "code",
   "execution_count": 186,
   "id": "729e67c3",
   "metadata": {},
   "outputs": [
    {
     "data": {
      "text/plain": [
       "29     3.90\n",
       "47     4.17\n",
       "48     4.17\n",
       "111    2.19\n",
       "113    2.19\n",
       "130    3.90\n",
       "131    3.90\n",
       "134    2.07\n",
       "138    2.36\n",
       "139    2.64\n",
       "140    2.64\n",
       "141    2.64\n",
       "142    2.64\n",
       "143    2.64\n",
       "144    2.64\n",
       "145    2.64\n",
       "146    2.64\n",
       "147    2.64\n",
       "148    2.64\n",
       "149    2.64\n",
       "Name: stroke, dtype: float64"
      ]
     },
     "execution_count": 186,
     "metadata": {},
     "output_type": "execute_result"
    }
   ],
   "source": [
    "df['stroke'].loc[(df['stroke'] > upper_tail) | (df['stroke'] < lower_tail)]"
   ]
  },
  {
   "cell_type": "code",
   "execution_count": 187,
   "id": "0377177a",
   "metadata": {},
   "outputs": [
    {
     "data": {
      "text/plain": [
       "20"
      ]
     },
     "execution_count": 187,
     "metadata": {},
     "output_type": "execute_result"
    }
   ],
   "source": [
    "len(df['stroke'].loc[(df['stroke'] > upper_tail) | (df['stroke'] < lower_tail)]) # 20 outlires "
   ]
  },
  {
   "cell_type": "code",
   "execution_count": 188,
   "id": "2341341d",
   "metadata": {},
   "outputs": [
    {
     "data": {
      "text/plain": [
       "0      2.68\n",
       "1      2.68\n",
       "2      3.47\n",
       "3      3.40\n",
       "4      3.40\n",
       "       ... \n",
       "200    3.15\n",
       "201    3.15\n",
       "202    2.87\n",
       "203    3.40\n",
       "204    3.15\n",
       "Name: stroke, Length: 185, dtype: float64"
      ]
     },
     "execution_count": 188,
     "metadata": {},
     "output_type": "execute_result"
    }
   ],
   "source": [
    "df['stroke'].loc[(df['stroke'] <= upper_tail) & (df['stroke'] >= lower_tail)] # 20+185"
   ]
  },
  {
   "cell_type": "code",
   "execution_count": 189,
   "id": "d84eeb02",
   "metadata": {},
   "outputs": [
    {
     "data": {
      "text/plain": [
       "3.294441575904257"
      ]
     },
     "execution_count": 189,
     "metadata": {},
     "output_type": "execute_result"
    }
   ],
   "source": [
    "# check for mean \n",
    "df['stroke'].loc[(df['stroke'] <= upper_tail) & (df['stroke'] >= lower_tail)].mean()"
   ]
  },
  {
   "cell_type": "code",
   "execution_count": 190,
   "id": "274940b3",
   "metadata": {},
   "outputs": [
    {
     "data": {
      "text/plain": [
       "3.29"
      ]
     },
     "execution_count": 190,
     "metadata": {},
     "output_type": "execute_result"
    }
   ],
   "source": [
    "# check for median\n",
    "df['stroke'].loc[(df['stroke'] <= upper_tail) & (df['stroke'] >= lower_tail)].median()"
   ]
  },
  {
   "cell_type": "code",
   "execution_count": 191,
   "id": "f47abc8f",
   "metadata": {},
   "outputs": [
    {
     "data": {
      "text/plain": [
       "3.8600000000000003"
      ]
     },
     "execution_count": 191,
     "metadata": {},
     "output_type": "execute_result"
    }
   ],
   "source": [
    "# check for uppertail\n",
    "upper_tail"
   ]
  },
  {
   "cell_type": "code",
   "execution_count": 192,
   "id": "12cb65ec",
   "metadata": {},
   "outputs": [
    {
     "data": {
      "text/plain": [
       "2.6599999999999993"
      ]
     },
     "execution_count": 192,
     "metadata": {},
     "output_type": "execute_result"
    }
   ],
   "source": [
    "# check for lowertail\n",
    "lower_tail"
   ]
  },
  {
   "cell_type": "code",
   "execution_count": 193,
   "id": "80a255e7",
   "metadata": {},
   "outputs": [],
   "source": [
    "df.loc[(df['stroke'] > upper_tail),'stroke'] = upper_tail   # Replace outlires with upper_tail"
   ]
  },
  {
   "cell_type": "code",
   "execution_count": 194,
   "id": "58b45ef9",
   "metadata": {},
   "outputs": [
    {
     "data": {
      "text/plain": [
       "Series([], Name: stroke, dtype: float64)"
      ]
     },
     "execution_count": 194,
     "metadata": {},
     "output_type": "execute_result"
    }
   ],
   "source": [
    "df.loc[(df['stroke'] > upper_tail),'stroke'] # check"
   ]
  },
  {
   "cell_type": "code",
   "execution_count": 195,
   "id": "391b9925",
   "metadata": {},
   "outputs": [],
   "source": [
    "df.loc[(df['stroke'] < lower_tail),'stroke'] = lower_tail   # Replace outlires with lower_tail"
   ]
  },
  {
   "cell_type": "code",
   "execution_count": 196,
   "id": "811ff3a8",
   "metadata": {},
   "outputs": [
    {
     "data": {
      "text/plain": [
       "Series([], Name: stroke, dtype: float64)"
      ]
     },
     "execution_count": 196,
     "metadata": {},
     "output_type": "execute_result"
    }
   ],
   "source": [
    "df.loc[(df['stroke'] < lower_tail),'stroke']  # check"
   ]
  },
  {
   "cell_type": "code",
   "execution_count": 197,
   "id": "d2b545d4",
   "metadata": {},
   "outputs": [
    {
     "data": {
      "text/plain": [
       "<AxesSubplot:xlabel='stroke'>"
      ]
     },
     "execution_count": 197,
     "metadata": {},
     "output_type": "execute_result"
    },
    {
     "data": {
      "image/png": "[encoded data removed]",
      "text/plain": [
       "<Figure size 500x200 with 1 Axes>"
      ]
     },
     "metadata": {},
     "output_type": "display_data"
    }
   ],
   "source": [
    "plt.figure(figsize=(5,2))\n",
    "sns.boxplot(x=df['stroke'])    # again chewck for outlires"
   ]
  },
  {
   "cell_type": "code",
   "execution_count": 198,
   "id": "abf37d9e",
   "metadata": {},
   "outputs": [],
   "source": [
    "# df.info()"
   ]
  },
  {
   "cell_type": "markdown",
   "id": "2eeb605d",
   "metadata": {},
   "source": [
    "## 21.compression-ratio "
   ]
  },
  {
   "cell_type": "code",
   "execution_count": 199,
   "id": "a81b0650",
   "metadata": {},
   "outputs": [
    {
     "data": {
      "text/plain": [
       "array([ 9.  , 10.  ,  8.  ,  8.5 ,  8.3 ,  7.  ,  8.8 ,  9.5 ,  9.6 ,\n",
       "        9.41,  9.4 ,  7.6 ,  9.2 , 10.1 ,  9.1 ,  8.1 , 11.5 ,  8.6 ,\n",
       "       22.7 , 22.  , 21.5 ,  7.5 , 21.9 ,  7.8 ,  8.4 , 21.  ,  8.7 ,\n",
       "        9.31,  9.3 ,  7.7 , 22.5 , 23.  ])"
      ]
     },
     "execution_count": 199,
     "metadata": {},
     "output_type": "execute_result"
    }
   ],
   "source": [
    "df['compression-ratio'].unique()"
   ]
  },
  {
   "cell_type": "code",
   "execution_count": 200,
   "id": "8a6ba340",
   "metadata": {},
   "outputs": [
    {
     "data": {
      "text/plain": [
       "32"
      ]
     },
     "execution_count": 200,
     "metadata": {},
     "output_type": "execute_result"
    }
   ],
   "source": [
    "df['compression-ratio'].nunique()"
   ]
  },
  {
   "cell_type": "code",
   "execution_count": 201,
   "id": "74a8ffb6",
   "metadata": {},
   "outputs": [],
   "source": [
    "# df['compression-ratio'].value_counts()"
   ]
  },
  {
   "cell_type": "code",
   "execution_count": 202,
   "id": "f3778358",
   "metadata": {},
   "outputs": [
    {
     "data": {
      "text/plain": [
       "0"
      ]
     },
     "execution_count": 202,
     "metadata": {},
     "output_type": "execute_result"
    }
   ],
   "source": [
    "df['compression-ratio'].isna().sum()"
   ]
  },
  {
   "cell_type": "code",
   "execution_count": 203,
   "id": "741a9f4d",
   "metadata": {},
   "outputs": [],
   "source": [
    "# check outlirs"
   ]
  },
  {
   "cell_type": "code",
   "execution_count": 204,
   "id": "7bd09773",
   "metadata": {},
   "outputs": [
    {
     "data": {
      "text/plain": [
       "<AxesSubplot:xlabel='compression-ratio'>"
      ]
     },
     "execution_count": 204,
     "metadata": {},
     "output_type": "execute_result"
    },
    {
     "data": {
      "image/png": "[encoded data removed]",
      "text/plain": [
       "<Figure size 500x200 with 1 Axes>"
      ]
     },
     "metadata": {},
     "output_type": "display_data"
    }
   ],
   "source": [
    "plt.figure(figsize=(5,2))\n",
    "sns.boxplot(x=df['compression-ratio'])"
   ]
  },
  {
   "cell_type": "code",
   "execution_count": 205,
   "id": "26b0dfee",
   "metadata": {
    "scrolled": true
   },
   "outputs": [
    {
     "name": "stdout",
     "output_type": "stream",
     "text": [
      "upper_tail : 10.600000000000001\n",
      "lower_tail : 7.399999999999999\n"
     ]
    }
   ],
   "source": [
    "q1 = df['compression-ratio'].quantile(0.25)\n",
    "q2 = df['compression-ratio'].quantile(0.50)\n",
    "q3 = df['compression-ratio'].quantile(0.75)\n",
    "\n",
    "iqr = q3 - q1\n",
    "\n",
    "upper_tail = q3 + 1.5 * iqr\n",
    "lower_tail = q1 - 1.5 * iqr\n",
    "\n",
    "\n",
    "print(\"upper_tail :\", upper_tail)\n",
    "print(\"lower_tail :\", lower_tail)"
   ]
  },
  {
   "cell_type": "code",
   "execution_count": 206,
   "id": "46a6bd62",
   "metadata": {},
   "outputs": [
    {
     "data": {
      "text/plain": [
       "9       7.0\n",
       "29      7.0\n",
       "49     11.5\n",
       "63     22.7\n",
       "66     22.0\n",
       "67     21.5\n",
       "68     21.5\n",
       "69     21.5\n",
       "70     21.5\n",
       "82      7.0\n",
       "83      7.0\n",
       "84      7.0\n",
       "90     21.9\n",
       "108    21.0\n",
       "110    21.0\n",
       "112    21.0\n",
       "114    21.0\n",
       "116    21.0\n",
       "117     7.0\n",
       "124     7.0\n",
       "158    22.5\n",
       "159    22.5\n",
       "174    22.5\n",
       "182    23.0\n",
       "184    23.0\n",
       "187    23.0\n",
       "192    23.0\n",
       "203    23.0\n",
       "Name: compression-ratio, dtype: float64"
      ]
     },
     "execution_count": 206,
     "metadata": {},
     "output_type": "execute_result"
    }
   ],
   "source": [
    "df['compression-ratio'].loc[(df['compression-ratio'] > upper_tail) | \n",
    "                            (df['compression-ratio'] < lower_tail)]"
   ]
  },
  {
   "cell_type": "code",
   "execution_count": 207,
   "id": "081ac370",
   "metadata": {},
   "outputs": [
    {
     "data": {
      "text/plain": [
       "array([ 9.  , 10.  ,  8.  ,  8.5 ,  8.3 ,  8.8 ,  9.5 ,  9.6 ,  9.41,\n",
       "        9.4 ,  7.6 ,  9.2 , 10.1 ,  9.1 ,  8.1 ,  8.6 ,  7.5 ,  7.8 ,\n",
       "        8.4 ,  8.7 ,  9.31,  9.3 ,  7.7 ])"
      ]
     },
     "execution_count": 207,
     "metadata": {},
     "output_type": "execute_result"
    }
   ],
   "source": [
    "df['compression-ratio'].loc[(df['compression-ratio'] <= upper_tail) & \n",
    "                            (df['compression-ratio'] >= lower_tail)].unique()"
   ]
  },
  {
   "cell_type": "code",
   "execution_count": 208,
   "id": "294ee592",
   "metadata": {},
   "outputs": [
    {
     "data": {
      "text/plain": [
       "8.918757062146891"
      ]
     },
     "execution_count": 208,
     "metadata": {},
     "output_type": "execute_result"
    }
   ],
   "source": [
    "# check for mean\n",
    "df['compression-ratio'].loc[(df['compression-ratio'] <= upper_tail) & \n",
    "                            (df['compression-ratio'] >= lower_tail)].mean()"
   ]
  },
  {
   "cell_type": "code",
   "execution_count": 209,
   "id": "0f64745d",
   "metadata": {},
   "outputs": [
    {
     "data": {
      "text/plain": [
       "9.0"
      ]
     },
     "execution_count": 209,
     "metadata": {},
     "output_type": "execute_result"
    }
   ],
   "source": [
    "# # check for median\n",
    "df['compression-ratio'].loc[(df['compression-ratio'] <= upper_tail) & \n",
    "                            (df['compression-ratio'] >= lower_tail)].median()"
   ]
  },
  {
   "cell_type": "code",
   "execution_count": 210,
   "id": "5d069e53",
   "metadata": {},
   "outputs": [
    {
     "data": {
      "text/plain": [
       "10.600000000000001"
      ]
     },
     "execution_count": 210,
     "metadata": {},
     "output_type": "execute_result"
    }
   ],
   "source": [
    "# check value\n",
    "upper_tail"
   ]
  },
  {
   "cell_type": "code",
   "execution_count": 211,
   "id": "f53d458e",
   "metadata": {},
   "outputs": [
    {
     "data": {
      "text/plain": [
       "7.399999999999999"
      ]
     },
     "execution_count": 211,
     "metadata": {},
     "output_type": "execute_result"
    }
   ],
   "source": [
    "# check value\n",
    "lower_tail"
   ]
  },
  {
   "cell_type": "code",
   "execution_count": 212,
   "id": "4ce48f96",
   "metadata": {},
   "outputs": [],
   "source": [
    "df.loc[df['compression-ratio'] > upper_tail,'compression-ratio'] = upper_tail"
   ]
  },
  {
   "cell_type": "code",
   "execution_count": 213,
   "id": "ea57cf06",
   "metadata": {},
   "outputs": [
    {
     "data": {
      "text/plain": [
       "Series([], Name: compression-ratio, dtype: float64)"
      ]
     },
     "execution_count": 213,
     "metadata": {},
     "output_type": "execute_result"
    }
   ],
   "source": [
    "df.loc[df['compression-ratio'] > upper_tail,'compression-ratio']  # check "
   ]
  },
  {
   "cell_type": "code",
   "execution_count": 214,
   "id": "3f2ba01e",
   "metadata": {},
   "outputs": [],
   "source": [
    "df.loc[df['compression-ratio'] < lower_tail,'compression-ratio'] = lower_tail"
   ]
  },
  {
   "cell_type": "code",
   "execution_count": 215,
   "id": "99254241",
   "metadata": {},
   "outputs": [
    {
     "data": {
      "text/plain": [
       "Series([], Name: compression-ratio, dtype: float64)"
      ]
     },
     "execution_count": 215,
     "metadata": {},
     "output_type": "execute_result"
    }
   ],
   "source": [
    "df.loc[df['compression-ratio'] < lower_tail,'compression-ratio'] # check"
   ]
  },
  {
   "cell_type": "code",
   "execution_count": 216,
   "id": "ee19abfc",
   "metadata": {},
   "outputs": [
    {
     "data": {
      "text/plain": [
       "<AxesSubplot:xlabel='compression-ratio'>"
      ]
     },
     "execution_count": 216,
     "metadata": {},
     "output_type": "execute_result"
    },
    {
     "data": {
      "image/png": "[encoded data removed]",
      "text/plain": [
       "<Figure size 500x200 with 1 Axes>"
      ]
     },
     "metadata": {},
     "output_type": "display_data"
    }
   ],
   "source": [
    "plt.figure(figsize=(5,2))\n",
    "sns.boxplot(x=df['compression-ratio'])   # again check for outlirs"
   ]
  },
  {
   "cell_type": "code",
   "execution_count": 217,
   "id": "607e0e93",
   "metadata": {},
   "outputs": [],
   "source": [
    "# df.info()"
   ]
  },
  {
   "cell_type": "markdown",
   "id": "828997de",
   "metadata": {},
   "source": [
    "## 22. horsepower "
   ]
  },
  {
   "cell_type": "code",
   "execution_count": 218,
   "id": "ca3dc5e9",
   "metadata": {},
   "outputs": [
    {
     "data": {
      "text/plain": [
       "array(['111', '154', '102', '115', '110', '140', '160', '101', '121',\n",
       "       '182', '48', '70', '68', '88', '145', '58', '76', '60', '86',\n",
       "       '100', '78', '90', '176', '262', '135', '84', '64', '120', '72',\n",
       "       '123', '155', '184', '175', '116', '69', '55', '97', '152', '200',\n",
       "       '95', '142', '143', '207', '288', nan, '73', '82', '94', '62',\n",
       "       '56', '112', '92', '161', '156', '52', '85', '114', '162', '134',\n",
       "       '106'], dtype=object)"
      ]
     },
     "execution_count": 218,
     "metadata": {},
     "output_type": "execute_result"
    }
   ],
   "source": [
    "df['horsepower'].unique() # dtype=object"
   ]
  },
  {
   "cell_type": "code",
   "execution_count": 219,
   "id": "382e1c5e",
   "metadata": {},
   "outputs": [
    {
     "data": {
      "text/plain": [
       "59"
      ]
     },
     "execution_count": 219,
     "metadata": {},
     "output_type": "execute_result"
    }
   ],
   "source": [
    "df['horsepower'].nunique()"
   ]
  },
  {
   "cell_type": "code",
   "execution_count": 220,
   "id": "773a3d75",
   "metadata": {},
   "outputs": [
    {
     "data": {
      "text/plain": [
       "0      111.0\n",
       "1      111.0\n",
       "2      154.0\n",
       "3      102.0\n",
       "4      115.0\n",
       "       ...  \n",
       "200    114.0\n",
       "201    160.0\n",
       "202    134.0\n",
       "203    106.0\n",
       "204    114.0\n",
       "Name: horsepower, Length: 205, dtype: float64"
      ]
     },
     "execution_count": 220,
     "metadata": {},
     "output_type": "execute_result"
    }
   ],
   "source": [
    "df['horsepower'] = df['horsepower'].astype(float) # Object to dtype\n",
    "df['horsepower']  "
   ]
  },
  {
   "cell_type": "code",
   "execution_count": 221,
   "id": "308d2a2c",
   "metadata": {},
   "outputs": [
    {
     "data": {
      "text/plain": [
       "2"
      ]
     },
     "execution_count": 221,
     "metadata": {},
     "output_type": "execute_result"
    }
   ],
   "source": [
    "df['horsepower'].isna().sum()"
   ]
  },
  {
   "cell_type": "code",
   "execution_count": 222,
   "id": "6e5f0c27",
   "metadata": {},
   "outputs": [
    {
     "data": {
      "text/plain": [
       "104.25615763546799"
      ]
     },
     "execution_count": 222,
     "metadata": {},
     "output_type": "execute_result"
    }
   ],
   "source": [
    "df['horsepower'].mean()"
   ]
  },
  {
   "cell_type": "code",
   "execution_count": 223,
   "id": "109a9d5c",
   "metadata": {},
   "outputs": [
    {
     "data": {
      "text/plain": [
       "95.0"
      ]
     },
     "execution_count": 223,
     "metadata": {},
     "output_type": "execute_result"
    }
   ],
   "source": [
    "df['horsepower'].median()"
   ]
  },
  {
   "cell_type": "code",
   "execution_count": 224,
   "id": "c81a4b5c",
   "metadata": {},
   "outputs": [],
   "source": [
    "df['horsepower'].fillna(95.0,inplace=True)   # REplace NAN value"
   ]
  },
  {
   "cell_type": "code",
   "execution_count": 225,
   "id": "3cab3b61",
   "metadata": {},
   "outputs": [],
   "source": [
    "# check outlires"
   ]
  },
  {
   "cell_type": "code",
   "execution_count": 226,
   "id": "923d675c",
   "metadata": {},
   "outputs": [
    {
     "data": {
      "text/plain": [
       "<AxesSubplot:xlabel='horsepower'>"
      ]
     },
     "execution_count": 226,
     "metadata": {},
     "output_type": "execute_result"
    },
    {
     "data": {
      "image/png": "[encoded data removed]",
      "text/plain": [
       "<Figure size 500x200 with 1 Axes>"
      ]
     },
     "metadata": {},
     "output_type": "display_data"
    }
   ],
   "source": [
    "plt.figure(figsize=(5,2))\n",
    "sns.boxplot(x=df['horsepower'])"
   ]
  },
  {
   "cell_type": "code",
   "execution_count": 227,
   "id": "fe8afe5f",
   "metadata": {},
   "outputs": [
    {
     "name": "stdout",
     "output_type": "stream",
     "text": [
      "upper_tail : 185.0\n",
      "lower_tail : 1.0\n"
     ]
    }
   ],
   "source": [
    "q1 = df['horsepower'].quantile(0.25)\n",
    "q2 = df['horsepower'].quantile(0.50)\n",
    "q3 = df['horsepower'].quantile(0.75)\n",
    "\n",
    "iqr = q3 - q1\n",
    "\n",
    "upper_tail = q3 + 1.5 * iqr\n",
    "lower_tail = q1 - 1.5 * iqr\n",
    "\n",
    "\n",
    "print(\"upper_tail :\", upper_tail)\n",
    "print(\"lower_tail :\", lower_tail)"
   ]
  },
  {
   "cell_type": "code",
   "execution_count": 228,
   "id": "08a34c85",
   "metadata": {},
   "outputs": [
    {
     "data": {
      "text/plain": [
       "49     262.0\n",
       "105    200.0\n",
       "126    207.0\n",
       "127    207.0\n",
       "128    207.0\n",
       "129    288.0\n",
       "Name: horsepower, dtype: float64"
      ]
     },
     "execution_count": 228,
     "metadata": {},
     "output_type": "execute_result"
    }
   ],
   "source": [
    "df['horsepower'].loc[(df['horsepower'] > upper_tail) | \n",
    "                            (df['horsepower'] < lower_tail)]  # these are the outlires"
   ]
  },
  {
   "cell_type": "code",
   "execution_count": 229,
   "id": "22dc5115",
   "metadata": {},
   "outputs": [
    {
     "data": {
      "text/plain": [
       "0      111.0\n",
       "1      111.0\n",
       "2      154.0\n",
       "3      102.0\n",
       "4      115.0\n",
       "       ...  \n",
       "200    114.0\n",
       "201    160.0\n",
       "202    134.0\n",
       "203    106.0\n",
       "204    114.0\n",
       "Name: horsepower, Length: 199, dtype: float64"
      ]
     },
     "execution_count": 229,
     "metadata": {},
     "output_type": "execute_result"
    }
   ],
   "source": [
    "df['horsepower'].loc[(df['horsepower'] <= upper_tail) & \n",
    "                            (df['horsepower'] >= lower_tail)]  # values b/w the outlirs"
   ]
  },
  {
   "cell_type": "code",
   "execution_count": 230,
   "id": "43309fef",
   "metadata": {},
   "outputs": [
    {
     "data": {
      "text/plain": [
       "100.41708542713567"
      ]
     },
     "execution_count": 230,
     "metadata": {},
     "output_type": "execute_result"
    }
   ],
   "source": [
    "# check for mean value\n",
    "df['horsepower'].loc[(df['horsepower'] <= upper_tail) & \n",
    "                            (df['horsepower'] >= lower_tail)].mean() "
   ]
  },
  {
   "cell_type": "code",
   "execution_count": 231,
   "id": "a9c11584",
   "metadata": {},
   "outputs": [
    {
     "data": {
      "text/plain": [
       "95.0"
      ]
     },
     "execution_count": 231,
     "metadata": {},
     "output_type": "execute_result"
    }
   ],
   "source": [
    "# check for median value\n",
    "df['horsepower'].loc[(df['horsepower'] <= upper_tail) & \n",
    "                            (df['horsepower'] >= lower_tail)].median()"
   ]
  },
  {
   "cell_type": "code",
   "execution_count": 232,
   "id": "11696255",
   "metadata": {},
   "outputs": [
    {
     "data": {
      "text/plain": [
       "184.0"
      ]
     },
     "execution_count": 232,
     "metadata": {},
     "output_type": "execute_result"
    }
   ],
   "source": [
    "# check for max value\n",
    "df['horsepower'].loc[(df['horsepower'] <= upper_tail) & \n",
    "                            (df['horsepower'] >= lower_tail)].max()"
   ]
  },
  {
   "cell_type": "code",
   "execution_count": 233,
   "id": "98d82c66",
   "metadata": {},
   "outputs": [
    {
     "data": {
      "text/plain": [
       "185.0"
      ]
     },
     "execution_count": 233,
     "metadata": {},
     "output_type": "execute_result"
    }
   ],
   "source": [
    "# check for uppertai value\n",
    "upper_tail"
   ]
  },
  {
   "cell_type": "code",
   "execution_count": 234,
   "id": "bc4f3ba3",
   "metadata": {},
   "outputs": [],
   "source": [
    "# Feature engg replace outlires with uppertail\n",
    "df.loc[(df['horsepower'] > upper_tail) | \n",
    "                            (df['horsepower'] < lower_tail),'horsepower'] = upper_tail"
   ]
  },
  {
   "cell_type": "code",
   "execution_count": 235,
   "id": "60c2e2ae",
   "metadata": {},
   "outputs": [
    {
     "data": {
      "text/plain": [
       "Series([], Name: horsepower, dtype: float64)"
      ]
     },
     "execution_count": 235,
     "metadata": {},
     "output_type": "execute_result"
    }
   ],
   "source": [
    "df.loc[(df['horsepower'] > upper_tail) | \n",
    "                            (df['horsepower'] < lower_tail),'horsepower']   # check"
   ]
  },
  {
   "cell_type": "code",
   "execution_count": 236,
   "id": "39334e86",
   "metadata": {},
   "outputs": [
    {
     "data": {
      "text/plain": [
       "<AxesSubplot:xlabel='horsepower'>"
      ]
     },
     "execution_count": 236,
     "metadata": {},
     "output_type": "execute_result"
    },
    {
     "data": {
      "image/png": "[encoded data removed]",
      "text/plain": [
       "<Figure size 500x200 with 1 Axes>"
      ]
     },
     "metadata": {},
     "output_type": "display_data"
    }
   ],
   "source": [
    "plt.figure(figsize=(5,2))\n",
    "sns.boxplot(x=df['horsepower'])  # again check for outlires"
   ]
  },
  {
   "cell_type": "code",
   "execution_count": 237,
   "id": "f694f472",
   "metadata": {},
   "outputs": [],
   "source": [
    "# df.info()"
   ]
  },
  {
   "cell_type": "markdown",
   "id": "d7de5bca",
   "metadata": {},
   "source": [
    "## 23.peak-rpm "
   ]
  },
  {
   "cell_type": "code",
   "execution_count": 238,
   "id": "d7867794",
   "metadata": {},
   "outputs": [
    {
     "data": {
      "text/plain": [
       "array(['5000', '5500', '5800', '4250', '5400', '5100', '4800', '6000',\n",
       "       '4750', '4650', '4200', '4350', '4500', '5200', '4150', '5600',\n",
       "       '5900', '5750', nan, '5250', '4900', '4400', '6600', '5300'],\n",
       "      dtype=object)"
      ]
     },
     "execution_count": 238,
     "metadata": {},
     "output_type": "execute_result"
    }
   ],
   "source": [
    "df['peak-rpm'].unique()  # have numerical values but DT is object because of '?' present initially in the columns."
   ]
  },
  {
   "cell_type": "code",
   "execution_count": 239,
   "id": "5e867bd8",
   "metadata": {},
   "outputs": [],
   "source": [
    "df['peak-rpm'] = df['peak-rpm'].astype(float)"
   ]
  },
  {
   "cell_type": "code",
   "execution_count": 240,
   "id": "d638541b",
   "metadata": {},
   "outputs": [
    {
     "data": {
      "text/plain": [
       "2"
      ]
     },
     "execution_count": 240,
     "metadata": {},
     "output_type": "execute_result"
    }
   ],
   "source": [
    "df['peak-rpm'].isna().sum()"
   ]
  },
  {
   "cell_type": "code",
   "execution_count": 241,
   "id": "0fbceb71",
   "metadata": {},
   "outputs": [],
   "source": [
    "# df['peak-rpm'].mean()"
   ]
  },
  {
   "cell_type": "code",
   "execution_count": 242,
   "id": "795d07f0",
   "metadata": {},
   "outputs": [],
   "source": [
    "# df['peak-rpm'].median()"
   ]
  },
  {
   "cell_type": "code",
   "execution_count": 243,
   "id": "c137b633",
   "metadata": {},
   "outputs": [],
   "source": [
    "df['peak-rpm'].fillna(5200.0,inplace=True)   # feature engginring step"
   ]
  },
  {
   "cell_type": "code",
   "execution_count": 244,
   "id": "02c6abbb",
   "metadata": {},
   "outputs": [],
   "source": [
    "# check outlires"
   ]
  },
  {
   "cell_type": "code",
   "execution_count": 245,
   "id": "41f4b64c",
   "metadata": {},
   "outputs": [
    {
     "data": {
      "text/plain": [
       "<AxesSubplot:xlabel='peak-rpm'>"
      ]
     },
     "execution_count": 245,
     "metadata": {},
     "output_type": "execute_result"
    },
    {
     "data": {
      "image/png": "[encoded data removed]",
      "text/plain": [
       "<Figure size 500x200 with 1 Axes>"
      ]
     },
     "metadata": {},
     "output_type": "display_data"
    }
   ],
   "source": [
    "plt.figure(figsize=(5,2))\n",
    "sns.boxplot(x=df['peak-rpm'])"
   ]
  },
  {
   "cell_type": "code",
   "execution_count": 246,
   "id": "26703d5e",
   "metadata": {},
   "outputs": [
    {
     "name": "stdout",
     "output_type": "stream",
     "text": [
      "upper_tail : 6550.0\n",
      "lower_tail : 3750.0\n"
     ]
    }
   ],
   "source": [
    "q1 = df['peak-rpm'].quantile(0.25)\n",
    "q2 = df['peak-rpm'].quantile(0.50)\n",
    "q3 = df['peak-rpm'].quantile(0.75)\n",
    "\n",
    "iqr = q3 - q1\n",
    "\n",
    "upper_tail = q3 + 1.5 * iqr\n",
    "lower_tail = q1 - 1.5 * iqr\n",
    "\n",
    "\n",
    "print(\"upper_tail :\", upper_tail)\n",
    "print(\"lower_tail :\", lower_tail)"
   ]
  },
  {
   "cell_type": "code",
   "execution_count": 247,
   "id": "f94d4304",
   "metadata": {},
   "outputs": [
    {
     "data": {
      "text/plain": [
       "165    6600.0\n",
       "166    6600.0\n",
       "Name: peak-rpm, dtype: float64"
      ]
     },
     "execution_count": 247,
     "metadata": {},
     "output_type": "execute_result"
    }
   ],
   "source": [
    "df['peak-rpm'].loc[(df['peak-rpm'] > upper_tail) | \n",
    "                            (df['peak-rpm'] < lower_tail)] "
   ]
  },
  {
   "cell_type": "code",
   "execution_count": 248,
   "id": "868c222a",
   "metadata": {},
   "outputs": [
    {
     "data": {
      "text/plain": [
       "0      5000.0\n",
       "1      5000.0\n",
       "2      5000.0\n",
       "3      5500.0\n",
       "4      5500.0\n",
       "        ...  \n",
       "200    5400.0\n",
       "201    5300.0\n",
       "202    5500.0\n",
       "203    4800.0\n",
       "204    5400.0\n",
       "Name: peak-rpm, Length: 203, dtype: float64"
      ]
     },
     "execution_count": 248,
     "metadata": {},
     "output_type": "execute_result"
    }
   ],
   "source": [
    "df['peak-rpm'].loc[(df['peak-rpm'] <= upper_tail) & \n",
    "                            (df['peak-rpm'] >= lower_tail)]  "
   ]
  },
  {
   "cell_type": "code",
   "execution_count": 249,
   "id": "1048576c",
   "metadata": {},
   "outputs": [
    {
     "data": {
      "text/plain": [
       "5111.5763546798025"
      ]
     },
     "execution_count": 249,
     "metadata": {},
     "output_type": "execute_result"
    }
   ],
   "source": [
    "df['peak-rpm'].loc[(df['peak-rpm'] <= upper_tail) & \n",
    "                            (df['peak-rpm'] >= lower_tail)].mean() "
   ]
  },
  {
   "cell_type": "code",
   "execution_count": 250,
   "id": "10af89b2",
   "metadata": {},
   "outputs": [
    {
     "data": {
      "text/plain": [
       "5200.0"
      ]
     },
     "execution_count": 250,
     "metadata": {},
     "output_type": "execute_result"
    }
   ],
   "source": [
    "df['peak-rpm'].loc[(df['peak-rpm'] <= upper_tail) & \n",
    "                            (df['peak-rpm'] >= lower_tail)].median()"
   ]
  },
  {
   "cell_type": "code",
   "execution_count": 251,
   "id": "0d82dd4c",
   "metadata": {},
   "outputs": [
    {
     "data": {
      "text/plain": [
       "6550.0"
      ]
     },
     "execution_count": 251,
     "metadata": {},
     "output_type": "execute_result"
    }
   ],
   "source": [
    "upper_tail"
   ]
  },
  {
   "cell_type": "code",
   "execution_count": 252,
   "id": "961574c7",
   "metadata": {},
   "outputs": [],
   "source": [
    "df.loc[(df['peak-rpm'] > upper_tail) | \n",
    "                            (df['peak-rpm'] < lower_tail),'peak-rpm'] = upper_tail"
   ]
  },
  {
   "cell_type": "code",
   "execution_count": 253,
   "id": "d05630d8",
   "metadata": {},
   "outputs": [
    {
     "data": {
      "text/plain": [
       "Series([], Name: peak-rpm, dtype: float64)"
      ]
     },
     "execution_count": 253,
     "metadata": {},
     "output_type": "execute_result"
    }
   ],
   "source": [
    "df.loc[(df['peak-rpm'] > upper_tail) | \n",
    "                            (df['peak-rpm'] < lower_tail),'peak-rpm']"
   ]
  },
  {
   "cell_type": "code",
   "execution_count": 254,
   "id": "fc351f92",
   "metadata": {},
   "outputs": [
    {
     "data": {
      "text/plain": [
       "<AxesSubplot:xlabel='peak-rpm'>"
      ]
     },
     "execution_count": 254,
     "metadata": {},
     "output_type": "execute_result"
    },
    {
     "data": {
      "image/png": "[encoded data removed]",
      "text/plain": [
       "<Figure size 500x200 with 1 Axes>"
      ]
     },
     "metadata": {},
     "output_type": "display_data"
    }
   ],
   "source": [
    "plt.figure(figsize=(5,2))\n",
    "sns.boxplot(x=df['peak-rpm'])   # again check for outlires"
   ]
  },
  {
   "cell_type": "markdown",
   "id": "a73cc745",
   "metadata": {},
   "source": [
    "## 24.city-mpg"
   ]
  },
  {
   "cell_type": "code",
   "execution_count": 255,
   "id": "c979310d",
   "metadata": {},
   "outputs": [
    {
     "data": {
      "text/plain": [
       "array([21, 19, 24, 18, 17, 16, 23, 20, 15, 47, 38, 37, 31, 49, 30, 27, 25,\n",
       "       13, 26, 36, 22, 14, 45, 28, 32, 35, 34, 29, 33], dtype=int64)"
      ]
     },
     "execution_count": 255,
     "metadata": {},
     "output_type": "execute_result"
    }
   ],
   "source": [
    "df['city-mpg'].unique()"
   ]
  },
  {
   "cell_type": "code",
   "execution_count": 256,
   "id": "e994411d",
   "metadata": {},
   "outputs": [
    {
     "data": {
      "text/plain": [
       "0"
      ]
     },
     "execution_count": 256,
     "metadata": {},
     "output_type": "execute_result"
    }
   ],
   "source": [
    "df['city-mpg'].isna().sum()"
   ]
  },
  {
   "cell_type": "code",
   "execution_count": 257,
   "id": "8b51730f",
   "metadata": {},
   "outputs": [],
   "source": [
    "# check outlires"
   ]
  },
  {
   "cell_type": "code",
   "execution_count": 258,
   "id": "55b26f3e",
   "metadata": {},
   "outputs": [
    {
     "data": {
      "text/plain": [
       "<AxesSubplot:xlabel='city-mpg'>"
      ]
     },
     "execution_count": 258,
     "metadata": {},
     "output_type": "execute_result"
    },
    {
     "data": {
      "image/png": "[encoded data removed]",
      "text/plain": [
       "<Figure size 500x200 with 1 Axes>"
      ]
     },
     "metadata": {},
     "output_type": "display_data"
    }
   ],
   "source": [
    "plt.figure(figsize=(5,2))\n",
    "sns.boxplot(x=df['city-mpg'])"
   ]
  },
  {
   "cell_type": "code",
   "execution_count": 259,
   "id": "69d35dd8",
   "metadata": {},
   "outputs": [
    {
     "name": "stdout",
     "output_type": "stream",
     "text": [
      "upper_tail : 46.5\n",
      "lower_tail : 2.5\n"
     ]
    }
   ],
   "source": [
    "q1 = df['city-mpg'].quantile(0.25)\n",
    "q2 = df['city-mpg'].quantile(0.50)\n",
    "q3 = df['city-mpg'].quantile(0.75)\n",
    "\n",
    "iqr = q3 - q1\n",
    "\n",
    "upper_tail = q3 + 1.5 * iqr\n",
    "lower_tail = q1 - 1.5 * iqr\n",
    "\n",
    "\n",
    "print(\"upper_tail :\", upper_tail)\n",
    "print(\"lower_tail :\", lower_tail)"
   ]
  },
  {
   "cell_type": "code",
   "execution_count": 260,
   "id": "a65be0ca",
   "metadata": {},
   "outputs": [
    {
     "data": {
      "text/plain": [
       "18    47\n",
       "30    49\n",
       "Name: city-mpg, dtype: int64"
      ]
     },
     "execution_count": 260,
     "metadata": {},
     "output_type": "execute_result"
    }
   ],
   "source": [
    "df['city-mpg'].loc[(df['city-mpg'] > upper_tail) | \n",
    "                            (df['city-mpg'] < lower_tail)] "
   ]
  },
  {
   "cell_type": "code",
   "execution_count": 261,
   "id": "cc64d5d8",
   "metadata": {},
   "outputs": [
    {
     "data": {
      "text/plain": [
       "0      21\n",
       "1      21\n",
       "2      19\n",
       "3      24\n",
       "4      18\n",
       "       ..\n",
       "200    23\n",
       "201    19\n",
       "202    18\n",
       "203    26\n",
       "204    19\n",
       "Name: city-mpg, Length: 203, dtype: int64"
      ]
     },
     "execution_count": 261,
     "metadata": {},
     "output_type": "execute_result"
    }
   ],
   "source": [
    "df['city-mpg'].loc[(df['city-mpg'] <= upper_tail) & \n",
    "                            (df['city-mpg'] >= lower_tail)]  "
   ]
  },
  {
   "cell_type": "code",
   "execution_count": 262,
   "id": "e666b418",
   "metadata": {},
   "outputs": [
    {
     "data": {
      "text/plain": [
       "24.995073891625616"
      ]
     },
     "execution_count": 262,
     "metadata": {},
     "output_type": "execute_result"
    }
   ],
   "source": [
    "df['city-mpg'].loc[(df['city-mpg'] <= upper_tail) & \n",
    "                            (df['city-mpg'] >= lower_tail)].mean()"
   ]
  },
  {
   "cell_type": "code",
   "execution_count": 263,
   "id": "02a70851",
   "metadata": {},
   "outputs": [
    {
     "data": {
      "text/plain": [
       "24.0"
      ]
     },
     "execution_count": 263,
     "metadata": {},
     "output_type": "execute_result"
    }
   ],
   "source": [
    "df['city-mpg'].loc[(df['city-mpg'] <= upper_tail) & \n",
    "                            (df['city-mpg'] >= lower_tail)].median()"
   ]
  },
  {
   "cell_type": "code",
   "execution_count": 264,
   "id": "55a64843",
   "metadata": {},
   "outputs": [
    {
     "data": {
      "text/plain": [
       "46.5"
      ]
     },
     "execution_count": 264,
     "metadata": {},
     "output_type": "execute_result"
    }
   ],
   "source": [
    "upper_tail "
   ]
  },
  {
   "cell_type": "code",
   "execution_count": 265,
   "id": "f90fa461",
   "metadata": {},
   "outputs": [],
   "source": [
    "# Feature Enggineering\n",
    "df.loc[(df['city-mpg'] > upper_tail) | \n",
    "                            (df['city-mpg'] < lower_tail),'city-mpg'] = upper_tail  "
   ]
  },
  {
   "cell_type": "code",
   "execution_count": 266,
   "id": "92b527f4",
   "metadata": {},
   "outputs": [
    {
     "data": {
      "text/plain": [
       "Series([], Name: city-mpg, dtype: float64)"
      ]
     },
     "execution_count": 266,
     "metadata": {},
     "output_type": "execute_result"
    }
   ],
   "source": [
    "df.loc[(df['city-mpg'] > upper_tail) | \n",
    "                            (df['city-mpg'] < lower_tail),'city-mpg']"
   ]
  },
  {
   "cell_type": "code",
   "execution_count": 267,
   "id": "cb8f3f14",
   "metadata": {},
   "outputs": [
    {
     "data": {
      "text/plain": [
       "<AxesSubplot:xlabel='city-mpg'>"
      ]
     },
     "execution_count": 267,
     "metadata": {},
     "output_type": "execute_result"
    },
    {
     "data": {
      "image/png": "[encoded data removed]",
      "text/plain": [
       "<Figure size 500x200 with 1 Axes>"
      ]
     },
     "metadata": {},
     "output_type": "display_data"
    }
   ],
   "source": [
    "plt.figure(figsize=(5,2))\n",
    "sns.boxplot(x=df['city-mpg'])  # again check for outlres"
   ]
  },
  {
   "cell_type": "markdown",
   "id": "68c5180f",
   "metadata": {},
   "source": [
    "## 25.highway-mpg "
   ]
  },
  {
   "cell_type": "code",
   "execution_count": 268,
   "id": "ca9a3a72",
   "metadata": {},
   "outputs": [
    {
     "data": {
      "text/plain": [
       "array([27, 26, 30, 22, 25, 20, 29, 28, 53, 43, 41, 38, 24, 54, 42, 34, 33,\n",
       "       31, 19, 17, 23, 32, 39, 18, 16, 37, 50, 36, 47, 46], dtype=int64)"
      ]
     },
     "execution_count": 268,
     "metadata": {},
     "output_type": "execute_result"
    }
   ],
   "source": [
    "df['highway-mpg'].unique()"
   ]
  },
  {
   "cell_type": "code",
   "execution_count": 269,
   "id": "1532c423",
   "metadata": {},
   "outputs": [
    {
     "data": {
      "text/plain": [
       "0"
      ]
     },
     "execution_count": 269,
     "metadata": {},
     "output_type": "execute_result"
    }
   ],
   "source": [
    "df['highway-mpg'].isna().sum()  # no NAN value"
   ]
  },
  {
   "cell_type": "code",
   "execution_count": 270,
   "id": "ed3c449b",
   "metadata": {},
   "outputs": [
    {
     "data": {
      "text/plain": [
       "<AxesSubplot:xlabel='highway-mpg'>"
      ]
     },
     "execution_count": 270,
     "metadata": {},
     "output_type": "execute_result"
    },
    {
     "data": {
      "image/png": "[encoded data removed]",
      "text/plain": [
       "<Figure size 500x200 with 1 Axes>"
      ]
     },
     "metadata": {},
     "output_type": "display_data"
    }
   ],
   "source": [
    "# check outlirs\n",
    "plt.figure(figsize=(5,2))\n",
    "sns.boxplot(x=df['highway-mpg'])"
   ]
  },
  {
   "cell_type": "code",
   "execution_count": 271,
   "id": "4c62460b",
   "metadata": {},
   "outputs": [
    {
     "name": "stdout",
     "output_type": "stream",
     "text": [
      "upper_tail : 47.5\n",
      "lower_tail : 11.5\n"
     ]
    }
   ],
   "source": [
    "q1 = df['highway-mpg'].quantile(0.25)\n",
    "q2 = df['highway-mpg'].quantile(0.50)\n",
    "q3 = df['highway-mpg'].quantile(0.75)\n",
    "\n",
    "iqr = q3 - q1\n",
    "\n",
    "upper_tail = q3 + 1.5 * iqr\n",
    "lower_tail = q1 - 1.5 * iqr\n",
    "\n",
    "\n",
    "print(\"upper_tail :\", upper_tail)\n",
    "print(\"lower_tail :\", lower_tail)"
   ]
  },
  {
   "cell_type": "code",
   "execution_count": 272,
   "id": "502362c2",
   "metadata": {},
   "outputs": [
    {
     "data": {
      "text/plain": [
       "18    53\n",
       "30    54\n",
       "90    50\n",
       "Name: highway-mpg, dtype: int64"
      ]
     },
     "execution_count": 272,
     "metadata": {},
     "output_type": "execute_result"
    }
   ],
   "source": [
    "df['highway-mpg'].loc[(df['highway-mpg'] > upper_tail) | \n",
    "                            (df['highway-mpg'] < lower_tail)] "
   ]
  },
  {
   "cell_type": "code",
   "execution_count": 273,
   "id": "683b86e3",
   "metadata": {},
   "outputs": [
    {
     "data": {
      "text/plain": [
       "0      27\n",
       "1      27\n",
       "2      26\n",
       "3      30\n",
       "4      22\n",
       "       ..\n",
       "200    28\n",
       "201    25\n",
       "202    23\n",
       "203    27\n",
       "204    25\n",
       "Name: highway-mpg, Length: 202, dtype: int64"
      ]
     },
     "execution_count": 273,
     "metadata": {},
     "output_type": "execute_result"
    }
   ],
   "source": [
    "df['highway-mpg'].loc[(df['highway-mpg'] <= upper_tail) & \n",
    "                            (df['highway-mpg'] >= lower_tail)]  "
   ]
  },
  {
   "cell_type": "code",
   "execution_count": 274,
   "id": "493a129c",
   "metadata": {},
   "outputs": [
    {
     "data": {
      "text/plain": [
       "30.43069306930693"
      ]
     },
     "execution_count": 274,
     "metadata": {},
     "output_type": "execute_result"
    }
   ],
   "source": [
    "df['highway-mpg'].loc[(df['highway-mpg'] <= upper_tail) & \n",
    "                            (df['highway-mpg'] >= lower_tail)].mean() "
   ]
  },
  {
   "cell_type": "code",
   "execution_count": 275,
   "id": "f66b6804",
   "metadata": {},
   "outputs": [
    {
     "data": {
      "text/plain": [
       "30.0"
      ]
     },
     "execution_count": 275,
     "metadata": {},
     "output_type": "execute_result"
    }
   ],
   "source": [
    "df['highway-mpg'].loc[(df['highway-mpg'] <= upper_tail) & \n",
    "                            (df['highway-mpg'] >= lower_tail)].median() "
   ]
  },
  {
   "cell_type": "code",
   "execution_count": 276,
   "id": "78db2298",
   "metadata": {},
   "outputs": [
    {
     "data": {
      "text/plain": [
       "47.5"
      ]
     },
     "execution_count": 276,
     "metadata": {},
     "output_type": "execute_result"
    }
   ],
   "source": [
    "upper_tail"
   ]
  },
  {
   "cell_type": "code",
   "execution_count": 277,
   "id": "8375ab89",
   "metadata": {},
   "outputs": [],
   "source": [
    "# Feature Enggineering\n",
    "df.loc[(df['highway-mpg'] > upper_tail) | \n",
    "                            (df['highway-mpg'] < lower_tail),'highway-mpg'] = upper_tail"
   ]
  },
  {
   "cell_type": "code",
   "execution_count": 278,
   "id": "8efaad76",
   "metadata": {},
   "outputs": [
    {
     "data": {
      "text/plain": [
       "Series([], Name: highway-mpg, dtype: float64)"
      ]
     },
     "execution_count": 278,
     "metadata": {},
     "output_type": "execute_result"
    }
   ],
   "source": [
    "df.loc[(df['highway-mpg'] > upper_tail) | \n",
    "                            (df['highway-mpg'] < lower_tail),'highway-mpg'] "
   ]
  },
  {
   "cell_type": "code",
   "execution_count": 279,
   "id": "d18343f7",
   "metadata": {},
   "outputs": [
    {
     "data": {
      "text/plain": [
       "<AxesSubplot:xlabel='highway-mpg'>"
      ]
     },
     "execution_count": 279,
     "metadata": {},
     "output_type": "execute_result"
    },
    {
     "data": {
      "image/png": "[encoded data removed]",
      "text/plain": [
       "<Figure size 500x200 with 1 Axes>"
      ]
     },
     "metadata": {},
     "output_type": "display_data"
    }
   ],
   "source": [
    "plt.figure(figsize=(5,2))\n",
    "sns.boxplot(x=df['highway-mpg'])  # again check for outlires"
   ]
  },
  {
   "cell_type": "markdown",
   "id": "e6b331ca",
   "metadata": {},
   "source": [
    "## 27. price "
   ]
  },
  {
   "cell_type": "code",
   "execution_count": 280,
   "id": "64a99201",
   "metadata": {},
   "outputs": [],
   "source": [
    "# df['price'].unique() "
   ]
  },
  {
   "cell_type": "code",
   "execution_count": 281,
   "id": "63a6b84d",
   "metadata": {},
   "outputs": [
    {
     "data": {
      "text/plain": [
       "186"
      ]
     },
     "execution_count": 281,
     "metadata": {},
     "output_type": "execute_result"
    }
   ],
   "source": [
    "df['price'].nunique()   # target coulumn must contain unique values as it is linear regression problem"
   ]
  },
  {
   "cell_type": "code",
   "execution_count": 282,
   "id": "90d96faf",
   "metadata": {},
   "outputs": [],
   "source": [
    "df['price'] = df['price'].astype(float)"
   ]
  },
  {
   "cell_type": "code",
   "execution_count": 283,
   "id": "79a6bf16",
   "metadata": {},
   "outputs": [
    {
     "data": {
      "text/plain": [
       "4"
      ]
     },
     "execution_count": 283,
     "metadata": {},
     "output_type": "execute_result"
    }
   ],
   "source": [
    "df['price'].isna().sum()  # missing values"
   ]
  },
  {
   "cell_type": "code",
   "execution_count": 284,
   "id": "5bbd9814",
   "metadata": {},
   "outputs": [
    {
     "data": {
      "text/plain": [
       "13207.129353233831"
      ]
     },
     "execution_count": 284,
     "metadata": {},
     "output_type": "execute_result"
    }
   ],
   "source": [
    "# check for mean\n",
    "df['price'].mean()"
   ]
  },
  {
   "cell_type": "code",
   "execution_count": 285,
   "id": "56fc0e0b",
   "metadata": {},
   "outputs": [
    {
     "data": {
      "text/plain": [
       "10295.0"
      ]
     },
     "execution_count": 285,
     "metadata": {},
     "output_type": "execute_result"
    }
   ],
   "source": [
    "# check for median\n",
    "df['price'].median()"
   ]
  },
  {
   "cell_type": "code",
   "execution_count": 286,
   "id": "2560c924",
   "metadata": {},
   "outputs": [],
   "source": [
    "df['price'].fillna(df['price'].median(),inplace=True)"
   ]
  },
  {
   "cell_type": "code",
   "execution_count": 287,
   "id": "b5939c5d",
   "metadata": {},
   "outputs": [
    {
     "data": {
      "text/plain": [
       "<AxesSubplot:xlabel='price'>"
      ]
     },
     "execution_count": 287,
     "metadata": {},
     "output_type": "execute_result"
    },
    {
     "data": {
      "image/png": "[encoded data removed]",
      "text/plain": [
       "<Figure size 500x200 with 1 Axes>"
      ]
     },
     "metadata": {},
     "output_type": "display_data"
    }
   ],
   "source": [
    "# check outlires\n",
    "plt.figure(figsize=(5,2))\n",
    "sns.boxplot(x=df['price'])"
   ]
  },
  {
   "cell_type": "code",
   "execution_count": 288,
   "id": "664685ca",
   "metadata": {},
   "outputs": [
    {
     "name": "stdout",
     "output_type": "stream",
     "text": [
      "upper_tail : 29568.0\n",
      "lower_tail : -5280.0\n"
     ]
    }
   ],
   "source": [
    "q1 = df['price'].quantile(0.25)\n",
    "q2 = df['price'].quantile(0.50)\n",
    "q3 = df['price'].quantile(0.75)\n",
    "\n",
    "iqr = q3 - q1\n",
    "\n",
    "upper_tail = q3 + 1.5 * iqr\n",
    "lower_tail = q1 - 1.5 * iqr\n",
    "\n",
    "\n",
    "print(\"upper_tail :\", upper_tail)\n",
    "print(\"lower_tail :\", lower_tail)"
   ]
  },
  {
   "cell_type": "code",
   "execution_count": 289,
   "id": "11d02a79",
   "metadata": {},
   "outputs": [
    {
     "data": {
      "text/plain": [
       "15     30760.0\n",
       "16     41315.0\n",
       "17     36880.0\n",
       "47     32250.0\n",
       "48     35550.0\n",
       "49     36000.0\n",
       "70     31600.0\n",
       "71     34184.0\n",
       "72     35056.0\n",
       "73     40960.0\n",
       "74     45400.0\n",
       "126    32528.0\n",
       "127    34028.0\n",
       "128    37028.0\n",
       "Name: price, dtype: float64"
      ]
     },
     "execution_count": 289,
     "metadata": {},
     "output_type": "execute_result"
    }
   ],
   "source": [
    "df['price'].loc[(df['price'] > upper_tail) | \n",
    "                            (df['price'] < lower_tail)] "
   ]
  },
  {
   "cell_type": "code",
   "execution_count": 290,
   "id": "716b3c84",
   "metadata": {},
   "outputs": [
    {
     "data": {
      "text/plain": [
       "14"
      ]
     },
     "execution_count": 290,
     "metadata": {},
     "output_type": "execute_result"
    }
   ],
   "source": [
    "len(df['price'].loc[(df['price'] > upper_tail) | \n",
    "                            (df['price'] < lower_tail)] ) # 14 outlirs are present"
   ]
  },
  {
   "cell_type": "code",
   "execution_count": 291,
   "id": "64e608cc",
   "metadata": {},
   "outputs": [
    {
     "data": {
      "text/plain": [
       "0      13495.0\n",
       "1      16500.0\n",
       "2      16500.0\n",
       "3      13950.0\n",
       "4      17450.0\n",
       "        ...   \n",
       "200    16845.0\n",
       "201    19045.0\n",
       "202    21485.0\n",
       "203    22470.0\n",
       "204    22625.0\n",
       "Name: price, Length: 191, dtype: float64"
      ]
     },
     "execution_count": 291,
     "metadata": {},
     "output_type": "execute_result"
    }
   ],
   "source": [
    "df['price'].loc[(df['price'] <= upper_tail) & \n",
    "                            (df['price'] >= lower_tail)]  "
   ]
  },
  {
   "cell_type": "code",
   "execution_count": 292,
   "id": "38f56a49",
   "metadata": {},
   "outputs": [
    {
     "data": {
      "text/plain": [
       "11477.874345549739"
      ]
     },
     "execution_count": 292,
     "metadata": {},
     "output_type": "execute_result"
    }
   ],
   "source": [
    "df['price'].loc[(df['price'] <= upper_tail) & \n",
    "                            (df['price'] >= lower_tail)].mean()  "
   ]
  },
  {
   "cell_type": "code",
   "execution_count": 293,
   "id": "9c0e5eea",
   "metadata": {},
   "outputs": [
    {
     "data": {
      "text/plain": [
       "9988.0"
      ]
     },
     "execution_count": 293,
     "metadata": {},
     "output_type": "execute_result"
    }
   ],
   "source": [
    "df['price'].loc[(df['price'] <= upper_tail) & \n",
    "                            (df['price'] >= lower_tail)].median()"
   ]
  },
  {
   "cell_type": "code",
   "execution_count": 294,
   "id": "9c8d0324",
   "metadata": {},
   "outputs": [
    {
     "data": {
      "text/plain": [
       "29568.0"
      ]
     },
     "execution_count": 294,
     "metadata": {},
     "output_type": "execute_result"
    }
   ],
   "source": [
    "upper_tail"
   ]
  },
  {
   "cell_type": "code",
   "execution_count": 295,
   "id": "c2b63ed0",
   "metadata": {},
   "outputs": [],
   "source": [
    "# As it is target column ,i thing no need to changed outlires...\n"
   ]
  },
  {
   "cell_type": "code",
   "execution_count": 296,
   "id": "ab150598",
   "metadata": {},
   "outputs": [
    {
     "name": "stdout",
     "output_type": "stream",
     "text": [
      "<class 'pandas.core.frame.DataFrame'>\n",
      "RangeIndex: 205 entries, 0 to 204\n",
      "Empty DataFrame"
     ]
    }
   ],
   "source": [
    "df.select_dtypes(include=['object']).info()  # no object type columns are present"
   ]
  },
  {
   "cell_type": "code",
   "execution_count": 297,
   "id": "60b1698b",
   "metadata": {},
   "outputs": [
    {
     "data": {
      "text/html": [
       "<div>\n",
       "<style scoped>\n",
       "    .dataframe tbody tr th:only-of-type {\n",
       "        vertical-align: middle;\n",
       "    }\n",
       "\n",
       "    .dataframe tbody tr th {\n",
       "        vertical-align: top;\n",
       "    }\n",
       "\n",
       "    .dataframe thead th {\n",
       "        text-align: right;\n",
       "    }\n",
       "</style>\n",
       "<table border=\"1\" class=\"dataframe\">\n",
       "  <thead>\n",
       "    <tr style=\"text-align: right;\">\n",
       "      <th></th>\n",
       "      <th>0</th>\n",
       "      <th>1</th>\n",
       "      <th>2</th>\n",
       "      <th>3</th>\n",
       "      <th>4</th>\n",
       "    </tr>\n",
       "  </thead>\n",
       "  <tbody>\n",
       "    <tr>\n",
       "      <th>symboling</th>\n",
       "      <td>3.0</td>\n",
       "      <td>3.0</td>\n",
       "      <td>1.0</td>\n",
       "      <td>2.0</td>\n",
       "      <td>2.0</td>\n",
       "    </tr>\n",
       "    <tr>\n",
       "      <th>normalized-losses</th>\n",
       "      <td>115.0</td>\n",
       "      <td>115.0</td>\n",
       "      <td>115.0</td>\n",
       "      <td>164.0</td>\n",
       "      <td>164.0</td>\n",
       "    </tr>\n",
       "    <tr>\n",
       "      <th>fuel-type</th>\n",
       "      <td>0.0</td>\n",
       "      <td>0.0</td>\n",
       "      <td>0.0</td>\n",
       "      <td>0.0</td>\n",
       "      <td>0.0</td>\n",
       "    </tr>\n",
       "    <tr>\n",
       "      <th>aspiration</th>\n",
       "      <td>0.0</td>\n",
       "      <td>0.0</td>\n",
       "      <td>0.0</td>\n",
       "      <td>0.0</td>\n",
       "      <td>0.0</td>\n",
       "    </tr>\n",
       "    <tr>\n",
       "      <th>num-of-doors</th>\n",
       "      <td>2.0</td>\n",
       "      <td>2.0</td>\n",
       "      <td>2.0</td>\n",
       "      <td>4.0</td>\n",
       "      <td>4.0</td>\n",
       "    </tr>\n",
       "    <tr>\n",
       "      <th>...</th>\n",
       "      <td>...</td>\n",
       "      <td>...</td>\n",
       "      <td>...</td>\n",
       "      <td>...</td>\n",
       "      <td>...</td>\n",
       "    </tr>\n",
       "    <tr>\n",
       "      <th>fuel-system_idi</th>\n",
       "      <td>0.0</td>\n",
       "      <td>0.0</td>\n",
       "      <td>0.0</td>\n",
       "      <td>0.0</td>\n",
       "      <td>0.0</td>\n",
       "    </tr>\n",
       "    <tr>\n",
       "      <th>fuel-system_mfi</th>\n",
       "      <td>0.0</td>\n",
       "      <td>0.0</td>\n",
       "      <td>0.0</td>\n",
       "      <td>0.0</td>\n",
       "      <td>0.0</td>\n",
       "    </tr>\n",
       "    <tr>\n",
       "      <th>fuel-system_mpfi</th>\n",
       "      <td>1.0</td>\n",
       "      <td>1.0</td>\n",
       "      <td>1.0</td>\n",
       "      <td>1.0</td>\n",
       "      <td>1.0</td>\n",
       "    </tr>\n",
       "    <tr>\n",
       "      <th>fuel-system_spdi</th>\n",
       "      <td>0.0</td>\n",
       "      <td>0.0</td>\n",
       "      <td>0.0</td>\n",
       "      <td>0.0</td>\n",
       "      <td>0.0</td>\n",
       "    </tr>\n",
       "    <tr>\n",
       "      <th>fuel-system_spfi</th>\n",
       "      <td>0.0</td>\n",
       "      <td>0.0</td>\n",
       "      <td>0.0</td>\n",
       "      <td>0.0</td>\n",
       "      <td>0.0</td>\n",
       "    </tr>\n",
       "  </tbody>\n",
       "</table>\n",
       "<p>64 rows × 5 columns</p>\n",
       "</div>"
      ],
      "text/plain": [
       "                       0      1      2      3      4\n",
       "symboling            3.0    3.0    1.0    2.0    2.0\n",
       "normalized-losses  115.0  115.0  115.0  164.0  164.0\n",
       "fuel-type            0.0    0.0    0.0    0.0    0.0\n",
       "aspiration           0.0    0.0    0.0    0.0    0.0\n",
       "num-of-doors         2.0    2.0    2.0    4.0    4.0\n",
       "...                  ...    ...    ...    ...    ...\n",
       "fuel-system_idi      0.0    0.0    0.0    0.0    0.0\n",
       "fuel-system_mfi      0.0    0.0    0.0    0.0    0.0\n",
       "fuel-system_mpfi     1.0    1.0    1.0    1.0    1.0\n",
       "fuel-system_spdi     0.0    0.0    0.0    0.0    0.0\n",
       "fuel-system_spfi     0.0    0.0    0.0    0.0    0.0\n",
       "\n",
       "[64 rows x 5 columns]"
      ]
     },
     "execution_count": 297,
     "metadata": {},
     "output_type": "execute_result"
    }
   ],
   "source": [
    "df.head().T # ready to use as all numerical values are their"
   ]
  },
  {
   "cell_type": "markdown",
   "id": "efc09de8",
   "metadata": {},
   "source": [
    "# FEATURE SELECTION"
   ]
  },
  {
   "cell_type": "markdown",
   "id": "b73a92ad",
   "metadata": {},
   "source": [
    "## 1. LINIARITY"
   ]
  },
  {
   "cell_type": "code",
   "execution_count": 298,
   "id": "1a3c2608",
   "metadata": {},
   "outputs": [
    {
     "data": {
      "text/html": [
       "<div>\n",
       "<style scoped>\n",
       "    .dataframe tbody tr th:only-of-type {\n",
       "        vertical-align: middle;\n",
       "    }\n",
       "\n",
       "    .dataframe tbody tr th {\n",
       "        vertical-align: top;\n",
       "    }\n",
       "\n",
       "    .dataframe thead th {\n",
       "        text-align: right;\n",
       "    }\n",
       "</style>\n",
       "<table border=\"1\" class=\"dataframe\">\n",
       "  <thead>\n",
       "    <tr style=\"text-align: right;\">\n",
       "      <th></th>\n",
       "      <th>symboling</th>\n",
       "      <th>normalized-losses</th>\n",
       "      <th>fuel-type</th>\n",
       "      <th>aspiration</th>\n",
       "      <th>num-of-doors</th>\n",
       "      <th>drive-wheels</th>\n",
       "      <th>engine-location</th>\n",
       "      <th>wheel-base</th>\n",
       "      <th>length</th>\n",
       "      <th>width</th>\n",
       "      <th>...</th>\n",
       "      <th>engine-type_ohcv</th>\n",
       "      <th>engine-type_rotor</th>\n",
       "      <th>fuel-system_1bbl</th>\n",
       "      <th>fuel-system_2bbl</th>\n",
       "      <th>fuel-system_4bbl</th>\n",
       "      <th>fuel-system_idi</th>\n",
       "      <th>fuel-system_mfi</th>\n",
       "      <th>fuel-system_mpfi</th>\n",
       "      <th>fuel-system_spdi</th>\n",
       "      <th>fuel-system_spfi</th>\n",
       "    </tr>\n",
       "  </thead>\n",
       "  <tbody>\n",
       "    <tr>\n",
       "      <th>symboling</th>\n",
       "      <td>1.000000</td>\n",
       "      <td>0.405109</td>\n",
       "      <td>-0.194311</td>\n",
       "      <td>-0.059866</td>\n",
       "      <td>-0.663595</td>\n",
       "      <td>-0.111150</td>\n",
       "      <td>0.212471</td>\n",
       "      <td>-0.528013</td>\n",
       "      <td>-0.357612</td>\n",
       "      <td>-0.235697</td>\n",
       "      <td>...</td>\n",
       "      <td>-0.013597</td>\n",
       "      <td>0.245950</td>\n",
       "      <td>-0.037911</td>\n",
       "      <td>-0.034069</td>\n",
       "      <td>0.212471</td>\n",
       "      <td>-0.194311</td>\n",
       "      <td>0.122067</td>\n",
       "      <td>0.012532</td>\n",
       "      <td>0.181939</td>\n",
       "      <td>0.065707</td>\n",
       "    </tr>\n",
       "    <tr>\n",
       "      <th>normalized-losses</th>\n",
       "      <td>0.405109</td>\n",
       "      <td>1.000000</td>\n",
       "      <td>-0.080616</td>\n",
       "      <td>0.016793</td>\n",
       "      <td>-0.297960</td>\n",
       "      <td>0.072926</td>\n",
       "      <td>-0.008487</td>\n",
       "      <td>-0.063078</td>\n",
       "      <td>-0.020826</td>\n",
       "      <td>0.037554</td>\n",
       "      <td>...</td>\n",
       "      <td>-0.013437</td>\n",
       "      <td>0.182778</td>\n",
       "      <td>-0.116227</td>\n",
       "      <td>-0.050841</td>\n",
       "      <td>0.157898</td>\n",
       "      <td>-0.080616</td>\n",
       "      <td>0.077059</td>\n",
       "      <td>0.060406</td>\n",
       "      <td>0.096530</td>\n",
       "      <td>-0.004876</td>\n",
       "    </tr>\n",
       "    <tr>\n",
       "      <th>fuel-type</th>\n",
       "      <td>-0.194311</td>\n",
       "      <td>-0.080616</td>\n",
       "      <td>1.000000</td>\n",
       "      <td>0.401397</td>\n",
       "      <td>0.188496</td>\n",
       "      <td>0.051874</td>\n",
       "      <td>-0.040070</td>\n",
       "      <td>0.297176</td>\n",
       "      <td>0.212679</td>\n",
       "      <td>0.239809</td>\n",
       "      <td>...</td>\n",
       "      <td>-0.085556</td>\n",
       "      <td>-0.046383</td>\n",
       "      <td>-0.078293</td>\n",
       "      <td>-0.226565</td>\n",
       "      <td>-0.040070</td>\n",
       "      <td>1.000000</td>\n",
       "      <td>-0.023020</td>\n",
       "      <td>-0.302574</td>\n",
       "      <td>-0.070457</td>\n",
       "      <td>-0.023020</td>\n",
       "    </tr>\n",
       "    <tr>\n",
       "      <th>aspiration</th>\n",
       "      <td>-0.059866</td>\n",
       "      <td>0.016793</td>\n",
       "      <td>0.401397</td>\n",
       "      <td>1.000000</td>\n",
       "      <td>0.052803</td>\n",
       "      <td>0.153897</td>\n",
       "      <td>-0.057191</td>\n",
       "      <td>0.265697</td>\n",
       "      <td>0.234539</td>\n",
       "      <td>0.309321</td>\n",
       "      <td>...</td>\n",
       "      <td>-0.070070</td>\n",
       "      <td>-0.066203</td>\n",
       "      <td>-0.111748</td>\n",
       "      <td>-0.323378</td>\n",
       "      <td>-0.057191</td>\n",
       "      <td>0.401397</td>\n",
       "      <td>0.149190</td>\n",
       "      <td>-0.050041</td>\n",
       "      <td>0.394703</td>\n",
       "      <td>-0.032857</td>\n",
       "    </tr>\n",
       "    <tr>\n",
       "      <th>num-of-doors</th>\n",
       "      <td>-0.663595</td>\n",
       "      <td>-0.297960</td>\n",
       "      <td>0.188496</td>\n",
       "      <td>0.052803</td>\n",
       "      <td>1.000000</td>\n",
       "      <td>-0.003230</td>\n",
       "      <td>-0.139129</td>\n",
       "      <td>0.436792</td>\n",
       "      <td>0.385675</td>\n",
       "      <td>0.203705</td>\n",
       "      <td>...</td>\n",
       "      <td>-0.054764</td>\n",
       "      <td>-0.161052</td>\n",
       "      <td>-0.097150</td>\n",
       "      <td>0.013769</td>\n",
       "      <td>-0.139129</td>\n",
       "      <td>0.188496</td>\n",
       "      <td>-0.079932</td>\n",
       "      <td>0.035746</td>\n",
       "      <td>-0.148565</td>\n",
       "      <td>-0.079932</td>\n",
       "    </tr>\n",
       "    <tr>\n",
       "      <th>...</th>\n",
       "      <td>...</td>\n",
       "      <td>...</td>\n",
       "      <td>...</td>\n",
       "      <td>...</td>\n",
       "      <td>...</td>\n",
       "      <td>...</td>\n",
       "      <td>...</td>\n",
       "      <td>...</td>\n",
       "      <td>...</td>\n",
       "      <td>...</td>\n",
       "      <td>...</td>\n",
       "      <td>...</td>\n",
       "      <td>...</td>\n",
       "      <td>...</td>\n",
       "      <td>...</td>\n",
       "      <td>...</td>\n",
       "      <td>...</td>\n",
       "      <td>...</td>\n",
       "      <td>...</td>\n",
       "      <td>...</td>\n",
       "      <td>...</td>\n",
       "    </tr>\n",
       "    <tr>\n",
       "      <th>fuel-system_idi</th>\n",
       "      <td>-0.194311</td>\n",
       "      <td>-0.080616</td>\n",
       "      <td>1.000000</td>\n",
       "      <td>0.401397</td>\n",
       "      <td>0.188496</td>\n",
       "      <td>0.051874</td>\n",
       "      <td>-0.040070</td>\n",
       "      <td>0.297176</td>\n",
       "      <td>0.212679</td>\n",
       "      <td>0.239809</td>\n",
       "      <td>...</td>\n",
       "      <td>-0.085556</td>\n",
       "      <td>-0.046383</td>\n",
       "      <td>-0.078293</td>\n",
       "      <td>-0.226565</td>\n",
       "      <td>-0.040070</td>\n",
       "      <td>1.000000</td>\n",
       "      <td>-0.023020</td>\n",
       "      <td>-0.302574</td>\n",
       "      <td>-0.070457</td>\n",
       "      <td>-0.023020</td>\n",
       "    </tr>\n",
       "    <tr>\n",
       "      <th>fuel-system_mfi</th>\n",
       "      <td>0.122067</td>\n",
       "      <td>0.077059</td>\n",
       "      <td>-0.023020</td>\n",
       "      <td>0.149190</td>\n",
       "      <td>-0.079932</td>\n",
       "      <td>-0.055378</td>\n",
       "      <td>-0.008532</td>\n",
       "      <td>-0.032731</td>\n",
       "      <td>-0.004831</td>\n",
       "      <td>0.014003</td>\n",
       "      <td>...</td>\n",
       "      <td>-0.018218</td>\n",
       "      <td>-0.009877</td>\n",
       "      <td>-0.016672</td>\n",
       "      <td>-0.048245</td>\n",
       "      <td>-0.008532</td>\n",
       "      <td>-0.023020</td>\n",
       "      <td>1.000000</td>\n",
       "      <td>-0.064430</td>\n",
       "      <td>-0.015003</td>\n",
       "      <td>-0.004902</td>\n",
       "    </tr>\n",
       "    <tr>\n",
       "      <th>fuel-system_mpfi</th>\n",
       "      <td>0.012532</td>\n",
       "      <td>0.060406</td>\n",
       "      <td>-0.302574</td>\n",
       "      <td>-0.050041</td>\n",
       "      <td>0.035746</td>\n",
       "      <td>0.369782</td>\n",
       "      <td>0.132429</td>\n",
       "      <td>0.361701</td>\n",
       "      <td>0.511374</td>\n",
       "      <td>0.466246</td>\n",
       "      <td>...</td>\n",
       "      <td>0.282760</td>\n",
       "      <td>-0.059039</td>\n",
       "      <td>-0.219128</td>\n",
       "      <td>-0.634114</td>\n",
       "      <td>-0.112147</td>\n",
       "      <td>-0.302574</td>\n",
       "      <td>-0.064430</td>\n",
       "      <td>1.000000</td>\n",
       "      <td>-0.197195</td>\n",
       "      <td>-0.064430</td>\n",
       "    </tr>\n",
       "    <tr>\n",
       "      <th>fuel-system_spdi</th>\n",
       "      <td>0.181939</td>\n",
       "      <td>0.096530</td>\n",
       "      <td>-0.070457</td>\n",
       "      <td>0.394703</td>\n",
       "      <td>-0.148565</td>\n",
       "      <td>-0.128419</td>\n",
       "      <td>-0.026114</td>\n",
       "      <td>-0.117527</td>\n",
       "      <td>-0.079790</td>\n",
       "      <td>-0.045367</td>\n",
       "      <td>...</td>\n",
       "      <td>-0.055759</td>\n",
       "      <td>-0.030229</td>\n",
       "      <td>-0.051026</td>\n",
       "      <td>-0.147658</td>\n",
       "      <td>-0.026114</td>\n",
       "      <td>-0.070457</td>\n",
       "      <td>-0.015003</td>\n",
       "      <td>-0.197195</td>\n",
       "      <td>1.000000</td>\n",
       "      <td>-0.015003</td>\n",
       "    </tr>\n",
       "    <tr>\n",
       "      <th>fuel-system_spfi</th>\n",
       "      <td>0.065707</td>\n",
       "      <td>-0.004876</td>\n",
       "      <td>-0.023020</td>\n",
       "      <td>-0.032857</td>\n",
       "      <td>-0.079932</td>\n",
       "      <td>0.065393</td>\n",
       "      <td>-0.008532</td>\n",
       "      <td>-0.031422</td>\n",
       "      <td>-0.008245</td>\n",
       "      <td>-0.023059</td>\n",
       "      <td>...</td>\n",
       "      <td>-0.018218</td>\n",
       "      <td>-0.009877</td>\n",
       "      <td>-0.016672</td>\n",
       "      <td>-0.048245</td>\n",
       "      <td>-0.008532</td>\n",
       "      <td>-0.023020</td>\n",
       "      <td>-0.004902</td>\n",
       "      <td>-0.064430</td>\n",
       "      <td>-0.015003</td>\n",
       "      <td>1.000000</td>\n",
       "    </tr>\n",
       "  </tbody>\n",
       "</table>\n",
       "<p>64 rows × 64 columns</p>\n",
       "</div>"
      ],
      "text/plain": [
       "                   symboling  normalized-losses  fuel-type  aspiration  \\\n",
       "symboling           1.000000           0.405109  -0.194311   -0.059866   \n",
       "normalized-losses   0.405109           1.000000  -0.080616    0.016793   \n",
       "fuel-type          -0.194311          -0.080616   1.000000    0.401397   \n",
       "aspiration         -0.059866           0.016793   0.401397    1.000000   \n",
       "num-of-doors       -0.663595          -0.297960   0.188496    0.052803   \n",
       "...                      ...                ...        ...         ...   \n",
       "fuel-system_idi    -0.194311          -0.080616   1.000000    0.401397   \n",
       "fuel-system_mfi     0.122067           0.077059  -0.023020    0.149190   \n",
       "fuel-system_mpfi    0.012532           0.060406  -0.302574   -0.050041   \n",
       "fuel-system_spdi    0.181939           0.096530  -0.070457    0.394703   \n",
       "fuel-system_spfi    0.065707          -0.004876  -0.023020   -0.032857   \n",
       "\n",
       "                   num-of-doors  drive-wheels  engine-location  wheel-base  \\\n",
       "symboling             -0.663595     -0.111150         0.212471   -0.528013   \n",
       "normalized-losses     -0.297960      0.072926        -0.008487   -0.063078   \n",
       "fuel-type              0.188496      0.051874        -0.040070    0.297176   \n",
       "aspiration             0.052803      0.153897        -0.057191    0.265697   \n",
       "num-of-doors           1.000000     -0.003230        -0.139129    0.436792   \n",
       "...                         ...           ...              ...         ...   \n",
       "fuel-system_idi        0.188496      0.051874        -0.040070    0.297176   \n",
       "fuel-system_mfi       -0.079932     -0.055378        -0.008532   -0.032731   \n",
       "fuel-system_mpfi       0.035746      0.369782         0.132429    0.361701   \n",
       "fuel-system_spdi      -0.148565     -0.128419        -0.026114   -0.117527   \n",
       "fuel-system_spfi      -0.079932      0.065393        -0.008532   -0.031422   \n",
       "\n",
       "                     length     width  ...  engine-type_ohcv  \\\n",
       "symboling         -0.357612 -0.235697  ...         -0.013597   \n",
       "normalized-losses -0.020826  0.037554  ...         -0.013437   \n",
       "fuel-type          0.212679  0.239809  ...         -0.085556   \n",
       "aspiration         0.234539  0.309321  ...         -0.070070   \n",
       "num-of-doors       0.385675  0.203705  ...         -0.054764   \n",
       "...                     ...       ...  ...               ...   \n",
       "fuel-system_idi    0.212679  0.239809  ...         -0.085556   \n",
       "fuel-system_mfi   -0.004831  0.014003  ...         -0.018218   \n",
       "fuel-system_mpfi   0.511374  0.466246  ...          0.282760   \n",
       "fuel-system_spdi  -0.079790 -0.045367  ...         -0.055759   \n",
       "fuel-system_spfi  -0.008245 -0.023059  ...         -0.018218   \n",
       "\n",
       "                   engine-type_rotor  fuel-system_1bbl  fuel-system_2bbl  \\\n",
       "symboling                   0.245950         -0.037911         -0.034069   \n",
       "normalized-losses           0.182778         -0.116227         -0.050841   \n",
       "fuel-type                  -0.046383         -0.078293         -0.226565   \n",
       "aspiration                 -0.066203         -0.111748         -0.323378   \n",
       "num-of-doors               -0.161052         -0.097150          0.013769   \n",
       "...                              ...               ...               ...   \n",
       "fuel-system_idi            -0.046383         -0.078293         -0.226565   \n",
       "fuel-system_mfi            -0.009877         -0.016672         -0.048245   \n",
       "fuel-system_mpfi           -0.059039         -0.219128         -0.634114   \n",
       "fuel-system_spdi           -0.030229         -0.051026         -0.147658   \n",
       "fuel-system_spfi           -0.009877         -0.016672         -0.048245   \n",
       "\n",
       "                   fuel-system_4bbl  fuel-system_idi  fuel-system_mfi  \\\n",
       "symboling                  0.212471        -0.194311         0.122067   \n",
       "normalized-losses          0.157898        -0.080616         0.077059   \n",
       "fuel-type                 -0.040070         1.000000        -0.023020   \n",
       "aspiration                -0.057191         0.401397         0.149190   \n",
       "num-of-doors              -0.139129         0.188496        -0.079932   \n",
       "...                             ...              ...              ...   \n",
       "fuel-system_idi           -0.040070         1.000000        -0.023020   \n",
       "fuel-system_mfi           -0.008532        -0.023020         1.000000   \n",
       "fuel-system_mpfi          -0.112147        -0.302574        -0.064430   \n",
       "fuel-system_spdi          -0.026114        -0.070457        -0.015003   \n",
       "fuel-system_spfi          -0.008532        -0.023020        -0.004902   \n",
       "\n",
       "                   fuel-system_mpfi  fuel-system_spdi  fuel-system_spfi  \n",
       "symboling                  0.012532          0.181939          0.065707  \n",
       "normalized-losses          0.060406          0.096530         -0.004876  \n",
       "fuel-type                 -0.302574         -0.070457         -0.023020  \n",
       "aspiration                -0.050041          0.394703         -0.032857  \n",
       "num-of-doors               0.035746         -0.148565         -0.079932  \n",
       "...                             ...               ...               ...  \n",
       "fuel-system_idi           -0.302574         -0.070457         -0.023020  \n",
       "fuel-system_mfi           -0.064430         -0.015003         -0.004902  \n",
       "fuel-system_mpfi           1.000000         -0.197195         -0.064430  \n",
       "fuel-system_spdi          -0.197195          1.000000         -0.015003  \n",
       "fuel-system_spfi          -0.064430         -0.015003          1.000000  \n",
       "\n",
       "[64 rows x 64 columns]"
      ]
     },
     "execution_count": 298,
     "metadata": {},
     "output_type": "execute_result"
    }
   ],
   "source": [
    "df.corr()"
   ]
  },
  {
   "cell_type": "code",
   "execution_count": 299,
   "id": "49f0ded3",
   "metadata": {},
   "outputs": [
    {
     "data": {
      "text/plain": [
       "<AxesSubplot:>"
      ]
     },
     "execution_count": 299,
     "metadata": {},
     "output_type": "execute_result"
    },
    {
     "data": {
      "image/png": "[encoded data removed]",
      "text/plain": [
       "<Figure size 2000x200 with 2 Axes>"
      ]
     },
     "metadata": {},
     "output_type": "display_data"
    }
   ],
   "source": [
    "# plt.figure(figsize=(30,30))\n",
    "# sns.heatmap(df.corr(), annot=True)\n",
    "\n",
    "#Checking linearity with target column\n",
    "\n",
    "price_linearty = df.drop('price', axis= 1)  \n",
    "price_column  = df['price']\n",
    "price_linearty.insert(63,'price',price_column,allow_duplicates=True)\n",
    "price_linearty\n",
    "\n",
    "corr_with_price = price_linearty.corr().tail(1).sort_values(\"price\", axis=1)\n",
    "plt.figure(figsize=(20,2))\n",
    "sns.heatmap(corr_with_price, annot= True)"
   ]
  },
  {
   "cell_type": "raw",
   "id": "f0cdffbb",
   "metadata": {},
   "source": [
    "\"\"\"no linearity with price colulumn --> bore = 0.53   hieght = 0.14   peak-rpm = -0.11 symboling = -0.08   \n",
    "num-of-doors = 0.046  stroke = 0.06  ....\n",
    "as many columns seems to be not realated with price column but most of them are encoded one.\"\"\"\n",
    "# df.info()\n"
   ]
  },
  {
   "cell_type": "markdown",
   "id": "d870d04b",
   "metadata": {},
   "source": [
    "## 2.NO MULTICOLINEARITY:-"
   ]
  },
  {
   "cell_type": "code",
   "execution_count": 300,
   "id": "701d680f",
   "metadata": {},
   "outputs": [
    {
     "data": {
      "text/plain": [
       "symboling            5.574746\n",
       "normalized-losses    3.073729\n",
       "fuel-type                 inf\n",
       "aspiration           5.619500\n",
       "num-of-doors         3.864579\n",
       "dtype: float64"
      ]
     },
     "execution_count": 300,
     "metadata": {},
     "output_type": "execute_result"
    }
   ],
   "source": [
    "df1 = df.drop(\"price\", axis=1)\n",
    "\n",
    "vif_list = []\n",
    "for i in range(df1.shape[1]):\n",
    "#     print(i)\n",
    "    vif = variance_inflation_factor(df1,i)\n",
    "    vif_list.append(vif)\n",
    "    \n",
    "s1 = pd.Series(vif_list, index=df1.columns)\n",
    "s1.head()\n",
    "# s1.sort_values().plot(kind = \"barh\")"
   ]
  },
  {
   "cell_type": "raw",
   "id": "3a4f861d",
   "metadata": {},
   "source": [
    "\"\"\"wheel-base = 11.784622  , length =18.047644   width = 15.354598  curb-weight = 51.487212  engine-size =  47.185503\n",
    "horsepower =41.244553   city-mpg = 42.387287  \n",
    "these are the column which are highly correlated with each other\"\"\""
   ]
  },
  {
   "cell_type": "code",
   "execution_count": 301,
   "id": "1f52941c",
   "metadata": {},
   "outputs": [],
   "source": [
    "df.drop([\"height\",\"symboling\",\"bore\",\"length\",\"curb-weight\",\"wheel-base\"], axis=1, inplace=True)  \n"
   ]
  },
  {
   "cell_type": "raw",
   "id": "fe2098ac",
   "metadata": {},
   "source": [
    "\"\"\" take decision to drop these features as it clearly observed that these \n",
    "    features violated the linearity anD Colinaerity\n",
    "\"\"\"\n"
   ]
  },
  {
   "cell_type": "markdown",
   "id": "3a4496d0",
   "metadata": {},
   "source": [
    "# MODEL BUILDING:-"
   ]
  },
  {
   "cell_type": "code",
   "execution_count": 302,
   "id": "79f76742",
   "metadata": {},
   "outputs": [],
   "source": [
    "x = df.drop(\"price\", axis=1)     # independent variables\n",
    "y = df['price']                  # dependent variables"
   ]
  },
  {
   "cell_type": "code",
   "execution_count": 303,
   "id": "d18b64df",
   "metadata": {},
   "outputs": [],
   "source": [
    "# 1. Train Test Split\n",
    "\n",
    "x_train, x_test, y_train, y_test = train_test_split(x,y,test_size=0.20, random_state=12)"
   ]
  },
  {
   "cell_type": "code",
   "execution_count": 304,
   "id": "5858d4ba",
   "metadata": {},
   "outputs": [],
   "source": [
    "# x_train      # 164 rows × 63 columns"
   ]
  },
  {
   "cell_type": "code",
   "execution_count": 305,
   "id": "498c04ca",
   "metadata": {},
   "outputs": [],
   "source": [
    "# x_test       # 41 rows × 63 columns"
   ]
  },
  {
   "cell_type": "code",
   "execution_count": 306,
   "id": "729363d7",
   "metadata": {},
   "outputs": [],
   "source": [
    "# y_train      # 164 rows"
   ]
  },
  {
   "cell_type": "code",
   "execution_count": 307,
   "id": "9c4c02ca",
   "metadata": {},
   "outputs": [],
   "source": [
    "# y_test       # 41 rows"
   ]
  },
  {
   "cell_type": "code",
   "execution_count": 308,
   "id": "c826d51f",
   "metadata": {},
   "outputs": [
    {
     "data": {
      "text/plain": [
       "LinearRegression()"
      ]
     },
     "execution_count": 308,
     "metadata": {},
     "output_type": "execute_result"
    }
   ],
   "source": [
    "model = LinearRegression()    # creates an instance of a linear regression model \n",
    "\n",
    "model.fit(x_train, y_train)   # fits the linear regression model to the training data"
   ]
  },
  {
   "cell_type": "markdown",
   "id": "95fae9bb",
   "metadata": {},
   "source": [
    "# Model Evaluation "
   ]
  },
  {
   "cell_type": "markdown",
   "id": "1878d885",
   "metadata": {},
   "source": [
    "## For Training Data"
   ]
  },
  {
   "cell_type": "code",
   "execution_count": 309,
   "id": "fcb7e01d",
   "metadata": {},
   "outputs": [],
   "source": [
    "y_pred_train = model.predict(x_train)\n",
    "# y_pred_train                   # here we get predictions for the training data"
   ]
  },
  {
   "cell_type": "code",
   "execution_count": 310,
   "id": "999de917",
   "metadata": {},
   "outputs": [
    {
     "name": "stdout",
     "output_type": "stream",
     "text": [
      "MSE : 3373654.9712020783\n",
      "RMSE : 1836.7512001362836\n",
      "MAE : 1287.775600349032\n",
      "Training Accuracy : 0.9479058373594595\n"
     ]
    }
   ],
   "source": [
    "mse = mean_squared_error(y_train, y_pred_train)\n",
    "print(\"MSE :\",mse)\n",
    "\n",
    "rmse = np.sqrt(mse)\n",
    "print(\"RMSE :\",rmse)\n",
    "\n",
    "mae = mean_absolute_error(y_train, y_pred_train)\n",
    "print(\"MAE :\",mae)\n",
    "\n",
    "Training_Accuracy_r2 = r2_score(y_train, y_pred_train)\n",
    "print(\"Training Accuracy :\",Training_Accuracy_r2)"
   ]
  },
  {
   "cell_type": "code",
   "execution_count": 311,
   "id": "00bfbaae",
   "metadata": {},
   "outputs": [],
   "source": [
    "y_pred = model.predict(x_test)   # here we get predictions for the testing data\n",
    "# y_pred "
   ]
  },
  {
   "cell_type": "code",
   "execution_count": 312,
   "id": "9e478eb1",
   "metadata": {},
   "outputs": [
    {
     "name": "stdout",
     "output_type": "stream",
     "text": [
      "MSE : 5573880.360658898\n",
      "RMSE : 2360.906681903988\n",
      "MAE : 1402.0060090400777\n",
      "Testing Accuracy  : 0.8826650654775023\n"
     ]
    }
   ],
   "source": [
    "mse = mean_squared_error(y_test, y_pred)\n",
    "print(\"MSE :\",mse)\n",
    "\n",
    "rmse = np.sqrt(mse)\n",
    "print(\"RMSE :\",rmse)\n",
    "\n",
    "mae = mean_absolute_error(y_test, y_pred)\n",
    "print(\"MAE :\",mae)\n",
    "\n",
    "Testing_Accuracy_r2 = r2_score(y_test, y_pred)\n",
    "print(\"Testing Accuracy  :\",Testing_Accuracy_r2 )\n"
   ]
  },
  {
   "cell_type": "raw",
   "id": "b2c7ce12",
   "metadata": {},
   "source": [
    "\"\"\"Training data achieved accuracy of  94.79% where as testing data achieved accuracy of 88.26%.\n",
    "   HEre we clearly obsereved that, the testing accuracy is lower than the training accuracy, which suggests \n",
    "   that the model is overfitting to the training data. \"\"\"\n",
    "\"\"\"To address overfitting we are going to use Regularization techquies\"\"\"\n",
    "\n",
    "\"\"\"But before that we are checking for the remainging assumptions\"\"\""
   ]
  },
  {
   "cell_type": "markdown",
   "id": "c73bc975",
   "metadata": {},
   "source": [
    "## Normality of Residual"
   ]
  },
  {
   "cell_type": "markdown",
   "id": "1480950a",
   "metadata": {},
   "source": [
    "### 1. kdeplot"
   ]
  },
  {
   "cell_type": "code",
   "execution_count": 313,
   "id": "977a91c1",
   "metadata": {},
   "outputs": [],
   "source": [
    "Residual = y_train - y_pred_train\n",
    "# Residual"
   ]
  },
  {
   "cell_type": "code",
   "execution_count": 314,
   "id": "5efaf9db",
   "metadata": {},
   "outputs": [
    {
     "data": {
      "text/plain": [
       "<AxesSubplot:xlabel='price', ylabel='Density'>"
      ]
     },
     "execution_count": 314,
     "metadata": {},
     "output_type": "execute_result"
    },
    {
     "data": {
      "image/png": "[encoded data removed]",
      "text/plain": [
       "<Figure size 500x200 with 1 Axes>"
      ]
     },
     "metadata": {},
     "output_type": "display_data"
    }
   ],
   "source": [
    "plt.figure(figsize=(5,2))\n",
    "sns.kdeplot(Residual, fill=True)"
   ]
  },
  {
   "cell_type": "code",
   "execution_count": 315,
   "id": "09958e6f",
   "metadata": {},
   "outputs": [
    {
     "name": "stdout",
     "output_type": "stream",
     "text": [
      "Mean --> 1.5616689513369305e-11\n",
      "median --> -26.224052497978846\n",
      "Mode --> -3.3760443329811096e-09\n"
     ]
    }
   ],
   "source": [
    "mean = Residual.mean()\n",
    "print(\"Mean -->\",mean)\n",
    "\n",
    "median = Residual.median()\n",
    "print(\"median -->\",median)\n",
    "\n",
    "mode = Residual.mode()[0]\n",
    "print(\"Mode -->\",mode)\n"
   ]
  },
  {
   "cell_type": "markdown",
   "id": "a460763a",
   "metadata": {},
   "source": [
    "### 2.Hypothesis Testing"
   ]
  },
  {
   "cell_type": "markdown",
   "id": "454a7f1e",
   "metadata": {},
   "source": [
    "#### A] Shapiro Test"
   ]
  },
  {
   "cell_type": "code",
   "execution_count": 316,
   "id": "50d723b1",
   "metadata": {},
   "outputs": [],
   "source": [
    "from scipy.stats import shapiro,kstest,normaltest"
   ]
  },
  {
   "cell_type": "code",
   "execution_count": 317,
   "id": "d0a39613",
   "metadata": {},
   "outputs": [
    {
     "name": "stdout",
     "output_type": "stream",
     "text": [
      "P_Value: 2.965779685837333e-06\n",
      "Null Hypothesis is Rejected which means Alternate Hypothesis is Accepted\n",
      "Which suggest that Data is NOT Normally Distributed\n"
     ]
    }
   ],
   "source": [
    "_ , p_val = shapiro(Residual)\n",
    "\n",
    "print(\"P_Value:\",p_val)\n",
    "\n",
    "if p_val >= 0.05:\n",
    "    print(\"Null Hypothesis is Accepted\")\n",
    "    print(\"Which suggest that Data is Normally Distributed\")\n",
    "    \n",
    "else:\n",
    "    print(\"Null Hypothesis is Rejected which means Alternate Hypothesis is Accepted\")\n",
    "    print(\"Which suggest that Data is NOT Normally Distributed\")"
   ]
  },
  {
   "cell_type": "markdown",
   "id": "200b45af",
   "metadata": {},
   "source": [
    "#### B] kstest"
   ]
  },
  {
   "cell_type": "code",
   "execution_count": 318,
   "id": "da7a2a7e",
   "metadata": {},
   "outputs": [
    {
     "name": "stdout",
     "output_type": "stream",
     "text": [
      "P_Value: 1.882460754758457e-40\n",
      "Null Hypothesis is Rejected which means Alternate Hypothesis is Accepted\n",
      "Which suggest that Data is NOT Normally Distributed\n"
     ]
    }
   ],
   "source": [
    "_ , p_val = kstest(Residual, 'norm')\n",
    "\n",
    "print(\"P_Value:\",p_val)\n",
    "\n",
    "if p_val >= 0.05:\n",
    "    print(\"Null Hypothesis is Accepted\")\n",
    "    print(\"Which suggest that Data is Normally Distributed\")\n",
    "    \n",
    "else:\n",
    "    print(\"Null Hypothesis is Rejected which means Alternate Hypothesis is Accepted\")\n",
    "    print(\"Which suggest that Data is NOT Normally Distributed\")"
   ]
  },
  {
   "cell_type": "markdown",
   "id": "4cb60608",
   "metadata": {},
   "source": [
    "#### C] Normal test"
   ]
  },
  {
   "cell_type": "code",
   "execution_count": 319,
   "id": "483b7d16",
   "metadata": {},
   "outputs": [
    {
     "name": "stdout",
     "output_type": "stream",
     "text": [
      "P_Value: 5.3695240560628406e-06\n",
      "Null Hypothesis is Rejected which means Alternate Hypothesis is Accepted\n",
      "Which suggest that Data is NOT Normally Distributed\n"
     ]
    }
   ],
   "source": [
    "_ , p_val = normaltest(Residual)\n",
    "\n",
    "print(\"P_Value:\",p_val)\n",
    "\n",
    "if p_val >= 0.05:\n",
    "    print(\"Null Hypothesis is Accepted\")\n",
    "    print(\"Which suggest that Data is Normally Distributed\")\n",
    "    \n",
    "else:\n",
    "    print(\"Null Hypothesis is Rejected which means Alternate Hypothesis is Accepted\")\n",
    "    print(\"Which suggest that Data is NOT Normally Distributed\")"
   ]
  },
  {
   "cell_type": "code",
   "execution_count": 320,
   "id": "b23e8339",
   "metadata": {},
   "outputs": [],
   "source": [
    "# As none of them accepted we check for QQ plot "
   ]
  },
  {
   "cell_type": "markdown",
   "id": "dccdb456",
   "metadata": {},
   "source": [
    "# QQ Plot"
   ]
  },
  {
   "cell_type": "code",
   "execution_count": 321,
   "id": "fbf5f3db",
   "metadata": {},
   "outputs": [],
   "source": [
    "import statsmodels.api as sm"
   ]
  },
  {
   "cell_type": "code",
   "execution_count": 322,
   "id": "80c5c749",
   "metadata": {},
   "outputs": [
    {
     "data": {
      "image/png": "[encoded data removed]",
      "text/plain": [
       "<Figure size 640x480 with 1 Axes>"
      ]
     },
     "execution_count": 322,
     "metadata": {},
     "output_type": "execute_result"
    },
    {
     "data": {
      "text/plain": [
       "<Figure size 200x200 with 0 Axes>"
      ]
     },
     "metadata": {},
     "output_type": "display_data"
    },
    {
     "data": {
      "image/png": "[encoded data removed]",
      "text/plain": [
       "<Figure size 640x480 with 1 Axes>"
      ]
     },
     "metadata": {},
     "output_type": "display_data"
    }
   ],
   "source": [
    "plt.figure(figsize=(2,2))\n",
    "sm.qqplot(Residual, line = '45', fit=True)   # 90% of the data should be lie on the line"
   ]
  },
  {
   "cell_type": "markdown",
   "id": "170ca0de",
   "metadata": {},
   "source": [
    "# Homoscedasticity"
   ]
  },
  {
   "cell_type": "code",
   "execution_count": 323,
   "id": "1385cb14",
   "metadata": {},
   "outputs": [
    {
     "data": {
      "text/plain": [
       "<AxesSubplot:xlabel='price', ylabel='price'>"
      ]
     },
     "execution_count": 323,
     "metadata": {},
     "output_type": "execute_result"
    },
    {
     "data": {
      "image/png": "[encoded data removed]",
      "text/plain": [
       "<Figure size 640x480 with 1 Axes>"
      ]
     },
     "metadata": {},
     "output_type": "display_data"
    }
   ],
   "source": [
    "sns.scatterplot(x = y_train, y= Residual) # Checking variance of residual along fitted value \n",
    "                                           # here we clearly sees that variance not constant"
   ]
  },
  {
   "cell_type": "raw",
   "id": "545a0f2b",
   "metadata": {},
   "source": [
    "\"\"\"Here we clearly obsereved that both of these Assumptions are violated which can \n",
    "indicate that the linear regression model may not be suitable for the data.\"\"\"\n",
    "\n",
    "lets check for Regularization technique."
   ]
  },
  {
   "cell_type": "code",
   "execution_count": 324,
   "id": "1e8f740c",
   "metadata": {},
   "outputs": [],
   "source": [
    "# Linear Regression Model-->Training Accuracy : 94.79% vs Testing Accuracy  :  88.27%"
   ]
  },
  {
   "cell_type": "markdown",
   "id": "277ae7ee",
   "metadata": {},
   "source": [
    "# Ridge Regression Model"
   ]
  },
  {
   "cell_type": "code",
   "execution_count": 325,
   "id": "8cf528ed",
   "metadata": {},
   "outputs": [],
   "source": [
    "from sklearn.model_selection import GridSearchCV, RandomizedSearchCV\n",
    "from sklearn.linear_model import Ridge, Lasso"
   ]
  },
  {
   "cell_type": "code",
   "execution_count": 326,
   "id": "4f379986",
   "metadata": {},
   "outputs": [],
   "source": [
    "ridge_reg_model = Ridge(alpha= 1.0)  # Here bydefault alpha= 1.0 "
   ]
  },
  {
   "cell_type": "code",
   "execution_count": 327,
   "id": "8c56169c",
   "metadata": {},
   "outputs": [
    {
     "data": {
      "text/plain": [
       "Ridge()"
      ]
     },
     "execution_count": 327,
     "metadata": {},
     "output_type": "execute_result"
    }
   ],
   "source": [
    "ridge_reg_model.fit(x_train, y_train)"
   ]
  },
  {
   "cell_type": "markdown",
   "id": "4a10b0ee",
   "metadata": {},
   "source": [
    "### Model evaluation for Training Data"
   ]
  },
  {
   "cell_type": "code",
   "execution_count": 328,
   "id": "2090222e",
   "metadata": {},
   "outputs": [],
   "source": [
    "y_pred_train = ridge_reg_model.predict(x_train)\n",
    "# y_pred_train"
   ]
  },
  {
   "cell_type": "code",
   "execution_count": 329,
   "id": "97077917",
   "metadata": {},
   "outputs": [
    {
     "name": "stdout",
     "output_type": "stream",
     "text": [
      "MSE : 4516320.394639526\n",
      "RMSE : 2125.1636159692566\n",
      "MAE : 1548.773246799949\n",
      "Training Ridge Accuracy : 0.9302614134570761\n"
     ]
    }
   ],
   "source": [
    "mse = mean_squared_error(y_train, y_pred_train)\n",
    "print(\"MSE :\",mse)\n",
    "\n",
    "rmse = np.sqrt(mse)\n",
    "print(\"RMSE :\",rmse)\n",
    "\n",
    "mae = mean_absolute_error(y_train, y_pred_train)\n",
    "print(\"MAE :\",mae)\n",
    "\n",
    "Training_Ridge_Accuracy_r2 = r2_score(y_train, y_pred_train)\n",
    "print(\"Training Ridge Accuracy :\", Training_Ridge_Accuracy_r2)"
   ]
  },
  {
   "cell_type": "markdown",
   "id": "6121315c",
   "metadata": {},
   "source": [
    "### Model evaluation for Testing Data"
   ]
  },
  {
   "cell_type": "code",
   "execution_count": 330,
   "id": "f517ad7a",
   "metadata": {},
   "outputs": [],
   "source": [
    "y_pred = ridge_reg_model.predict(x_test)\n",
    "# y_pred "
   ]
  },
  {
   "cell_type": "code",
   "execution_count": 331,
   "id": "a9b77aa0",
   "metadata": {},
   "outputs": [
    {
     "name": "stdout",
     "output_type": "stream",
     "text": [
      "MSE : 5924875.049188883\n",
      "RMSE : 2434.1066223953467\n",
      "MAE : 1422.45483195054\n",
      "Testing RidgeAccuracy : 0.8752763279855584\n"
     ]
    }
   ],
   "source": [
    "mse = mean_squared_error(y_test, y_pred)\n",
    "print(\"MSE :\",mse)\n",
    "\n",
    "rmse = np.sqrt(mse)\n",
    "print(\"RMSE :\",rmse)\n",
    "\n",
    "mae = mean_absolute_error(y_test, y_pred)\n",
    "print(\"MAE :\",mae)\n",
    "\n",
    "Testing_Ridge_Accuracy_r2 = r2_score(y_test, y_pred)\n",
    "print(\"Testing RidgeAccuracy :\", Testing_Ridge_Accuracy_r2)"
   ]
  },
  {
   "cell_type": "code",
   "execution_count": 332,
   "id": "e7f1062e",
   "metadata": {},
   "outputs": [],
   "source": [
    "# model.coef_\n",
    "\n",
    "# s2 = pd.Series(ridge_reg_model.coef_, index=x.columns)\n",
    "# s2.sort_values().plot(kind = \"barh\")"
   ]
  },
  {
   "cell_type": "markdown",
   "id": "16e4ec1b",
   "metadata": {},
   "source": [
    "# Lasso Regression Model"
   ]
  },
  {
   "cell_type": "code",
   "execution_count": 333,
   "id": "efbb26c5",
   "metadata": {},
   "outputs": [],
   "source": [
    "lasso_reg_model = Lasso(alpha= 1.0)   # Here bydefault alpha= 1.0 "
   ]
  },
  {
   "cell_type": "code",
   "execution_count": 334,
   "id": "b8d33c08",
   "metadata": {},
   "outputs": [
    {
     "data": {
      "text/plain": [
       "Lasso()"
      ]
     },
     "execution_count": 334,
     "metadata": {},
     "output_type": "execute_result"
    }
   ],
   "source": [
    "lasso_reg_model.fit(x_train, y_train)"
   ]
  },
  {
   "cell_type": "markdown",
   "id": "66a45f6b",
   "metadata": {},
   "source": [
    "#### Model evaluation for Training Data"
   ]
  },
  {
   "cell_type": "code",
   "execution_count": 335,
   "id": "07fe112d",
   "metadata": {},
   "outputs": [],
   "source": [
    "y_pred_train = lasso_reg_model.predict(x_train)\n",
    "# y_pred_train"
   ]
  },
  {
   "cell_type": "code",
   "execution_count": 336,
   "id": "b9efcbba",
   "metadata": {},
   "outputs": [
    {
     "name": "stdout",
     "output_type": "stream",
     "text": [
      "MSE : 3379951.092424897\n",
      "RMSE : 1838.464329929982\n",
      "MAE : 1294.8003162708212\n",
      "Training Lasso Accuracy : 0.947808616047326\n"
     ]
    }
   ],
   "source": [
    "mse = mean_squared_error(y_train, y_pred_train)\n",
    "print(\"MSE :\",mse)\n",
    "\n",
    "rmse = np.sqrt(mse)\n",
    "print(\"RMSE :\",rmse)\n",
    "\n",
    "mae = mean_absolute_error(y_train, y_pred_train)\n",
    "print(\"MAE :\",mae)\n",
    "\n",
    "Training_Lasso_Accuracy_r2 = r2_score(y_train, y_pred_train)\n",
    "print(\"Training Lasso Accuracy :\", Training_Lasso_Accuracy_r2)"
   ]
  },
  {
   "cell_type": "markdown",
   "id": "1903d29b",
   "metadata": {},
   "source": [
    "### Model evaluation for Testing Data"
   ]
  },
  {
   "cell_type": "code",
   "execution_count": null,
   "id": "23b6661d",
   "metadata": {},
   "outputs": [],
   "source": [
    "y_pred = lasso_reg_model.predict(x_test)\n",
    "# y_pred"
   ]
  },
  {
   "cell_type": "code",
   "execution_count": null,
   "id": "d92054ec",
   "metadata": {},
   "outputs": [],
   "source": [
    "mse = mean_squared_error(y_test, y_pred)\n",
    "print(\"MSE :\",mse)\n",
    "\n",
    "rmse = np.sqrt(mse)\n",
    "print(\"RMSE :\",rmse)\n",
    "\n",
    "mae = mean_absolute_error(y_test, y_pred)\n",
    "print(\"MAE :\",mae)\n",
    "\n",
    "Testing_Lasso_Accuracy_r2 = r2_score(y_test, y_pred)\n",
    "print(\"Testing Lasso Accuracy :\", Testing_Lasso_Accuracy_r2)"
   ]
  },
  {
   "cell_type": "code",
   "execution_count": null,
   "id": "c47dcc99",
   "metadata": {},
   "outputs": [],
   "source": [
    "# model.coef_\n",
    "\n",
    "# s2 = pd.Series(lasso_reg_model.coef_, index=x.columns)\n",
    "# s2.sort_values().plot(kind = \"barh\")"
   ]
  },
  {
   "cell_type": "raw",
   "id": "94a00d80",
   "metadata": {},
   "source": [
    "# Training Lasso Accuracy : 94.78% Vs Testing Lasso Accuracy : 88.39%\n",
    "# Still model is overfitting\n",
    "# Need to check for Hyperparateter tunning"
   ]
  },
  {
   "cell_type": "markdown",
   "id": "8b5c83fc",
   "metadata": {},
   "source": [
    "# Hyperparameter Tunning"
   ]
  },
  {
   "cell_type": "markdown",
   "id": "62ad5eb1",
   "metadata": {},
   "source": [
    "## Ridge Regression"
   ]
  },
  {
   "cell_type": "markdown",
   "id": "16df30ac",
   "metadata": {},
   "source": [
    "### 1.GridSearchCv"
   ]
  },
  {
   "cell_type": "code",
   "execution_count": null,
   "id": "cfb9499e",
   "metadata": {},
   "outputs": [],
   "source": [
    "ridge_model = Ridge() # Model instance\n",
    "\n",
    "param_grid = {\"alpha\": np.arange(0.01,3,0.01)}  # Defined param_grid\n",
    "\n",
    "gscv_ridge_model = GridSearchCV(ridge_model, param_grid, n_jobs=-1)\n",
    "\n",
    "gscv_ridge_model.fit(x_train, y_train)"
   ]
  },
  {
   "cell_type": "code",
   "execution_count": null,
   "id": "c91991c2",
   "metadata": {},
   "outputs": [],
   "source": [
    "gscv_ridge_model.best_estimator_    #  Here we get the highest cross-validated score which is 0.25"
   ]
  },
  {
   "cell_type": "code",
   "execution_count": null,
   "id": "99bf1b39",
   "metadata": {},
   "outputs": [],
   "source": [
    "ridge_reg_model = Ridge(alpha= 0.25)  # Put best value of alpha here\n",
    "\n",
    "ridge_reg_model.fit(x_train, y_train) # Here we fit the model on traning data"
   ]
  },
  {
   "cell_type": "markdown",
   "id": "c950f728",
   "metadata": {},
   "source": [
    "### Model evaluation for Training Data"
   ]
  },
  {
   "cell_type": "code",
   "execution_count": null,
   "id": "39861403",
   "metadata": {},
   "outputs": [],
   "source": [
    "y_pred_train = ridge_reg_model.predict(x_train)\n",
    "# y_pred_train"
   ]
  },
  {
   "cell_type": "code",
   "execution_count": null,
   "id": "70f5169a",
   "metadata": {},
   "outputs": [],
   "source": [
    "mse = mean_squared_error(y_train, y_pred_train)\n",
    "print(\"MSE :\",mse)\n",
    "\n",
    "rmse = np.sqrt(mse)\n",
    "print(\"RMSE :\",rmse)\n",
    "\n",
    "mae = mean_absolute_error(y_train, y_pred_train)\n",
    "print(\"MAE :\",mae)\n",
    "\n",
    "Training_Ridge_Grid_Accuracy_r2 = r2_score(y_train, y_pred_train)\n",
    "print(\"Training Ridge GridSerchCv Accuracy :\", Training_Ridge_Grid_Accuracy_r2)"
   ]
  },
  {
   "cell_type": "markdown",
   "id": "cfc79671",
   "metadata": {},
   "source": [
    "### Model evaluation for Testing Data"
   ]
  },
  {
   "cell_type": "code",
   "execution_count": null,
   "id": "14e8d38e",
   "metadata": {},
   "outputs": [],
   "source": [
    "y_pred = ridge_reg_model.predict(x_test)"
   ]
  },
  {
   "cell_type": "code",
   "execution_count": null,
   "id": "5b6c6e89",
   "metadata": {},
   "outputs": [],
   "source": [
    "mse = mean_squared_error(y_test, y_pred)\n",
    "print(\"MSE :\",mse)\n",
    "\n",
    "rmse = np.sqrt(mse)\n",
    "print(\"RMSE :\",rmse)\n",
    "\n",
    "mae = mean_absolute_error(y_test, y_pred)\n",
    "print(\"MAE :\",mae)\n",
    "\n",
    "Testing_Ridge_Grid_Accuracy_r2 = r2_score(y_test, y_pred)\n",
    "print(\"Testing Ridge GridSearchCv Accuracy :\", Testing_Ridge_Grid_Accuracy_r2)"
   ]
  },
  {
   "cell_type": "code",
   "execution_count": null,
   "id": "c93a2e41",
   "metadata": {},
   "outputs": [],
   "source": [
    "# Training Ridge GridSerchCv Accuracy : 94.45% vs esting Ridge GridSearchCv Accuracy : 88.35%"
   ]
  },
  {
   "cell_type": "markdown",
   "id": "cfb845e3",
   "metadata": {},
   "source": [
    "## 2.RandomizedSearchCV"
   ]
  },
  {
   "cell_type": "code",
   "execution_count": null,
   "id": "260d7b25",
   "metadata": {},
   "outputs": [],
   "source": [
    "ridge_model = Ridge()   # Model instance\n",
    "\n",
    "param_grid = {\"alpha\": np.arange(0.01,3,0.01)}\n",
    "\n",
    "rscv_ridge_model = RandomizedSearchCV(ridge_model, param_grid, n_jobs=-1)\n",
    "\n",
    "rscv_ridge_model.fit(x_train, y_train)"
   ]
  },
  {
   "cell_type": "code",
   "execution_count": null,
   "id": "7f6a8f7d",
   "metadata": {},
   "outputs": [],
   "source": [
    "rscv_ridge_model.best_estimator_   # here we get best estimator"
   ]
  },
  {
   "cell_type": "code",
   "execution_count": null,
   "id": "aee5b42e",
   "metadata": {},
   "outputs": [],
   "source": [
    "ridge_reg_model = Ridge(alpha= 0.19)  \n",
    "\n",
    "ridge_reg_model.fit(x_train, y_train)"
   ]
  },
  {
   "cell_type": "markdown",
   "id": "384de885",
   "metadata": {},
   "source": [
    "### Model evaluation for Training Data"
   ]
  },
  {
   "cell_type": "code",
   "execution_count": null,
   "id": "76f569a6",
   "metadata": {},
   "outputs": [],
   "source": [
    "y_pred_train = ridge_reg_model.predict(x_train)"
   ]
  },
  {
   "cell_type": "code",
   "execution_count": null,
   "id": "26830d38",
   "metadata": {},
   "outputs": [],
   "source": [
    "Training_Ridge_Random_Accuracy_r2 = r2_score(y_train, y_pred_train)\n",
    "print(\"Training Ridge Random Accuracy :\", Training_Ridge_Random_Accuracy_r2)"
   ]
  },
  {
   "cell_type": "markdown",
   "id": "008cc68f",
   "metadata": {},
   "source": [
    "### Model evaluation for Testing Data"
   ]
  },
  {
   "cell_type": "code",
   "execution_count": null,
   "id": "dec48179",
   "metadata": {},
   "outputs": [],
   "source": [
    "y_pred = ridge_reg_model.predict(x_test)"
   ]
  },
  {
   "cell_type": "code",
   "execution_count": null,
   "id": "4088a236",
   "metadata": {},
   "outputs": [],
   "source": [
    "Testing_Ridge_Random_Accuracy_r2 = r2_score(y_test, y_pred)\n",
    "print(\"Testing Ridge Random Accuracy :\", Testing_Ridge_Random_Accuracy_r2)"
   ]
  },
  {
   "cell_type": "markdown",
   "id": "36d9d8cf",
   "metadata": {},
   "source": [
    "## Lasso Regression"
   ]
  },
  {
   "cell_type": "markdown",
   "id": "8a8cea7d",
   "metadata": {},
   "source": [
    "### 1.GridSearchCv"
   ]
  },
  {
   "cell_type": "code",
   "execution_count": null,
   "id": "a0c490eb",
   "metadata": {},
   "outputs": [],
   "source": [
    "lasso_model = Lasso()\n",
    "\n",
    "param_grid = {\"alpha\": np.arange(0.01,3,0.01)}\n",
    "\n",
    "gscv_lasso_model = GridSearchCV(lasso_model, param_grid, n_jobs=-1)\n",
    "\n",
    "gscv_lasso_model.fit(x_train, y_train)"
   ]
  },
  {
   "cell_type": "code",
   "execution_count": null,
   "id": "105d1cd0",
   "metadata": {},
   "outputs": [],
   "source": [
    "gscv_lasso_model.best_estimator_"
   ]
  },
  {
   "cell_type": "code",
   "execution_count": null,
   "id": "653c9538",
   "metadata": {},
   "outputs": [],
   "source": [
    "lasso_reg_model = Lasso(alpha= 2.9899999999999998)  \n",
    "lasso_reg_model.fit(x_train, y_train)"
   ]
  },
  {
   "cell_type": "markdown",
   "id": "7b3c7497",
   "metadata": {},
   "source": [
    "### Model evaluation for Training Data"
   ]
  },
  {
   "cell_type": "code",
   "execution_count": null,
   "id": "68cd9940",
   "metadata": {},
   "outputs": [],
   "source": [
    "y_pred_train = lasso_reg_model.predict(x_train)"
   ]
  },
  {
   "cell_type": "code",
   "execution_count": null,
   "id": "ff442580",
   "metadata": {},
   "outputs": [],
   "source": [
    "mse = mean_squared_error(y_train, y_pred_train)\n",
    "print(\"MSE :\",mse)\n",
    "\n",
    "rmse = np.sqrt(mse)\n",
    "print(\"RMSE :\",rmse)\n",
    "\n",
    "mae = mean_absolute_error(y_train, y_pred_train)\n",
    "print(\"MAE :\",mae)\n",
    "\n",
    "Training_Lasso_Grid_Accuracy_r2 = r2_score(y_train, y_pred_train)\n",
    "print(\"Training Lasso Grid Accuracy :\", Training_Lasso_Grid_Accuracy_r2)"
   ]
  },
  {
   "cell_type": "markdown",
   "id": "72b0b66f",
   "metadata": {},
   "source": [
    "### Model evaluation for Testing Data"
   ]
  },
  {
   "cell_type": "code",
   "execution_count": null,
   "id": "d71a6674",
   "metadata": {},
   "outputs": [],
   "source": [
    "y_pred = lasso_reg_model.predict(x_test)"
   ]
  },
  {
   "cell_type": "code",
   "execution_count": null,
   "id": "89adc183",
   "metadata": {},
   "outputs": [],
   "source": [
    "mse = mean_squared_error(y_test, y_pred)\n",
    "print(\"MSE :\",mse)\n",
    "\n",
    "rmse = np.sqrt(mse)\n",
    "print(\"RMSE :\",rmse)\n",
    "\n",
    "mae = mean_absolute_error(y_test, y_pred)\n",
    "print(\"MAE :\",mae)\n",
    "\n",
    "Testing_Lasso_Grid_Accuracy_r2 = r2_score(y_test, y_pred)\n",
    "print(\"Testing Lasso Grid Accuracy :\", Testing_Lasso_Grid_Accuracy_r2)"
   ]
  },
  {
   "cell_type": "markdown",
   "id": "6dde244c",
   "metadata": {},
   "source": [
    "## 2.RandomizedSearchCV"
   ]
  },
  {
   "cell_type": "code",
   "execution_count": null,
   "id": "aa397ce8",
   "metadata": {},
   "outputs": [],
   "source": [
    "lasso_model = Lasso()\n",
    "\n",
    "param_grid = {\"alpha\": np.arange(0.01,3,0.01)}\n",
    "\n",
    "rscv_lasso_model = RandomizedSearchCV(lasso_model, param_grid, n_jobs=-1)\n",
    "\n",
    "rscv_lasso_model.fit(x_train, y_train)"
   ]
  },
  {
   "cell_type": "code",
   "execution_count": null,
   "id": "7b86e06b",
   "metadata": {},
   "outputs": [],
   "source": [
    "rscv_lasso_model.best_estimator_"
   ]
  },
  {
   "cell_type": "code",
   "execution_count": null,
   "id": "41ef69eb",
   "metadata": {},
   "outputs": [],
   "source": [
    "lasso_reg_model = Lasso(alpha= 2.96)  \n",
    "lasso_reg_model.fit(x_train, y_train)"
   ]
  },
  {
   "cell_type": "markdown",
   "id": "c8fe09e0",
   "metadata": {},
   "source": [
    "### Model evaluation for Training Data"
   ]
  },
  {
   "cell_type": "code",
   "execution_count": null,
   "id": "10de0987",
   "metadata": {},
   "outputs": [],
   "source": [
    "y_pred_train = lasso_reg_model.predict(x_train)"
   ]
  },
  {
   "cell_type": "code",
   "execution_count": null,
   "id": "6ab1ea5b",
   "metadata": {},
   "outputs": [],
   "source": [
    "mse = mean_squared_error(y_train, y_pred_train)\n",
    "print(\"MSE :\",mse)\n",
    "\n",
    "rmse = np.sqrt(mse)\n",
    "print(\"RMSE :\",rmse)\n",
    "\n",
    "mae = mean_absolute_error(y_train, y_pred_train)\n",
    "print(\"MAE :\",mae)\n",
    "\n",
    "Training_Lasso_Random_Accuracy_r2 = r2_score(y_train, y_pred_train)\n",
    "print(\"Training_Lasso_Random_Accuracy_r2 :\", Training_Lasso_Random_Accuracy_r2)"
   ]
  },
  {
   "cell_type": "markdown",
   "id": "3a3175d8",
   "metadata": {},
   "source": [
    "### Model evaluation for Testing Data"
   ]
  },
  {
   "cell_type": "code",
   "execution_count": null,
   "id": "4a40effe",
   "metadata": {},
   "outputs": [],
   "source": [
    "y_pred = lasso_reg_model.predict(x_test)"
   ]
  },
  {
   "cell_type": "code",
   "execution_count": null,
   "id": "bbaeb250",
   "metadata": {},
   "outputs": [],
   "source": [
    "mse = mean_squared_error(y_test, y_pred)\n",
    "print(\"MSE :\",mse)\n",
    "\n",
    "rmse = np.sqrt(mse)\n",
    "print(\"RMSE :\",rmse)\n",
    "\n",
    "mae = mean_absolute_error(y_test, y_pred)\n",
    "print(\"MAE :\",mae)\n",
    "\n",
    "Testing_Lasso_Random_Accuracy_r2 = r2_score(y_test, y_pred)\n",
    "print(\"Testing_Lasso_Random_Accuracy_r2 :\", Testing_Lasso_Random_Accuracy_r2)"
   ]
  },
  {
   "cell_type": "raw",
   "id": "21bf6d4d",
   "metadata": {},
   "source": [
    "Accuracies achieved after dropping some of the the features:\n",
    "\n",
    "\n",
    "                                          Training data(%)               testing data(%)\n",
    "\n",
    "Linear Regression Mode                        94.79                          88.26\n",
    "\n",
    "Ridge Regression Model                        93.02                          87.52\n",
    "\n",
    "Lasso Regression Model                        94.78                          88.39\n",
    "  \n",
    "Ridge Regression GridSearchCv                 94.45                          88.35\n",
    "\n",
    "Ridge Regression RandamisedSearchCv           94.55                          88.36\n",
    "\n",
    "Lasso Regression GridSearchCv                 94.71                          88.55\n",
    "\n",
    "Lasso Regression RandamisedSearchCv           94.71                          88.55\n",
    "\n",
    "Here as we can clearly see that the Lasso Regression Model is the most suitable model for this dataset among all other models, as it has a high accuracy rate on both the training and testing datasets and is less likely to overfit or underfit the data than the Linear Regression Models and Ridge Regression Models.The hyperparameter tuning through grid search or randomized search somewhat usefull for improving the performance of the Lasso Regression model."
   ]
  },
  {
   "cell_type": "code",
   "execution_count": null,
   "id": "939dabf3",
   "metadata": {},
   "outputs": [],
   "source": []
  },
  {
   "cell_type": "raw",
   "id": "51d168c1",
   "metadata": {},
   "source": [
    "Accuracies achieved before dropping some of the features:-\n",
    "\n",
    "\n",
    "                                          Training data               testing data\n",
    "\n",
    "Linear Regression Mode                       95.69%                      85.97%\n",
    "\n",
    "Ridge Regression Model                        95                         86\n",
    "\n",
    "Lasso Regression Model                        95.68                      85.97\n",
    "  \n",
    "Ridge Regression GridSearchCv                 95.34                      86.05\n",
    "\n",
    "Ridge Regression RandamisedSearchCv           95.45                      86.01\n",
    "\n",
    "Lasso Regression GridSearchCv                 95.60                      86.10\n",
    "\n",
    "Lasso Regression RandamisedSearchCv           95.60                      86.10\n",
    "\n",
    "\n",
    "Here as we can clearly see that model is OVERFITTED after exaustvily doing all known steps....\n",
    "So took a decision to drop some of the columns on the basis of linearity and colinearity...."
   ]
  },
  {
   "cell_type": "code",
   "execution_count": null,
   "id": "942fcd5f",
   "metadata": {},
   "outputs": [],
   "source": []
  },
  {
   "cell_type": "markdown",
   "id": "c537c453",
   "metadata": {},
   "source": [
    "# Testing for user input values"
   ]
  },
  {
   "cell_type": "code",
   "execution_count": null,
   "id": "247af1a0",
   "metadata": {},
   "outputs": [],
   "source": [
    "x.head(1) "
   ]
  },
  {
   "cell_type": "code",
   "execution_count": null,
   "id": "51cb9469",
   "metadata": {},
   "outputs": [],
   "source": []
  }
 ],
 "metadata": {
  "kernelspec": {
   "display_name": "Python 3 (ipykernel)",
   "language": "python",
   "name": "python3"
  },
  "language_info": {
   "codemirror_mode": {
    "name": "ipython",
    "version": 3
   },
   "file_extension": ".py",
   "mimetype": "text/x-python",
   "name": "python",
   "nbconvert_exporter": "python",
   "pygments_lexer": "ipython3",
   "version": "3.9.13"
  }
 },
 "nbformat": 4,
 "nbformat_minor": 5
}
